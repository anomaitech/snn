{
  "cells": [
    {
      "cell_type": "markdown",
      "metadata": {
        "id": "RBNKFLJIobYt"
      },
      "source": [
        "[<img src='https://github.com/jeshraghian/snntorch/blob/master/docs/_static/img/snntorch_alpha_w.png?raw=true' width=\"400\">](https://github.com/jeshraghian/snntorch/)\n",
        "\n",
        "# Tutorial 1 - Spike Encoding\n",
        "## By Jason K. Eshraghian (www.ncg.ucsc.edu)\n",
        "\n",
        "\n",
        "<a href=\"https://colab.research.google.com/github/jeshraghian/snntorch/blob/master/examples/tutorial_1_spikegen.ipynb\">\n",
        "  <img src=\"https://colab.research.google.com/assets/colab-badge.svg\" alt=\"Open In Colab\"/>\n",
        "</a>\n",
        "\n",
        "[<img src='https://github.com/jeshraghian/snntorch/blob/master/docs/_static/img/GitHub-Mark-Light-120px-plus.png?raw=true' width=\"28\">](https://github.com/jeshraghian/snntorch/) [<img src='https://github.com/jeshraghian/snntorch/blob/master/docs/_static/img/GitHub_Logo_White.png?raw=true' width=\"80\">](https://github.com/jeshraghian/snntorch/)\n"
      ]
    },
    {
      "cell_type": "markdown",
      "metadata": {
        "id": "4blpfg4y44uO"
      },
      "source": [
        "The snnTorch tutorial series is based on the following paper. If you find these resources or code useful in your work, please consider citing the following source:\n",
        "\n",
        "> <cite> [Jason K. Eshraghian, Max Ward, Emre Neftci, Xinxin Wang, Gregor Lenz, Girish Dwivedi, Mohammed Bennamoun, Doo Seok Jeong, and Wei D. Lu. \"Training Spiking Neural Networks Using Lessons From Deep Learning\". Proceedings of the IEEE, 111(9) September 2023.](https://ieeexplore.ieee.org/abstract/document/10242251) </cite>"
      ]
    },
    {
      "cell_type": "markdown",
      "metadata": {
        "id": "lnF_PEo5obYv",
        "pycharm": {
          "name": "#%% md\n"
        }
      },
      "source": [
        "In this tutorial, you will learn how to use snnTorch to:\n",
        "* convert datasets into spiking datasets,\n",
        "* how to visualise them,\n",
        "* and how to generate random spike trains."
      ]
    },
    {
      "cell_type": "markdown",
      "metadata": {
        "id": "d7qhH_lt8_mn"
      },
      "source": [
        "# Introduction\n",
        "Light is what we see when the retina converts photons into spikes. Odors are what we smell when volatilised molecules are converted into spikes. Touch is what we feel when nerve endings turn tactile pressure into spikes. The brain trades in the global currency of the *spike*.\n",
        "\n",
        "If our end goal is to build a spiking neural network (SNN), it makes sense to use spikes at the input too. Although it is quite common to use non-spiking inputs (as will be seen in Tutorial 3), part of the appeal of encoding data come from the *three S's*: spikes, sparsity, and static suppression.\n",
        "\n",
        "\n",
        "\n",
        "1.   **Spikes**: (a-b) Biological neurons process and communicate via spikes, which are electrical impulses of approximately 100 mV in amplitude. (c) Many computational models of neurons simplify this voltage burst to a discrete, single-bit event: a '1' or a '0'. This is far simpler to represent in hardware than a high precision value.\n",
        "\n",
        "2.   **Sparsity**: (c) Neurons spend most of their time at rest, silencing most activations to *zero* at any given time. Not only are sparse vectors/tensors (with loads of zeros) cheap to store, but say we need to multiply sparse activations with synaptic weights. If most values are multiplied by '0', then we don't need to read many of the network parameters from memory. This means neuromorphic hardware can be extremely efficient.\n",
        "\n",
        "3.   **Static-Suppression (a.k.a, event-driven processing**: (d-e) The sensory periphery only processes information when there is new information to process. Each pixel in (e) responds to *changes* in illuminance, so most of the image is blocked out. Conventional signal processing requires all channels/pixels to adhere to a global sampling/shutter rate, which slows down how frequently sensing can take place. Event-driven processing now only contributes to sparsity and power-efficiency by blocking unchanging input, but it often allows for much faster processing speeds.\n",
        "\n",
        "\n",
        "<center>\n",
        "<img src='https://github.com/jeshraghian/snntorch/blob/master/docs/_static/img/examples/tutorial1/3s.png?raw=true' width=\"600\">\n",
        "</center>"
      ]
    },
    {
      "cell_type": "markdown",
      "metadata": {
        "id": "lGNOnFM4DzHY"
      },
      "source": [
        "In this tutorial, we will assume we have some non-spiking input data (i.e., the MNIST dataset) and that we want to encode it into spikes using a few different techniques. So let's get started!"
      ]
    },
    {
      "cell_type": "markdown",
      "metadata": {
        "id": "GAbXmmVN50Pl"
      },
      "source": [
        "Install the latest PyPi distribution of snnTorch:"
      ]
    },
    {
      "cell_type": "code",
      "execution_count": 1,
      "metadata": {
        "id": "jxLoYgkhobYw",
        "pycharm": {
          "name": "#%%\n"
        },
        "outputId": "7620a482-9650-4ff7-cdb3-c2020aae0f37",
        "colab": {
          "base_uri": "https://localhost:8080/"
        }
      },
      "outputs": [
        {
          "output_type": "stream",
          "name": "stdout",
          "text": [
            "Collecting snntorch\n",
            "  Downloading snntorch-0.9.4-py2.py3-none-any.whl.metadata (15 kB)\n",
            "Downloading snntorch-0.9.4-py2.py3-none-any.whl (125 kB)\n",
            "\u001b[?25l   \u001b[90m━━━━━━━━━━━━━━━━━━━━━━━━━━━━━━━━━━━━━━━━\u001b[0m \u001b[32m0.0/125.6 kB\u001b[0m \u001b[31m?\u001b[0m eta \u001b[36m-:--:--\u001b[0m\r\u001b[2K   \u001b[90m━━━━━━━━━━━━━━━━━━━━━━━━━━━━━━━━━━━━━━━━\u001b[0m \u001b[32m125.6/125.6 kB\u001b[0m \u001b[31m6.7 MB/s\u001b[0m eta \u001b[36m0:00:00\u001b[0m\n",
            "\u001b[?25hInstalling collected packages: snntorch\n",
            "Successfully installed snntorch-0.9.4\n"
          ]
        }
      ],
      "source": [
        "!pip install snntorch"
      ]
    },
    {
      "cell_type": "markdown",
      "metadata": {
        "id": "k6E7VH5kbTmA"
      },
      "source": [
        "## 1. Setting up the MNIST Dataset"
      ]
    },
    {
      "cell_type": "markdown",
      "metadata": {
        "id": "Suffg8_ZobYw",
        "pycharm": {
          "name": "#%% md\n"
        }
      },
      "source": [
        "### 1.1. Import packages and setup environment"
      ]
    },
    {
      "cell_type": "code",
      "execution_count": 2,
      "metadata": {
        "id": "cR9okh0jobYx",
        "pycharm": {
          "name": "#%%\n"
        }
      },
      "outputs": [],
      "source": [
        "import snntorch as snn\n",
        "import torch"
      ]
    },
    {
      "cell_type": "code",
      "execution_count": 3,
      "metadata": {
        "id": "e4LPD0WCobYx",
        "pycharm": {
          "name": "#%%\n"
        }
      },
      "outputs": [],
      "source": [
        "# Training Parameters\n",
        "batch_size=128\n",
        "data_path='/tmp/data/mnist'\n",
        "num_classes = 10  # MNIST has 10 output classes\n",
        "\n",
        "# Torch Variables\n",
        "dtype = torch.float"
      ]
    },
    {
      "cell_type": "markdown",
      "metadata": {
        "id": "x5X2a5a9obYy"
      },
      "source": [
        "### 1.2 Download Dataset"
      ]
    },
    {
      "cell_type": "code",
      "execution_count": 4,
      "metadata": {
        "id": "OlbY8Rm9obYy",
        "pycharm": {
          "name": "#%%\n"
        },
        "outputId": "ad0a62c0-af2f-41f9-be7a-be47e2a314f8",
        "colab": {
          "base_uri": "https://localhost:8080/"
        }
      },
      "outputs": [
        {
          "output_type": "stream",
          "name": "stderr",
          "text": [
            "100%|██████████| 9.91M/9.91M [00:00<00:00, 18.5MB/s]\n",
            "100%|██████████| 28.9k/28.9k [00:00<00:00, 489kB/s]\n",
            "100%|██████████| 1.65M/1.65M [00:00<00:00, 4.48MB/s]\n",
            "100%|██████████| 4.54k/4.54k [00:00<00:00, 8.62MB/s]\n"
          ]
        }
      ],
      "source": [
        "from torchvision import datasets, transforms\n",
        "\n",
        "# Define a transform\n",
        "transform = transforms.Compose([\n",
        "            transforms.Resize((28,28)),\n",
        "            transforms.Grayscale(),\n",
        "            transforms.ToTensor(),\n",
        "            transforms.Normalize((0,), (1,))])\n",
        "\n",
        "mnist_train = datasets.MNIST(data_path, train=True, download=True, transform=transform)"
      ]
    },
    {
      "cell_type": "markdown",
      "metadata": {
        "id": "6ZyzEp9YHgPb"
      },
      "source": [
        "If the above code block throws an error, e.g. the MNIST servers are down, then uncomment the following code instead."
      ]
    },
    {
      "cell_type": "code",
      "execution_count": 5,
      "metadata": {
        "id": "ZpGLLVqeHgwy"
      },
      "outputs": [],
      "source": [
        "# # temporary dataloader if MNIST service is unavailable\n",
        "# !wget www.di.ens.fr/~lelarge/MNIST.tar.gz\n",
        "# !tar -zxvf MNIST.tar.gz\n",
        "\n",
        "# mnist_train = datasets.MNIST(root = './', train=True, download=True, transform=transform)"
      ]
    },
    {
      "cell_type": "markdown",
      "metadata": {
        "id": "T5wXl2bVobYz",
        "pycharm": {
          "name": "#%% md\n"
        }
      },
      "source": [
        "Until we actually start training a network, we won't need large datasets.\n",
        "`snntorch.utils` contains a few useful functions for modifying datasets. Apply `data_subset` to reduce the dataset by the factor defined in `subset`. *E.g., for `subset=10`, a training set of 60,000 will be reduced to 6,000.*\n"
      ]
    },
    {
      "cell_type": "code",
      "execution_count": 6,
      "metadata": {
        "id": "5FPsPU46obYz",
        "pycharm": {
          "name": "#%%\n"
        },
        "outputId": "aee226f8-5708-4295-eef9-16291f115027",
        "colab": {
          "base_uri": "https://localhost:8080/"
        }
      },
      "outputs": [
        {
          "output_type": "stream",
          "name": "stdout",
          "text": [
            "The size of mnist_train is 6000\n"
          ]
        }
      ],
      "source": [
        "from snntorch import utils\n",
        "\n",
        "subset = 10\n",
        "mnist_train = utils.data_subset(mnist_train, subset)\n",
        "print(f\"The size of mnist_train is {len(mnist_train)}\")"
      ]
    },
    {
      "cell_type": "markdown",
      "metadata": {
        "id": "9CedMagsobY0",
        "pycharm": {
          "name": "#%% md\n"
        }
      },
      "source": [
        "### 1.3 Create DataLoaders\n",
        "The Dataset objects created above load data into memory, and the DataLoader will serve it up in batches. DataLoaders in PyTorch are a handy interface for passing data into a network. They return an iterator divided up into mini-batches of size ``batch_size``."
      ]
    },
    {
      "cell_type": "code",
      "execution_count": 7,
      "metadata": {
        "id": "TrJLlWj2obY0",
        "pycharm": {
          "name": "#%%\n"
        }
      },
      "outputs": [],
      "source": [
        "from torch.utils.data import DataLoader\n",
        "\n",
        "train_loader = DataLoader(mnist_train, batch_size=batch_size, shuffle=True)"
      ]
    },
    {
      "cell_type": "markdown",
      "metadata": {
        "id": "mwSdczxKobY0",
        "pycharm": {
          "name": "#%% md\n"
        }
      },
      "source": [
        "## 2. Spike Encoding\n",
        "\n",
        "Spiking Neural Networks (SNNs) are made to exploit time-varying data. And yet, MNIST is not a time-varying dataset.\n",
        "There are two options for using MNIST with an SNN:\n",
        "\n",
        "1. Repeatedly pass the same training sample $\\mathbf{X}\\in\\mathbb{R}^{m\\times n}$ to the network at each time step. This is like converting MNIST into a static, unchanging video. Each element of $\\mathbf{X}$ can take a high precision value normalized between 0 and 1: $X_{ij}\\in [0, 1]$.\n",
        "\n",
        "<center>\n",
        "<img src='https://github.com/jeshraghian/snntorch/blob/master/docs/_static/img/examples/tutorial1/1_2_1_static.png?raw=true' width=\"700\">\n",
        "</center>\n",
        "\n",
        "2. Convert the input into a spike train of sequence length `num_steps`, where each feature/pixel takes on a discrete value $X_{i,j} \\in \\{0, 1\\}$.\n",
        "In this case, MNIST is converted into a time-varying sequence of spikes that features a relation to the original image.\n",
        "\n",
        "<center>\n",
        "<img src='https://github.com/jeshraghian/snntorch/blob/master/docs/_static/img/examples/tutorial1/1_2_2_spikeinput.png?raw=true' width=\"700\">\n",
        "</center>\n",
        "\n",
        "The first method is quite straightforward, and does not fully exploit the temporal dynamics of SNNs. So let’s consider data-to-spike conversion (encoding) from (2) in more detail.\n",
        "\n",
        "The module `snntorch.spikegen` (i.e., spike generation) contains a series of functions that simplify the conversion of data into spikes. There are currently three options available for spike encoding in `snntorch`:\n",
        "\n",
        "1. Rate coding: [`spikegen.rate`](https://snntorch.readthedocs.io/en/latest/snntorch.spikegen.html#snntorch.spikegen.rate)\n",
        "2. Latency coding: [`spikegen.latency`](https://snntorch.readthedocs.io/en/latest/snntorch.spikegen.html#snntorch.spikegen.latency)\n",
        "3. Delta modulation: [`spikegen.delta`](https://snntorch.readthedocs.io/en/latest/snntorch.spikegen.html#snntorch.spikegen.delta)\n",
        "\n",
        "How do these differ?\n",
        "\n",
        "\n",
        "1.   *Rate coding* uses input features to determine spiking **frequency**\n",
        "2.   *Latency coding* uses input features to determine spike **timing**\n",
        "3.   *Delta modulation* uses the temporal **change** of input features to generate spikes\n"
      ]
    },
    {
      "cell_type": "markdown",
      "metadata": {
        "id": "3D5HSoY4bQDm"
      },
      "source": [
        "### 2.1 Rate coding of MNIST\n",
        "\n",
        "One example of converting input data into a rate code is as follows.\n",
        "Each normalised input feature $X_{ij}$ is used as the probability an event (spike) occurs at any given time step, returning a rate-coded value $R_{ij}$. This can be treated as a Bernoulli trial: $R_{ij}\\sim B(n,p)$, where the number of trials is $n=1$, and the probability of success (spiking) is $p=X_{ij}$. Explicitly, the probability a spike occurs is:\n",
        "\n",
        "$${\\rm P}(R_{ij}=1) = X_{ij} = 1 - {\\rm P}(R_{ij} = 0)$$\n",
        "\n",
        "Create a vector filled with the value '0.5' and encode it using the above technique:"
      ]
    },
    {
      "cell_type": "code",
      "execution_count": 8,
      "metadata": {
        "id": "DxorUvomL1ei",
        "outputId": "69f7b613-b91d-44b9-bd7e-8df9d51ce757",
        "colab": {
          "base_uri": "https://localhost:8080/"
        }
      },
      "outputs": [
        {
          "output_type": "stream",
          "name": "stdout",
          "text": [
            "Converted vector: tensor([1., 0., 0., 1., 0., 0., 1., 1., 0., 1.])\n",
            "The output is spiking 50.00% of the time.\n"
          ]
        }
      ],
      "source": [
        "# Temporal Dynamics\n",
        "num_steps = 10\n",
        "\n",
        "# create vector filled with 0.5\n",
        "raw_vector = torch.ones(num_steps)*0.5\n",
        "\n",
        "# pass each sample through a Bernoulli trial\n",
        "rate_coded_vector = torch.bernoulli(raw_vector)\n",
        "print(f\"Converted vector: {rate_coded_vector}\")\n",
        "\n",
        "print(f\"The output is spiking {rate_coded_vector.sum()*100/len(rate_coded_vector):.2f}% of the time.\")"
      ]
    },
    {
      "cell_type": "markdown",
      "metadata": {
        "id": "l0E8Z8mSNflV"
      },
      "source": [
        "Now try again, but increasing the length of `raw_vector`:"
      ]
    },
    {
      "cell_type": "code",
      "execution_count": 9,
      "metadata": {
        "id": "Y6uUgpktNjBg",
        "outputId": "00be131c-666c-4831-9343-cb9bdb7ca4b1",
        "colab": {
          "base_uri": "https://localhost:8080/"
        }
      },
      "outputs": [
        {
          "output_type": "stream",
          "name": "stdout",
          "text": [
            "The output is spiking 46.00% of the time.\n"
          ]
        }
      ],
      "source": [
        "num_steps = 100\n",
        "\n",
        "# create vector filled with 0.5\n",
        "raw_vector = torch.ones(num_steps)*0.5\n",
        "\n",
        "# pass each sample through a Bernoulli trial\n",
        "rate_coded_vector = torch.bernoulli(raw_vector)\n",
        "print(f\"The output is spiking {rate_coded_vector.sum()*100/len(rate_coded_vector):.2f}% of the time.\")"
      ]
    },
    {
      "cell_type": "markdown",
      "metadata": {
        "id": "zoLxfVoINzdH"
      },
      "source": [
        "As `num_steps`$\\rightarrow\\infty$, the proportion of spikes approaches the original raw value."
      ]
    },
    {
      "cell_type": "markdown",
      "metadata": {
        "id": "eYKsWmoGLz6S"
      },
      "source": [
        "For an MNIST image, this probability of spiking corresponds to the pixel value. A white pixel corresponds to a 100% probability of spiking, and a black pixel will never generate a spike. Take a look at the 'Rate Coding' column below for further intuition.\n",
        "\n",
        "\n",
        "<center>\n",
        "<img src='https://github.com/jeshraghian/snntorch/blob/master/docs/_static/img/examples/tutorial1/1_2_3_spikeconv.png?raw=true' width=\"1000\">\n",
        "</center>"
      ]
    },
    {
      "cell_type": "markdown",
      "metadata": {
        "id": "k8_Lzm6FOcm0"
      },
      "source": [
        "In a similar way, `spikegen.rate` can be used to generate a rate-coded sample of data. As each sample of MNIST is just an image, we can use `num_steps` to repeat it across time."
      ]
    },
    {
      "cell_type": "code",
      "execution_count": 10,
      "metadata": {
        "id": "nz70JGXqobY1",
        "pycharm": {
          "name": "#%%\n"
        }
      },
      "outputs": [],
      "source": [
        "from snntorch import spikegen\n",
        "\n",
        "# Iterate through minibatches\n",
        "data = iter(train_loader)\n",
        "data_it, targets_it = next(data)\n",
        "\n",
        "# Spiking Data\n",
        "spike_data = spikegen.rate(data_it, num_steps=num_steps)"
      ]
    },
    {
      "cell_type": "markdown",
      "metadata": {
        "id": "q0hATEwKobY1",
        "pycharm": {
          "name": "#%% md\n"
        }
      },
      "source": [
        "If the input falls outside of $[0,1]$, this no longer represents a probability. Such cases are automatically clipped to ensure the feature represents a probability.\n",
        "\n",
        "The structure of the input data is ``[num_steps x batch_size x input dimensions]``:"
      ]
    },
    {
      "cell_type": "code",
      "execution_count": 11,
      "metadata": {
        "id": "ebdP5kFKobY2",
        "pycharm": {
          "name": "#%%\n"
        },
        "outputId": "6cc8239b-0573-42cc-fe79-9085a4c3f52a",
        "colab": {
          "base_uri": "https://localhost:8080/"
        }
      },
      "outputs": [
        {
          "output_type": "stream",
          "name": "stdout",
          "text": [
            "torch.Size([100, 128, 1, 28, 28])\n"
          ]
        }
      ],
      "source": [
        "print(spike_data.size())"
      ]
    },
    {
      "cell_type": "markdown",
      "metadata": {
        "id": "Cnas5Q89l_10"
      },
      "source": [
        "### 2.2 Visualization"
      ]
    },
    {
      "cell_type": "markdown",
      "metadata": {
        "id": "oVFuIXxMobY2",
        "pycharm": {
          "name": "#%% md\n"
        }
      },
      "source": [
        "#### 2.2.1 Animation\n",
        "snnTorch contains a module [`snntorch.spikeplot`](https://snntorch.readthedocs.io/en/latest/snntorch.spikeplot.html) that simplifies the process of visualizing, plotting, and animating spiking neurons.\n"
      ]
    },
    {
      "cell_type": "code",
      "execution_count": 12,
      "metadata": {
        "id": "4TYFlc4_ZK-u"
      },
      "outputs": [],
      "source": [
        "import matplotlib.pyplot as plt\n",
        "import snntorch.spikeplot as splt\n",
        "from IPython.display import HTML"
      ]
    },
    {
      "cell_type": "markdown",
      "metadata": {
        "id": "fwWROIkdobY3",
        "pycharm": {
          "name": "#%% md\n"
        }
      },
      "source": [
        "To plot one sample of data, index into a single sample from the batch (B) dimension of `spike_data`, ``[T x B x 1 x 28 x 28]``:"
      ]
    },
    {
      "cell_type": "code",
      "execution_count": 13,
      "metadata": {
        "id": "ZZxTqqOlobY3",
        "pycharm": {
          "name": "#%%\n"
        },
        "outputId": "1654ecb8-e338-4b13-e5a5-51590cde27b0",
        "colab": {
          "base_uri": "https://localhost:8080/"
        }
      },
      "outputs": [
        {
          "output_type": "stream",
          "name": "stdout",
          "text": [
            "torch.Size([100, 28, 28])\n"
          ]
        }
      ],
      "source": [
        "spike_data_sample = spike_data[:, 0, 0]\n",
        "print(spike_data_sample.size())"
      ]
    },
    {
      "cell_type": "markdown",
      "metadata": {
        "id": "lJJyPUiuQ61x"
      },
      "source": [
        "`spikeplot.animator` makes it super simple to animate 2-D data.<br>\n",
        "Note: if you are running the notebook locally you may need to install ffmpeg: e.g., `pip install ffmpeg` or if in a Conda environment, `conda install -c conda-forge ffmpeg`.<br>\n",
        "If ffmpeg is not found, please uncomment the line below and modify the path to your ffmpeg.exe."
      ]
    },
    {
      "cell_type": "code",
      "execution_count": 14,
      "metadata": {
        "id": "4QVyvj9PobY3",
        "pycharm": {
          "name": "#%%\n"
        },
        "outputId": "3a0d6073-a576-46e2-d62e-c439a25bb0a5",
        "colab": {
          "base_uri": "https://localhost:8080/",
          "height": 890
        }
      },
      "outputs": [
        {
          "output_type": "execute_result",
          "data": {
            "text/plain": [
              "<IPython.core.display.HTML object>"
            ],
            "text/html": [
              "<video width=\"640\" height=\"480\" controls autoplay loop>\n",
              "  <source type=\"video/mp4\" src=\"data:video/mp4;base64,AAAAIGZ0eXBNNFYgAAACAE00ViBpc29taXNvMmF2YzEAAAAIZnJlZQAAXAptZGF0AAACrgYF//+q\n",
              "3EXpvebZSLeWLNgg2SPu73gyNjQgLSBjb3JlIDE2MyByMzA2MCA1ZGI2YWE2IC0gSC4yNjQvTVBF\n",
              "Ry00IEFWQyBjb2RlYyAtIENvcHlsZWZ0IDIwMDMtMjAyMSAtIGh0dHA6Ly93d3cudmlkZW9sYW4u\n",
              "b3JnL3gyNjQuaHRtbCAtIG9wdGlvbnM6IGNhYmFjPTEgcmVmPTMgZGVibG9jaz0xOjA6MCBhbmFs\n",
              "eXNlPTB4MzoweDExMyBtZT1oZXggc3VibWU9NyBwc3k9MSBwc3lfcmQ9MS4wMDowLjAwIG1peGVk\n",
              "X3JlZj0xIG1lX3JhbmdlPTE2IGNocm9tYV9tZT0xIHRyZWxsaXM9MSA4eDhkY3Q9MSBjcW09MCBk\n",
              "ZWFkem9uZT0yMSwxMSBmYXN0X3Bza2lwPTEgY2hyb21hX3FwX29mZnNldD0tMiB0aHJlYWRzPTMg\n",
              "bG9va2FoZWFkX3RocmVhZHM9MSBzbGljZWRfdGhyZWFkcz0wIG5yPTAgZGVjaW1hdGU9MSBpbnRl\n",
              "cmxhY2VkPTAgYmx1cmF5X2NvbXBhdD0wIGNvbnN0cmFpbmVkX2ludHJhPTAgYmZyYW1lcz0zIGJf\n",
              "cHlyYW1pZD0yIGJfYWRhcHQ9MSBiX2JpYXM9MCBkaXJlY3Q9MSB3ZWlnaHRiPTEgb3Blbl9nb3A9\n",
              "MCB3ZWlnaHRwPTIga2V5aW50PTI1MCBrZXlpbnRfbWluPTI1IHNjZW5lY3V0PTQwIGludHJhX3Jl\n",
              "ZnJlc2g9MCByY19sb29rYWhlYWQ9NDAgcmM9Y3JmIG1idHJlZT0xIGNyZj0yMy4wIHFjb21wPTAu\n",
              "NjAgcXBtaW49MCBxcG1heD02OSBxcHN0ZXA9NCBpcF9yYXRpbz0xLjQwIGFxPTE6MS4wMACAAAAF\n",
              "d2WIhAA3//728P4FNjuY0JcRzeidMx+/Fbi6NDe9zgAAAwAAAwAAAwG5pYX/dnfziCAAAAMAdsAV\n",
              "r+/ghHykB3/JgjRY8AzRUd7vzLlY0XhabljQ+Z7e0r0cjJpdjSs4OgtoX9lhEhC58g8CYk8nWvvD\n",
              "KlFEfjONRmu5kU8kSX8TF1oMinLkg92a+kzM+sf/yAAxTffwZ7b3UeZJxRx9CSHRazUFDpvvb5m1\n",
              "s+NummPjGJfVCNMmo6/yvWckOfpV5BO38cblVhQ+jpsLI3njztWxGELP1I4phmTkCD8/Hrsvk3H4\n",
              "J/ahhrnPoPqvAIj5BJqfyVu14pZVm/ElVF0yfbXx9kyMp+tEnfdAFQ+WAjgLJvKCTAOBvFULW/BA\n",
              "GqPIbULcnfHfkVgiH4IiFGESWc28jKlqisHk47ZX8wNURps0S8dCjs+QUVs6YN7kChgDvq0so6Em\n",
              "F+cbbMAq7XAPdV8LmnNQRabmEzYA4G+61ny/tFTaB1ZyJiVXm/I+a5ZYHycyBbB7URIBWSfo7rT7\n",
              "lnT0+TvjcH3VbAQUJH3X/WiR1DbKPhVAxchmg1feQv+GSlEz+Mf5OHRHznSl/RF/SWO/7MdAXfCG\n",
              "jG1YQ2OSQy4pej3YfMwa3v5ROAUZ2/gnuT6e2sT5qdJwvRoxpcTn5sk7X+uVJHJFhiXkrrAXuAl3\n",
              "dy959foBTSGS3w0C+I+YG1ivw1JVOxjEBR/WrgEDSf26kGrPo4BKe1mYvAnsM0Ek5e7RZJ/v04Ax\n",
              "fTA9/JjrNpbIvyGaqrNT/8h7tJjyuxm48RU11cV8BhvUFqs42/7fqe8I3pL4raYfOK4Z6kvrMMso\n",
              "8cOZRuB6A7DCDwzZOA8DHEAP0yc5shS3rB7bJpLV706H3QSTO3vl42hOnVoRlOuratPCfPNhMqt2\n",
              "vrS6oakpdBmyrKdDe/A8qP4il5YlE8t6buHx6Xs4C6UpkmK4/AdVDJdZfmhpJfO0dXcVgX9k4Sk+\n",
              "vZG7fJ42W0BjuWnfKuEA7sgmwiYtP6Ggwk+6ebEeBcDp4Sdhd3bbiyE1uRubTWQly0tK7psG+9eY\n",
              "+7mN72lHDMkiVCoss73qK0jr0lwJiUw10JeukGL8n6/3OL58L+7asisgjy+ShwE+g6uXfgR8FvAd\n",
              "EBUAmU8IBRmr8FrtgVJVZbMRG217oyyV5rexmsUN9iJ1YloLmC6cWZEk/unWeZv2HxkAqvxvIsUQ\n",
              "ffB/qTyTPz5+tmjFm5SbMzykcU5Km35RGiWUxrqeVxKN8GYdha3UryWt3mGdiVUSFMC3SfvfhRce\n",
              "3sv9Rqx5vxRBrNa2Qa6WtmJ7iOR9oMr3rrIYzmlfoUQIhnt42pMMVX37yhg+7rCdQmQMr2hnJBjs\n",
              "w2R8lZP97epTjcLSGv3gxgB2CGlK1Irn0JWJsjCLMkjp6Ue/37Rgoh06Z3bczqTH2ZFPipR4RbKz\n",
              "16ReOHopW9nF2hxWhGt6W8LVX0yc3Wu9AfJfVvxSrv5e88SB5pflVI44gnR3TUc+0nOBHauCCqxd\n",
              "Avf8Y/9hk5ACIdlSveZMnrPpp6Ywl/M3kJQxKjM2kWtxZal6iCUoh0n6ETDOxsZbG+VMbiJHhNLV\n",
              "1ABWa0vdpB5qyqEiZ6jPD3NNJeYp0V6/Vkw3+r5rJh7co5DPwHx5AuLznXI7/QN7IUi79+Q/ZJOf\n",
              "Hb/UnBxrWSQ0PtW/fdU3u8TUdTIq2BxLZCHbxd6UY0FVuai5EuEkIgtwjCu9DTIktsC6JJqGpix6\n",
              "gtbMSTbFcGDTgg6pmE4OEYYkgpxB2LVXD3qhzG9iUr8gQ+x92D4TLlDzF3MK7/QIBpJmtcBGjUzA\n",
              "j4hs6KuJu2bO/En3y/owZJOUvEcAAAMAQVNIkLAAAW8AAAIRQZohbEN//qeEAABLv0NDIRnUbLsl\n",
              "3n0r7QASN9fjwUx4YWmEJUFRefDe6jR7cTzxp/oyNDFR15M0SpqMKN39Csd1WNiaf8rNXseSF1k1\n",
              "qmM+IxgVf2WQBhXcMWQhlwAyQuPq90dT6hgUb2G8St9aFwIDhMKQX/9wffzf9IdItntsRPZXfvdU\n",
              "Yu6qJHEmh281dsssJ305v2lP5yzrf/HHsG4k1PsX/b1LD+otKv7i7/dZOYClTjhWddcpkj0W08TR\n",
              "De3dF4OngGuMqxdCQi8CXYDWriwYgby7CklpAk9QHHIBbaOUT7NOo00dXR3heh1XCj8EwFFtfAIk\n",
              "h96n5y3xxk20hhD4Ep4GFq39aIVLr4EJqNXnSBQTw+5XxQDns2SM8PtNU3W/JhFeuSSDvcEchNaU\n",
              "O4XMJ+TokTNUcGL6UFDtKDdJFDH/JShiwBdi1f5zSGAqIWTh+7ts7Z03/lIuB98UTTQZPkJXNnHN\n",
              "ZS2m494C77PDtB+fLsPR1mvmO1FAdzi2IaT3nZeOlCQuZsr/5/mIUllbFE4WUaf2KMhmMrMmJnY/\n",
              "SbzUrX15rZzcQwiTyQz+hXmnnBpIn3uAZ16SWEJ0DifHqW1hPYfbyDDn5ErxsXhxRV4eFdArSTqU\n",
              "/q94FSnA4JMIsbd3bgxVVZ5sKkIoa2W/LkqSgX1PkwWKeWmWYSNYeWY5lfwEdj/M5CJgwAAAAe1B\n",
              "mkM8IZMphDv//qmWAAAlBsJgACQ+CASj/HodUfgc5uYzw85+SWqiBKHZDLdm3H8NsSURC9/kpozM\n",
              "q77VI8bj8KI9crI+rKGPCKobsPn74Oulsw4KFgRm9g2asRLu59dGncHoJEcvHMdj5EDzb8Wpz0E6\n",
              "PgwwU7dN2pMfSVEUPjtXiHw0rLlcziMCvduiEP2pJwWjv7aOtDSP2OtADdzVZsEgoe4i6FWfN5Cd\n",
              "Tdovd9XOpHS2KcPxIfWPJgfJxRlhoCdeYiyiIb4m/Zd1MSwi2LvVbV7PuI0NSz3jFjmNFEEZaUyy\n",
              "rb8y52ZnKpHJgr7oW2DXTu7gfDflaCg/IlPMu0HO7eHu14NoxsvN4e+FY/azJS3Koi18LdcmOAZZ\n",
              "q40Hxkl69A5dma9M3IyqR8KoohDCc6YCUOYawDlN2wT4tyZV6tSYrWHZ5mKusjRaYS8A1BYCR8l4\n",
              "JFiJi5V3auSMqHQ1RCRpWs8YizTbtkTxWprrxUENq/BOQF0bs9a/egm7f6//YCfvCdkU/THfDI9Q\n",
              "wtyuUxqZzJllQJpzKjKplBX44JVzVpPT04nydmbSld+XyhhKAAAVDvoi66q5NWeDFqZtBuHezH5G\n",
              "x92mf82DcPkk0jjjrOhl3AIiiil0VeuUnApDqFxAQgx9AXWBAAAA2QGeYmpCvwAAPNXjznWDczGX\n",
              "/Z2fKDQC2YGQU8CEm6P/wK5eJPBpuW28aKujSmHAV+sk6Dy2NMAIpUgAHZ3niVuMjf/RPacrOzD1\n",
              "ww9Tgzapkard6oUwp6/Drudz7Fo58dUME7nk9CC+Jr451dinbBd5b/PbZqtjXIiV+gODlYRn/BbS\n",
              "ohPc4N+ecKN8oKcXOhpJZzf/boEupq64mcT7w6JlR6hg1z7S/h+iBNnfc6lzNqa2F5bZafWB1kPO\n",
              "jLQeW4Hz3zzEdKsUPzaLMy3qPhe+vrsb+Wegn8AAAADqQZplSeEPJlMFPDv//qmWAABnwju6rd0M\n",
              "k9ElYBTZOpjlpxjfvvIEWO70Sp40DN7lfwoCy/lF4Bbfh7U+Y9Bz6M+TzbsIwbQrHYKUyDmde+8S\n",
              "2sgLgDvu8g1qEsHbGll9rbsEj4nEZ8GRkfMZg5rITAIVMC/Tuy8MKptNfBK/jH/7EaknnR0xO6kv\n",
              "hpW1NUSUHhEPJEeCFcdDD3eZ0L4zEbfgvMZbpbCWCo4ekmebESsw75pplmLcNUAdBAPXPORJLqEn\n",
              "9EQ5XzmXMGg8lVAFcayDXJnHlgMWmOYkc4VM9y5tdFkY0Cn/0QnxAAAAtwGehGpCvwAAqDTgwzw4\n",
              "DZ+29kAyCngQkmyd7kQI/EFsgADnC/4oo4DzO8E03r93KnDT3VRifYjln6VJD3xhwQCquigJmiot\n",
              "+eoe/JXE+odiA48oIQAO6a9nszOnY0LbGIjor/E7AdUt2l5NoNsIMBp0J3cmW5qWKkPVdTx+KT6w\n",
              "LWxBkZPUWw1gDGJsiDuv0ntlusAMU9RcBPvr3hunTvXDOkWZBl3xFyl4h6aemZS6BRAJdk96QQAA\n",
              "ARxBmolJ4Q8mUwId//6plgAAZ651jtPQYT1DACvYxlkGnMIv9i1l0bXOINDnZFSwvc1nVYBOokDr\n",
              "xOfT4+uUSNWAABY/2tlCEWPPxrHd8Pke6D1PsndCOB3eEnn6YinSA5+vYsO64yYdz2dnjKVgh6SL\n",
              "EAHnSyRmvqhqN7BNCuH/5HNPHf22HjeLJO2QOjj3WVU6UvueyhfmhLENpfUW4oIQDZ1bERwKhTu6\n",
              "Swl3yXWconayTSFxCsN3ba0GQ9Hel9tNMcglUWp74rhWZNiSOV3zkQKoVKXjyyFnUry7F6AKno8d\n",
              "0hdf0ZDdg4EEJlF9VIUrJ2h8822AVYOOhmX7JZbZ8C+RquMWOHDz2g2leiNdONM0GwgABHRqy8uX\n",
              "pQAAAJ1BnqdFETwv/wAAeZMO7GTxOmPRUrN5lLwkCQb9sXH7dE8R9koB13MfOOuLkzpY9cS+R09h\n",
              "TakgAaN6lCL9CUZ7zqTUGyLp7XfEEuKVV5GF/im3vgr1tkzoBu0xgpTGFRXNA/mVPG3KjHSOY6mq\n",
              "I7tF+j9qOWSCTLpBRrpIEpRS3550CDUyWMf/8MWVPn0+CGSaXdSH7Ot0RCAQKsXlAAAAjgGexnRC\n",
              "vwAAO3DcnytHXCSMSoB+qgTqkLNp668mEqqCN9pNzhdrpCQNTzoIk1mnEhaSlNjluOsCQws43ccr\n",
              "QU2Sxr7n9pLZ57SRyo31jWTRPocUdYcRpWnr0gL5Aai/Sypm2hmsuBpYnUhHjaJ2oCD+BmUuG8Ss\n",
              "0SnCVnu96lf/UnVop9mT0SmGr3cydDAAAAEZAZ7IakK/AACoNPbqkrYeY++rm5XPKxZo/qwChk9w\n",
              "cLXcdqGDj1Ei+I0odyhW0Dmcn2bAAdi703gJclIjzb9aZTNQkfecxx+oP1oizKT+sjB3OtpzCvQ7\n",
              "NK5UNANas3D6eFjLvm507S/lTBwDKPQebyt3KcTxBleH7eaw2T7QGCsxUz+PmRMM5mgrwmGbn7N0\n",
              "DBJsqXO6B0xb0/1t2iNAyp3vb/Ykgz/+xMNw8WvpRcwOhhYVBdiPF5b01t5IdwTyFr30CDWcowxB\n",
              "q3q9c8cDQHBl+GWwspaSPDTQWG3nl6QdEJO/rDfTptN+JQfjBzuGK0yMgwVac12jGqNUw5f4Nj7h\n",
              "qXwTOniNhZvvfGr2uqywc88zA36jb9IAAADfQZrNSahBaJlMCHf//qmWAABnrnWPwpSTaOeuBUQa\n",
              "LMcuHr88CfljJOXq+4dnJSjUfMj5lvOqkY7+KPCdqP54d3WV8qU+8Pnd0l9vX4JGEm5PfQy7h3MW\n",
              "vCNC1QrWn9KfgYUA12zRLefan+J+ds8IxT/MbR9yY4J0FUjaCVE9iRL9nzVqT4iXLXSPypTQeJwC\n",
              "80+hRoXYpFrDE/EpBrOnJ5gCQFkDY98N2r5Ado4mwj0AV7YwszbeWEQgo35OVYSCCWgMO8DRDRVw\n",
              "/QiszxB/hW8MOKbC2Vg+g02tBkCUCQAAAJxBnutFESwv/wAAeHZ9smZK4xrKXayrFKxSaZbavEid\n",
              "sWagsDeSwC4YcTtqR+MPSrgJCdC49WdzK2xuTZb4l0uxMf17WAibpzJeSxm2bicuUV6WKFtMY/f/\n",
              "Z5SF5I74q1QZ1Ue1aqOpmeNZzeQ0ndqqeCqydrG68lU1fIuMGqvoshDyZBIp++Bkt4i2WsRwZ/tz\n",
              "BFCaInZOJhAyNmAAAACHAZ8KdEK/AACoMHAN0ABxB8nfxKpYO+3cEcHd92bj+r8PNBF+wK89iPYL\n",
              "GVUXc87kfDH9ryleUumeYo3iLq7RpGFChN2ItIUEAh27+QvGHRMc95CKnk1x8fQFs42OUhQa/Otg\n",
              "gyaGNb6uOdKGxYvV7kznAINN+Pj4mR5kA11rr2o1/p8snf3+AAAAmwGfDGpCvwAAqHJMz5SuDmN0\n",
              "tOXyiMRXtFsO8l6BtBEoxQplnRt+Bt9FawA5pd4i0ItgAQQeJPEnyrw/7ucFUg9BTi8ReGLKS1fr\n",
              "EqnyQ6AaasTegRjas7TfQ7gNFDf/Hh6Jf2VqQxrKO5vDc7EswI/EWJAlzGi2e5AtWwh1zrcHBLyC\n",
              "L8ldPh7pMYuZ3LkeBv5Rhb8S+bme3LvJAAABWkGbEUmoQWyZTAh3//6plgAAZ7HI17QmarFexJhS\n",
              "f/2qACXqESWLTXJj9XlXxOvD80BoOZfTc9BYB/kWSvcXMz6yj/2QswE0wJKKuYE6fPwrZyT/UCPG\n",
              "GxsYK0nW2m2G9nKUHUQP15bO6GUHu0WANGn3Gs4e3JDN/86ZU78iROUJvvLyJWxkNgGrU2ERSCMO\n",
              "epHUKrq33Zd7NrjZqtBOgQu2A5D0ZK4vMmFa3F3wbwBMNAfFYBq/v22uwHqg+WkzMzGVZ4R5xWB9\n",
              "TdV+XQF/8nAZZCJ7uQG3kU/zru79wL+h9K+nnugfrhar07LDKngA0tx2sbOLoo89ZK0N3uV982r1\n",
              "K4ziFLAtdGYRfZCj2lRsSLgy2dnthGIEP2CBYHDIPIovcvCmnpfs000SGhjuAv3A8pfONucakLjV\n",
              "o7FsvFfMxUu28L0H5SdJaCto0VrJR9CWCDFouKmQtqEAAADKQZ8vRRUsL/8AAHmTFKTVkoqn7Fm8\n",
              "yl3XIeDHmb8lPoEsNiZjfqgL2JUAGxKlf+lTABSraJ9bdhPDH4nKVOkg2HteGe00oPrlawyHD16v\n",
              "2Z8l7HuOWXdA+3czDaoYvqqBK8o19Z+2jr4rqTXg4mdmYQH/0C/NdKJGgpZSRqBT0d0FMudJnqKB\n",
              "SarcixuvpsBRLH1aDasWpCX7cfO9RvscY+8A5pEEZNOuHMDYxHLG5JIvsU7sBhxb6s/5U8PH3DMu\n",
              "wCmB6eoEY+QrdQAAALQBn050Qr8AAKhaGI43s1dlL8n6JNByxtlr9ww/tvP+UnwAr990Ibvnu4oN\n",
              "gRyw2MJubVnG7jlaCmyWNfc/toVi/lvXCpRee9ltEhE6yUxwkpDBStJ1xwo3uGNxoinK8oAvAcYK\n",
              "3ilaYeZRPrlQREb2JS0PBe6i6+RCTrYPIfpAjPrNaGEN+QLmln76OZb7g49gf4UUHAL6uajeGgAk\n",
              "N0i4gGwLEMsz9NLV/7iiv8o3PS8mhMwAAAC/AZ9QakK/AACmWYE7CelnSpOGkr71/1PQbhA496eA\n",
              "xS/AqNWQob/pzJbtCqj+DmEAC3ThBrbzk5eA3tPmNVorSYDZZvRLqAO7G7jkSphasiGxeOnHThCt\n",
              "Oln/yhsYRLoyPrsCCO8MnDrmQEdnrMvhh+7BlAhvOrgOzGm1mmlC5+/xZlRTk3dl8CJTCsMZAHRt\n",
              "177sG/eJJ3I/KrBoHXuigtP4Ce9sjn03MXzcXC8ewff2MFZz0sSM3csBX+IHjPgAAAFUQZtVSahB\n",
              "bJlMCHf//qmWAAAmCpfKggAEh8EAlH+PQ6o/CLUXMZ6wS3PyS1nx2OUnronnWhlTlWffud056c7L\n",
              "3+aXUEaxD1Y7JXXIYcLIFK9dzKXU3t3fwMrIJSkUVuOiHP0iMTZsY/+mBWABMR2zDFGtzy7PIAZC\n",
              "Wi0xdHbm1CQh5H/a4WYon5XwtBjZn2G5cKL/Sh1y9cW/pmFlatsgIZDbPimDIfapSkPwHCjNgvHb\n",
              "mANjbYAKle51iahBNhfklT5HSm248zz8AHGlDEHEYx9p0Qd3PQ3SX8TrPwXhCJA8dpBDxsDoxEgr\n",
              "6wqxNgrAhrQsOsfjuZKbt+TGq7uKzQKfgSgDktd2lOxEEUCcFR9cTujxMZ5jezDJ86/ZIGe/ojvT\n",
              "8UvS4KbG6GZpjUBAeC2sodQk0raSMJXTDnW0AkxY+m29P20pPdfx69nG1u5SH7OqgQAAALFBn3NF\n",
              "FSwv/wAAeaIvypfY1II2PY7jWwE69HHMttB70tVYmG2D10OyhXjtQfWXpn3nAsdyYhbEDHAAJ7//\n",
              "ceGCYvcB1vgnrze+cwMND0rXkYxG4Tihene5dm2pe/MCjdrwwtP+5t0/N7RpSGrzvFedr+yw7u52\n",
              "9z661z/IQSeGFkPtX9jZf3gAItExW+2IS1m7y8mWX/7qJ8LQlJQ9WiYAJJG/A4qqBj2cRqbchBgf\n",
              "wIAAAADgAZ+SdEK/AACmWYE7CebbyEuZ2BJpnGwMcWIQfrhMRMJHAYKDtUeRzQvktmIs3giuVNju\n",
              "nqWsAvRm+yi36cxm4+A2wLWbIHLT0Eq/JxtLkfEP7S1AlDbry8IxSPWAQaVgGy8JJzpmsaStOpMl\n",
              "tKeVWgKZbaLpzTGblxvjFIGn4tzoFGSUXG041TfO1i3dbJHtgYeBLoHGAn0COezWufCGWQgBKuoZ\n",
              "V7K4TVzlqd058qdDg4QWBlyPo9+vp0czWYSRTF67fLT1ozB7ptpR35Nfeei9quBcV0AkRVGiKwRw\n",
              "0fAAAACZAZ+UakK/AACoV/uG8V6CD+r7tPNEEnzCD9Yg/DGqBMl8RDlS3f0Z1aQRQ3NKcrvqZoJl\n",
              "LacBa3DpvhT2v2KwEYD43XNMqfo5gAgKZ9S7/QDNmu4kN3zuOOcakq26Y77CrJcOzuTozhJDI5EB\n",
              "gikREk6DO1jmKs+/aTTNgbZYfCwU11bivQa+7hUhw95IMR7WKeSlXBC4oyaZAAABK0GbmEmoQWyZ\n",
              "TAh3//6plgAAJgqJhACD+NX/vOV1ULvHqrfd7bkjjiBlrs2/xDp3nS755AvLz/HEKDHVtsrdkCfx\n",
              "nhuNlrnBUNCchUBTHviNCINeIFDSkVmWpmwVTDzpF10z6ZxW3Kj824aa2Qf1hMTvhHC36hzPF9ax\n",
              "X+sSu0Ql3hmb2RCVGAV52kDaII4TLafyIw0r4FSwaLYmyHx2iGN73yXWjU4fH/76XWzHrj0Tn4gI\n",
              "QYRLzTdaI7PHiv1NnXE1Wp4iCk5RYgTEsigaSiwID4M/+kEEkMQf5JLO7omQF07ddM0jOfLArGhF\n",
              "+3pmGVCk4eIOggc3Di7gkYoboPH2xz6MVkQU02qYNwycFdFuuXBX0tmrds5D8mnpy+3aGdZv/S78\n",
              "WG0qKTzpAAAAsEGftkUVLCv/AACocmYeJUkFeoV4jclMbqTdIICy4nVJpG2FaR+rouYCnw5njKx/\n",
              "OjPRGfv/yJGjrqzOb3xABEHnR2GldjzZsGtstYVeNoVprhYjS7fc/p4lNj1EMjIY/i1ruWneinzN\n",
              "C+DbnbYf4M1BMHnf6DimKkZuQ2lPLmNsQMYO5s5DmEaS/e71eVIA6UI+sVhd4B7Wb2+uzgakcC2z\n",
              "tNgUi3feKYGNUdA2smmBAAAAWgGf12pCvwAAplmBOwnj50rt1Zs9e6I96mAishw5/hvQoaaqwMKq\n",
              "A5PrkZxzjKG6iw2J6Hq87B3wPUHq9DUSxvPreFTY3YFeRk0HJwfruzR3NN2mKV1vkcSbgQAAANRB\n",
              "m9pJqEFsmUwUTDv//qmWAABnrnWv/eRMHZeu5e6XGp3FOBR8zFX6nJd4YoVVk6xBdPeirJglQF8s\n",
              "N663eL02ixgC6qNddnSNiyIOvH6iQo0YH7MrgUq6iuoLCTa9Oh2UpYRYJK0fPUR9ZnpwNTvPsBZ7\n",
              "vuu97bmcqicgHrd3mc0k4uZPfxTlTCao2lZvNHfNxMOmfTan63gVlstZ1GAUJeZBspQJDMvU1BWm\n",
              "dwtlr75WkoKvIvaVUZUIsOF1uIowTQGvTeFiVdVxWaMohIzxw6dzcAAAAJYBn/lqQr8AAKg09v/U\n",
              "GVDtZJVjD1n7fH73Ljxd5YExzUU/oImObCvoae3fQkG8fslVCyR9LwKBxz7QovNcqc1SuWKzVc5K\n",
              "8YqpNein1GQbRrndpcruplS4xNCA25Tf6FoMNONJG9uevH2HyHvXSd2XuTT92P5YaERqiqxWKgJK\n",
              "+/Pu9jP3cHmEJ4qq6AtVyzwlvrgAZkEAAAETQZv+SeEKUmUwId/+qZYAACUvrcCcvZ/WDIAMqdM3\n",
              "bb9F7vNMdAL6AQPv2KO3DMMxcgSSw7VEEUFJKsgB+x/oidpW8718ioMFzuTXr4NV7ocDGtT2kciH\n",
              "NHyajo2QRsKL5aMFynqVIf2s85NLlnWofZ+mtBXPYSQsLj6cVDVpUATyY/f1VGf1GukwYIlEPI9Y\n",
              "ttzdU59vF3LVb12EYlZ7bChw05V7yF3FSmxZnNAg5X7TcpYuItlTJhXLEo45WWWTpOSAr2FupDUK\n",
              "NfJKJVdr+rLGqmw/IXmK/mTiK2tbVe0e4dXuc2BO1piW9wdZHesnzg5j5P1h9+UwcScvMt6QpklR\n",
              "jtLYQ30vUOeERORtqE2Av/MAAAC9QZ4cRTRML/8AAHmiLpYCwlaidsnkzY6Xd4AL69ShLVB+tALh\n",
              "Xc0uxHHO4RduFkKbQCwKeWZxdtoU6ZCoNwnSY80ekU8kbqE+kX5Y9EapuBtsjoqkktWZpA4Pdipy\n",
              "+qcKWHUYdzskd+3bjqZcrrJoISuvHOFWCEuVQk2C7uuZRGgntrO8A0rGWVD66W/VIHwcyKpzinJr\n",
              "JTLkt/iwVmj1Tnxkg/8R31JZG0ZXBCnZoTDIzEu+8k7Td5K0jHVRAAABCwGeO3RCvwAAqGSDMoD5\n",
              "AUPPow05B3dADqWgTDxkT6RZEuqkWWEXd7LBn+z5gJ+2UiwL+TIUcDB0tgNLfdFHzLfTu35LitDg\n",
              "k6JmNJUHOWcDmJWrFW7Ybh4jOs11GJ/DG8dfPntWuinjEak5423OImFmv6lXV5w+Ef+BlBMDCAT+\n",
              "NOdL2VBBAQo5nHwfRCdir6H8LEr9+CSAaw5ESit+rb9dbxxi4K7myC+I7AwNY6pIEbAgicpFNKmo\n",
              "NzTJYIXUIA09cjlYW7ARdYgadaiAuiuTD92maA1zSXW7pmYVzf+UWsrN+Kt5F3O7RbYV40drNV91\n",
              "uWKFDj2wZZ2DZfuVV3doCXdyuPnNN7WjQQAAAPMBnj1qQr8AAKg09tkwTPXDl9JlJiLzUhsAHVnl\n",
              "hU1YoxvexfSwvrYrr8FFlZEMhvE7B5yuNBtIhzJF0GVjBS7gdE0EJWz4Iq6B5cxi3f/spT+E0gzQ\n",
              "naZ/Z7R7ZpwRyF5WYcdp5+ysA1Vj5T76xa3LqxeWjjvCP8DXGSl9UKUqLF2Qaec/N0/gTEKIZmHP\n",
              "BfRvFNbNfUs1vQh/DqrOvaMFN99Fm6Ba/RL/3YOiKQaoGMB2FMuoMpWlB85ibJtLWNVhWABWt+Mi\n",
              "NyX2Uzkqq0kWoQ0D4yxr72VGdcmpOHs0GCa6ScT9MJ9ZcpQbckXvpyAjEFwAAAFLQZoiSahBaJlM\n",
              "CHf//qmWAABquL9GzPjJhZbOc3P1YzkptdcichBvpmmeMJiXXhK8rlTe2cf95DERXyGLbOGIyuZi\n",
              "YjhYrJTo2QbEE10AvqkLTJKlFi15495AG+vZ472oWIckphkUjeAv87Ol+wt1EanQbspX6caQTtYG\n",
              "BBLqLw3N8gxlfY7oZG5YEzTHCi0PUUc8PFczNxO5d4gAB2q0w9XurTta/uulDz2Yr5bZwzqQwNnu\n",
              "jgwvaB14odlRbUlLu0oWpgO28hiI8wI2Eg4G6FviBLAspNNUnTTdZxb3EOp8dPibssnFu1wK+JZL\n",
              "86RzT0gES9NsXNXH9OWJYjS8f7BWzxN5BYcn3MqU9wXImoISZ+1OdkONX63yG+dnNzWPxmC3F5do\n",
              "+2USHtMhKYRiUag86OnCnHkEUOW6EfSDs8qQpwh7SWQQmJCgwAAAAG9BnkBFESwv/wAALWweXtWe\n",
              "ZUpH9QlROSx9S8y+D3PJkpXsQ+60fylV1PMoBu3GByPdNuPDJK9FUK5T9Jt2jER0XaOfrd7jZar2\n",
              "s7WAEcjri21yPlZWLWYhgUYk4wvYs51H4IuBqs1uSFbV99c/kVcAAACzAZ5/dEK/AACodAng/ruN\n",
              "2T8lKkddABy4FDvITT+qvJG1l7dRS3XIHMBeqpWHtVoWGXiLSRyBrDMEIdRPVrWfT5DlYVArRTCm\n",
              "NNPj6p2h2c/ke8NYYloRTcIqoNxVW+RCz5ILsb7Mc54cD484+2W8HNTgvWwxlFi4wz3wZS6FGQl/\n",
              "ByPfaMMyyNvcwcmfNnTjBSqszJB/FdmpnG08rpvtGRFS5R6WD2aU9NyOh2vW8LDweggAAAFYAZ5h\n",
              "akK/AACoKKsdsX9j/lEjHclPRXa8CF1UChYfxttDtLZOEvm49CmrZ9maH/Isx75gkcWQTstnTKxf\n",
              "iG2P3IHFWFHbzDw3cxjDqiyVWBbq8QCpeA+3rALo1cNIL3W8CWQGoOmropmzWvKQAWi3PeF9OO1h\n",
              "4QZ4BsaE1lOOyYO6e93/S9lTD2x265rztbA4rZEt3EvCjN3Ko+c2k+AA37U8qGW0qwxZ4Dp4N3hp\n",
              "qWsAPGzg0wXKFgstx1eQPWGQFBroiac9pXpQxJ1nNv7iZoRPyYr0qJTlstRXPfYsKqQZ3ccvJMvy\n",
              "8ZW2IHbh/DafEeSa9iRH4OnPzXeIacLqKNLqWXGWxJNmOYj7mdbFzliQS+giyJSyiqzBTrb5hDMn\n",
              "jvZubcLdFp6eq+AUk8IbonYoNRIVDe/FarBqgKvbKGTG95ib8kPYxw7cFM6PcMkRx0EaT3jpYuEA\n",
              "AAEyQZpmSahBbJlMCHf//qmWAABnoKdzA/KO1fD5Tl2XwAyUk9DhlhcXF2vjYKC5/wRhBgGNnMxR\n",
              "C8OkFKKEO/ikEZ0I++dHRZXY9jUUmZ6pZojlLEEC4yWHstvJc7+5hIyY5CZ26U2SoWZu1PbAgP9x\n",
              "+R74iV6lb527hxmTkaDCgyrGEFScjv44LUOMXFOXlkcXcvh1yLyQjYBGtOYfq5NeuRbzrw8KMBDR\n",
              "PkuvZscHCeCkp3V6/MndT99c4YsgSDsbLhhIGBqrhwrjJFQIqYTHuU790kNdXWwP2l3c4KTtvpW4\n",
              "VqbMihh+dNG/MOQX6WzRpduN4sRxe3/iL60DIg6RIEJP5V0L4POUnMj0CagCvVQFBkLNdMAusaWW\n",
              "ZgykQgz60biZt9j3d6/UqPVhHQfg0YmAAAAA8EGehEUVLC//AAB5fjlLshSsQyQOM99S8y+DptrU\n",
              "f5mrBwgZf87d53a00lKBMOJi6PP4kPMgl60XhIqZHEpsQAOaHhhXzUsq3Su/UrXxJWt1zfxGP6Dl\n",
              "4a5ujL5pIBRFShLVFRiXt3+2rOqnqfS6fONbxwYM1XCA2A7H+Gcw/OZTguZBB2nzA89pDdWkkM7+\n",
              "YeJF1dWo7+3nV32PUHbSrwwufXg+ftvK56gm2FzrGUyGiaAafBDUVk/98Y4GVXOkrsTHHsLeptYW\n",
              "ZrgsctZOdh374BmDPum52oS50NTLwZVuxqsI1z+2n3L9a1ZxhV+44QAAAKkBnqN0Qr8AAKgmGXz/\n",
              "7zpajq6FLI1gsY12hJG/m2c/v9m/hoAPG4lFYSaQq0OJ0K8i6pRNr795ftywhvRQh9YOY0EpHM0q\n",
              "1QqS4Goac7F3FpgGELA/QHq27Q38TCI7ABdGKWVDaqIdvUjq2XwdS3/TaUpJPfNEMBr8rlOCdJvS\n",
              "qawFEbU7W/jOnWI0LgOYNnACjoAVG7idtvwywOgKQ9CM02FSROsaP0uvAAAAyAGepWpCvwAAqHJm\n",
              "G0srA6S61vZmb4n5HvVQ48MN2ew0ADtDuStBsV14EmSZ/0eEfonsFsMAY4xzf1ib06OErSV+VnsN\n",
              "oOZnyM09CKp+9bV+fIjuB/+FVT6RSv7p+zJEn/Pywkbe70o286T73ml+erkrivNNfb1PVcnPrBZ4\n",
              "4kAyylk3ld72PGbq2+jWBfguxvw6Oo6bRpPkoUZ3K02xcAgQFht+icbk4K2bskOR3HoawbatZz0N\n",
              "8x/3l+v5ayVq2g2dTHQsOiCBAAABGEGaqkmoQWyZTAh3//6plgAAZ7HI1/8Cj5YWArseeyv4PP0f\n",
              "9Ts0ApWD3JErEH28GAAAWP9rZQhFjz8hytmwycTZs/mpzN4zCYmP4xKMlxBYw0P9/If7dsA+La5x\n",
              "mHjVO3CaW7L3V7skxeoYEHafcNUhnkLty6aOpQSfmW5gR0w0y4gzAdsC+0o5HwUHgFClETjb6FBa\n",
              "4wHI11VKDef12E/geQxNbOMpZ2NNkLFFXkgbn0G4TT6b7kSOgOruE2gxuQr5oeGGIUYesmatAhij\n",
              "6zaGGsZ0Hp/glGmkXfwQBjpsuhdurgW/oOSh0qFXkwzVzjNBIknhVkMxVzOJsBJxH1VFJOosys2B\n",
              "3iWk8FXHZDwgGvSgkd8yEkEAAAEIQZ7IRRUsL/8AAHh2fbJmSvCAmw9gBMY/5ZCR1hSDk1JoGPIf\n",
              "Gl9qUJiI98axVBkKpJoIJn+h/4ntpIOPHBFMZid7jkZx/ym0Q8/wZyx+NAzamEK29TLlKOJr9EW9\n",
              "Gm7Gl0fKWQCHymiGLFVrXxxFr5uo4yTln2q58m6aa+OvIZM/ytWd66+l+Cs9Zaj9Z29uBx8I/9H4\n",
              "FxAPFz2P2woXegkU4TbLyn/hSMobUAEr31OMfHG6dPGnGMKRk4exhLEe60UmT8e2oTmis0JJWA25\n",
              "un1ffMj9SJoRDqgago0dWO0C0xgwofH/X1p2ULp5ACY0dj+R01Fpr92wPRFUkkXu9FqQ+tVOeSLg\n",
              "AAAAgAGe53RCvwAAqDBwDdAAcQfJ38SqPXQWbqb+TtKh/6WxRTcK/iQqlmR+5ENVIG7w9Rq2OCxU\n",
              "7DwGfQtvof9b47bm/KnLD+Y5VGIGmvW4GKfRFXUCa4UX4LaqDdlWemoy4NqwKw/vm1gWq7OrZf90\n",
              "3UWX97bE8ZK4yA36ytNcWc/4AAAAeQGe6WpCvwAAqHJMzA09V76uWU+YQfrPwTIlGhAC3bJUHB37\n",
              "8FdLI2EbwVcEzFLgeU/2+FL5orTjJ1bcp0dSDEBGOfHdTHcyAoL8ZdBgxQ40+GW3Ykob5usDDw56\n",
              "WGDQpbt3eavQUvAgtci1m2DOY2UdIvFZKIgAIWEAAAEZQZruSahBbJlMCHf//qmWAABnscjH4hDx\n",
              "UgAFkxjLJ7xh2yDq+M7vjnxpUine/ecAgRbV8vei+nJu13Gox19OhLfqAGIAALv/wlqSuesBa2ku\n",
              "5kKvf/W/7CIIROpB3BoRy4CgfPPafBKVuIvB37aD3OIwb2xH3PLDkWwP6pb/mlHtEtGMD4gRcP3+\n",
              "c+FaeIa7jbOrz1QDqYe7rN7FsiLZkcvFRBujcsSCrZECiS78XI1jwd2mkk6/zmVPMyrVhDCM5gvJ\n",
              "IFPKJY4b52LkUrRuAvrXVBsWycPXLsloetmWEKFmUOQ2erW3nAvN0fGfsGADSSJKE1j5jGofvUWO\n",
              "jGCHcWYVGWZgZuM7vue+czIm/CMrlefjLGxjdWAAAAB3QZ8MRRUsL/8AAHmTDu39iSzxGpFb79BE\n",
              "CL8vfUvMvhLHh2unCZVjYw/ZuaC/1ak2LdLwYgLCmYO2o+1gw/ABuR+hyqaqnmDBXkzBMZCaZnNn\n",
              "ynWoXNbrpjp7PQGTX/CHmwqmB9QZrNgkKsRCf0DAd2UoHifAGXAAAABcAZ8rdEK/AAA7cNyfHvv0\n",
              "ADP/AKOF+AEaGWDxT2Ucte2LhqM0A5buQeLZj+1AUYlrXCdT+nmoZvvDJPhDVm2DHAJgELYsr3KG\n",
              "3iVnr3v4n5IohGx3HBQWh1loKCEAAACOAZ8takK/AACoNPcR1ATOAC9FUx3r4vQWKBEtJKlN+87f\n",
              "2RnlxJ1bxykOEAxnnAiP2l5A9y5u6gsVu+4e4f6crBL0qkz1Pu0AP577vhMLGv0OKsda7eouSM7I\n",
              "ufycIMwIrswEdgdr6N0eOJ+Pa0N1rqg3XrCExk7qum018TcDm4bX7ezY9ftPifB74Rag4QAAANtB\n",
              "mzJJqEFsmUwIb//+p4QAAM3ahUUAWb7uxBj4XTAA0OQNlOWQ/9MKh+HSECPGQbVgMUzTeXSHYRwp\n",
              "XmZPbbnDE1UaTcQRGncHDNA0t0v37bskONPb3qddMQ9k6wkLe5RzYmbphHRQ06YwzdflW+tHLbz7\n",
              "DYxDgI7YJNjNF5tEjwCJhGnZjI5/6s1XL6qCnFBH/eJNo1CR41mGI4UYU1MpsPCdPhDfkCAQNBhB\n",
              "dhxNoNRvyxstdco5yCYkxZ1iEOLW+0a2MJ6uffnn2ZF7JV5yj3nq7wRuH9v4fMEAAACJQZ9QRRUs\n",
              "L/8AAHl+L+DSw13l+mzdcEqC1QACvGZoEpN4Tu/wao7UyfQkMP0e5fKCZZ3UCh8bpbfQ4XTT6S0Y\n",
              "33WCUURcAYCuStR2UshC9f385SyiwCnZCmDhoPudEUO+xqNxPe5fK4aWZ5F4ODkvPxhy0TPHO2r9\n",
              "7w873nyTaOQyIyLSBb9SYXgAAAChAZ9vdEK/AACoZIMspeYt+h6l9exic8g7xeVaM+bK2PqeZ4c2\n",
              "EEkA6mOf+4S2IUyd7WLMKRaxH5NYkDGFPMRfkbWU6C2GkPjZg1SuNGnAVPIgITZz+l7bGktWiU6O\n",
              "gnMOOHf/3+Y1ZftZGILcO9m7TjOsTBpeIuq6OzUOhekl/tII6QbZrJgZwMQ90V1XvWcvlzPcsqom\n",
              "LXVwltEHJgpAakAAAAChAZ9xakK/AACos0YAOVAJWd9Kv0er2WraDtkFTyaGcVyC27eHyngezeIT\n",
              "xiXiNxBv/MSfAYq4dt8M3XhbhDwEvhMN9XpamMcKsraHxa/h7TOblObyz+yuzW/CRDBWlIYtGxOb\n",
              "bVzYWmETkAR6B7xmgu+/6nSGBKpl9ITqbTDgsCi+crhTJKakaSZp6g3g6B5vnvdi1fezTb0kCoLm\n",
              "FxY6Vl0AAADuQZtzSahBbJlMCHf//qmWAAAlLRN5yEsRVuW8IoqVybHhdd1+qXvR3wXXyKAL+Jn6\n",
              "zxOOAFUrzjCPoGPmMtw08XMQIWdP9HsToEuy7epJZ5X861tzz/Oc235cuYuQTI3bQsLJ/1yi0llz\n",
              "s2WiI3jAbL0x16IFsuMlTWU05vAC+ygHuLr2ZfTfoy6bH8cfBy1HZD3qgLZFDnoMijZZ9MsXKj5/\n",
              "kN9xkiMkX8oN1yUnK/NNvS9m6b1QaFVB+6hrOpQsTbfX0loJqxQHchRyw8h2qBekIYHVErhHpmDo\n",
              "J7Myxjqh03geFVYq36j0Y/rQvgAAAWlBm5dJ4QpSZTAh3/6plgAAJi0T2gvACT8Pg79kHgRr9jG5\n",
              "Fmy/3Lx+0jSejc99O787AvbfUBn4DNxLo7pnFGy/eNTF0yxNDgboDXQDDCZOCR+sJiqu2QmRx/yC\n",
              "FQfEiLaNJxOlNknf274mBCJM09x7y/+Q0DjPCru/4QLvW+vJOg6H6wZbEQkDrEEf5JEQxMNu+Ub2\n",
              "KjEEjPOu30qd/Hx8qGF9yWs2RWzqXU4EpiSDDSIDIJnrLrVXi0yzFFDAivuyUeLJBgqWeWXQjnmP\n",
              "uGHTPhpik920pKELsOjMNcp/BeDJJ4qg9oQ2tl3iHQ0kIRE0G01Diy2DIn8dffnSYMn/0L9Qp5N8\n",
              "5SEFzVLKNJZ6p2FFR1qUoPnvImE5vBs0K9iysJwDB3FBV4eE3x75FVBqxwl0Gddlksh7FJD7yx76\n",
              "2s5wnzZ7Wp9j+BAb/XEvNOwgacnqzaQd+/0d82GtPirhO5x1HUE15B3QAAAAukGftUU0TC//AAAt\n",
              "bDhN/QMNq6zXfp3z0UWfMw4zNpEjamBhOrr1pw4dUHvMS1uo/77Gq6LYjaJ9eK0kxpZq/7TFc7k2\n",
              "Z7pTDMnwTwma/XsU5ryBdJapstcb6VeTiXNGhirmFpAAVITQJIkoUJ4XxPYON1eDajI00sib1IDH\n",
              "SwGzh/CDbocpNgEmFoyu45+7VfYr0XTeRq/A/vBE4Akx5OVAVuRHnuy0FHny/2T/QOpqZXlHERwA\n",
              "8d/wOQAAAHgBn9R0Qr8AAKgf5Y7YmdrwbQAWznicy/n5gbxcGbbAwE0MC6Wut2vHYhObLDSxlIa2\n",
              "qaSONGc9xG1emwhJ9wH0XAFhqcKl4VF9158BcYvvf5kWvrQcJXeWFTq3BJm5x6MB0K59JF1Uk6sw\n",
              "RhRHflUdH21t/6Tsb8AAAACqAZ/WakK/AACoKKsdsX+PITaAC2c8TmX8/MDeLgzbYGAp1RfJLLTv\n",
              "/nLxqNj0kz+Ih+JLTQXGjOe4ja54cX/EYkGYMT4daQETgkM3URNdW6W3TgwnusMlt+H+QvN+Upb8\n",
              "TqXyMm2zJN0KU+a9015gmO/Ke0scktPnZp7StGdIK9uoDopssrIIrSKxzt8qyCsDEkWL+/7tZKFV\n",
              "CkqmHS7n+wcff9RHyS9/u48AAACcQZvZSahBaJlMFPDv/qmWAAAFC+Adu6CnNyiavPuBg3H2qr0c\n",
              "TlRxmeh/gmTPf6fwauwCOE3YeqkL25IqaYpBNKsnCOFP/o5eT6i/UTH9tb0eszKwhX14v/v36rxV\n",
              "1YtrH8/Rrz2kq7XVc+N5bexJva+Fy6euFP7+CT7xiH1/Jr1S5x2+L2fomO7ToRSACYzzNnIcMSzh\n",
              "oAYQFe/TAAAA6gGf+GpCvwAAB5jUnjAoiOCdmdENOgAdCf/4mlywRd+wVbCyUSpTAW1b/w9XP3Uj\n",
              "N+BJzS3j1RjoXS2SSCNHkRZDzexfE8pDnsufCOx3gzyCDxQX7k1A4lfJhqcY3Uf2GvD1lhT+GKCM\n",
              "YcM3krL4vN0P7Ux9U/D8gY+InajvGWBOPVUkNItdtrb6bA+CGJYUY9yPiEW5xRFjAf0pTxBx0qG1\n",
              "ovg0ebSWgC96z+FTgc0hDiMkmcl/e8HXQgcPJJ6O31VyI7Lc6rkA9j4LSRN11DZ4z3QttNJ0kPNd\n",
              "DQ0qsrLSxZu+YqUKzClV6AAAALxBm/1J4QpSZTAh3/6plgAAZ6CncwPyjtYjgOfFHgloGnvk3RRR\n",
              "bdXAI0zzQ/OUylZzGvOehoTxaPesI6/9vsd6u5d2GstYglCX7Drefv61MDFTaPPPXiviBoxXft33\n",
              "Mb0B7UT8xakGzbegSCX7BfzYkYVF2XA9uNB4Z0yJGTRG04QZb09+lEJOZt37uIJaoeJgCXwQQOdX\n",
              "NUKVudomNhmBk4parG8w5Hr+XdwFYF99cdu+EKWLc3Nq1vK1TwAAANFBnhtFNEwv/wAAeZQdsAGU\n",
              "8KEv8ZxggrIuB30DcgqXTQzi7OGkbw+o7t8Ki6xiKQbq8kMEbdtLl9X8jhq2y3Cc0BOtfNqx+U9R\n",
              "ZfYHm5yyluv0sw3mD/3obbD5GV87TzHgEx3GJUUadjjCVHKT+Pjj5+RUEppPKrdyc2sQ/RpNJ4s9\n",
              "/8ah7gcUQZ/ckud8Gpeb7dDLntYF4IFCBLkJf6NY52Ab8+pQumZy1A6WnRG6xCBjgc1K3jxFFO7K\n",
              "rnI424X/iQVJnrSfxog+U+19eSKATgAAAPwBnjp0Qr8AAKhF1S9tqo0FwZ0A1+SybPXOADk8+Oe0\n",
              "5hW9qdGoOEvxAf+lUBRIwZRfQ13v1Cd2g4rYHQq/mPfc4k/upn/WBbUQYmqiAVnZQWbq0OUAEy5a\n",
              "o82bBrbUBjQHJcK5sTbkvgUubQdrurASpeE547QAhsf7dzJ88MIweBZilG6ELbFGjHuUvwuclAs0\n",
              "ko7aDwCLa8jHKl3s5wDjDckRAd5J9AOZn6qpeI/Ip1q0wrXcCaa5XESabwqEHR0PuiT9t0Yk9r/F\n",
              "/yxc/KzYjBsOBMm5b6YWzjviIWm0Zh1uqalRjiqu114h23ROLoNUL5Ca702h06elTekAAADHAZ48\n",
              "akK/AACsxsw88vXDtAWroOgZWVkIF7EwZPA3egXieibTIVyKsLrq1Tjo0m6j/xFN+hIcsuOPd+JJ\n",
              "FNvd3X8QIWNnckaf7wwgiTObeBRbsUPVEfiL6YHQPM+s6s9zlLG4ihOzPdAhJMen18NZ3JqNyIJb\n",
              "mQu/7QDydmRXTwyMbJpe2v42fC33OM/Irlcpo1HUih99xqkdJb2bKVfF9rei8qCXKAySrGaQVSrr\n",
              "zJGpmHgSBXx/HDqvcuA39rcO8pkQELpZBwAAAKFBmiFJqEFomUwId//+qZYAACY9W8eZlNVbtcdD\n",
              "T6dqXEBzX9XRHk+zofbsQdf1KxvmKmaysXn7WoJbQxbqW1ElWJlI17uc1PW5HpW/0qtbhCmb/HAt\n",
              "dNFE1eG92wJAdC0fO7WPUIsIteB8Eax/9DP9V/GIabpEZoBUO+MH7Gc8oyVPX4sZ+Tf1awtyyg3o\n",
              "tAUevGHPSOBmJSAEf+qMtSBvQAAAALFBnl9FESwv/wAAeY8ZUmXQAH3IGBHC4Inh9WVATv+bCa44\n",
              "CcpzKWj7yOaMRLC6WRkVz24//VnshRDhpfX1qvYWbc1oJcsgL4UZ7tVqQI8TK8G2LiSn9gN6XaKi\n",
              "5Hk18qy23MblXqLab0yr4t4f26BZ6ZyvT0EK662tCWKtnmpb6A+PV4/+oUqZp8CTTFB1FPlgSw8Y\n",
              "b1ebngJlXDbgTRKGD0LbICEXP44N+HD3Dzpr1qwAAADoAZ5+dEK/AACoJhl8/6F0Q3Lfa5mQjdaC\n",
              "KcWxgITt7QdfjtVSKABfM+Ss6Kqish1EJ3WCUtP77B5Xz+uqRtI1mDVhNX3C/POotAGCsH+Dszog\n",
              "O3TXKOi+RZh1WRvWtWASnNJRvsa7yYfRCeO+4InoLs67iQOXON3jJQUwvg5f/0fEFmhMHS4nB+0N\n",
              "rO9d+mTNDe+BJucWGCQAAiF8QUCe8S8GFvW/6UU7K6V8LqGXNtk7cB0/Y1FWdfRSXNHS3kIm0jGI\n",
              "Y9nI43P2z8Kz9n2K4U8Zfj6UooSYQgGWiSs6F/SJxK9mSeo5LwAAANsBnmBqQr8AAKhX8YfaYsYg\n",
              "HK7rcVwvFtWjprcUcLhJ6V+Vq3QAIfDKbwEHqCf/Bf2GSYmp+6A9FRejI4Z5t+CuhLqhobQ1bU/s\n",
              "sq7ykA5heBwjowXbCGhXMZF23ZDcvmqiLbXQzm8fIks2XtWHHcH94rW7ub5QiRhx5yT7rWmkY7EO\n",
              "5a1vk+NFaq0P4qW8iTM8sP5jUB3IAAzr1zon9FY0K9Utri5qk2jQo9e9Zuz3RuOfnBeRKPD10tky\n",
              "Nh1drzlAgt0X4rPg/RLuTCzg7cGH1Xw9n21wOlR+1VUAAAFXQZplSahBbJlMCG///qeEAADOOQi0\n",
              "0u7EZoMzVb1jkWzEIj/bmecifKelC7IAPKtB2nX+RgkHvy29M45VPxJFHj3q0lu/ohuzF+SRhoj5\n",
              "GLsw2+tC0/TwqiJbnOlM11efAFlT3hJZUSMy26Res4FM87CS2c5uqpPbG36PeKINCXFeX0sagkSQ\n",
              "nJkE22knyBO61t9CKziaDi/9JSJdAibn//5odmGNxhE/FBegeMyB2PpizWKmiEPb3uRsR+Izt1Kf\n",
              "psP1yOXDycjHMzXwvdRh8Kq83eDtxhuoZmp27w+RXFEpLTwpBpZu/01C9TZgc7QJ/HM0GjNKNJSR\n",
              "jR8xx0YdI9/tHVNyN4pi3QsAe23CMaHp0V/nMTPd9gLzM/IYhbVsneV5SYiJt8+xJ0C62/LEmiYU\n",
              "0Jwb/Kl1XLkDZZDH0YoGI8s++eA1YMWDXL6VielWy6WomFmFnQAAALpBnoNFFSwv/wAAeX45S7IU\n",
              "z889pwRF3YS08FUuK4/z95ezSvHNisAAoP9J+CCCaz3O6Mgo83jV1+qHKjh/CGccSdm6BZqunoBV\n",
              "8mqyvK8l6vVHQ4qDb+yQvWx4mDIpySqNUvXYF7QQMRhbUU15tnGcaNjk+/Pcvngt9HRYrJvJxJz7\n",
              "Hna4d2kqRkuHgi8XNnIdhtpSl6+70HaP47fqlddG92kQtI47vxnskpiI66Uczeuccj4p1CjSjagA\n",
              "AACQAZ6idEK/AACoJhl8wDdgaSPEzMnZiSS4w09oajMqZEpZFUU/n2AECyX2nPxS8DvPY3ZO4oCv\n",
              "3Qg6yB1hjvgoQcf0SxA7BEmibtA0aaFNY6BxrPum++ASztksQLTnHupmuYQX2vqr43Mhqce+AY30\n",
              "iNxKy+0kCD6UFPPLHZ3rutAxYdzdTbFFjnHHk0jTogFlAAAA6AGepGpCvwAAPMxXY5gaP8EtOqpZ\n",
              "L8+rCvoY0IPRus+gUAv5VOB6V5dk4zJ0NetwNKkKTnikB6SOzbgv0TVogq/vSW4MwbOROqbmbh3k\n",
              "AB2RYqd9aqoHtLORDkyCLurIPamXYb07wGvR7yMIvl3H6MUGzJoVwDlgS/XQQoP8jrp4iO71zoW4\n",
              "AdVNLUCyDP5S8iJTExbisLSkO82yIyL8vx4Qxjh+MgjK8SPUubKPYuSU9M5g6XLXZKiacL8ImMlU\n",
              "zkvFP2c03tniY5232EUiNrXDkTnxWO819U98WH6zHJK9sZY/aPiC/1cAAAC0QZqnSahBbJlMFEw7\n",
              "//6plgAAZ9P2mpBhvUgoHq2kDX8VLOk/ZtaNDwIZ7IMr84W7Ucl/RMWNpJT94OxeHUQA2W0A5Ue+\n",
              "cMTW33xBG05Ilvn/tA6Gtr2xnovwShl3WHuwL8ZGxmDAiOb9kHISOLOKlucG6LYN5i3F0DTlOBHR\n",
              "pIS4T7qsFEWEVVAJsp2bBWTugb8f0kBklt1TUoCLM/VL9McgRmiI5WFtzrlfSEF+b2Xj9S8hAAAA\n",
              "aAGexmpCvwAAqFe5fuIjZBFVKb0DPS4Mtx0Lx4+BCNAghtx7TdIvhUAyXeBScRSZrCH8NS2OAAHD\n",
              "TyEaBcSQ0KbvM3TS7ut6S4gw5Pi0jjQD/5wXbkWOoSmzFBiJc0epeCVX/xCTP045AAAAtUGayUnh\n",
              "ClJlMFLDv/6plgAAJj8lCHBHm6b166qZa7LCIG+u4O06xtPvT58xOoyu2bxdxgajO+magHMHXiC0\n",
              "LXH4de9JlJK6fwuChpdzX7IviUdSZhopjx4dEjTNQzENyuXkMStqcChbW5PC49XbDsGMO57w7If6\n",
              "JRyUXyLTOo+pUQj/0dqDf4z08wgqznlYo6+tBuzA/hamyZwJF+9VVkKd4lsgAlVWn3jSutpdqQDz\n",
              "mHXavpAAAAD6AZ7oakK/AACoUn0QhuD1jDHI4KlBY9OTYAAOf954kVYRvIVWirTPnqgbDojlV+s3\n",
              "0xf3lcc0uXQ7a+zeHbl841hN4pPBMfI9hoAAxaVxswj7C07PzqG0NyhXNnblkPE4CLN8yUsCIg/9\n",
              "hn2sZj+oq9S9fiHOFAmaWdmk1xogrLYp8SCQJ3PPlWCvU0Kwff2CxnNkP/2OoC/dOIWcgtZ3IBQv\n",
              "DZlQ1SMp2uSlUvupyZFQ3NqvqvoX7noi05XUYqUx9gvnVHmIGsmlgbqlXa5Fk7qCTGDOmyMyvBdg\n",
              "ZtMFMTbId65/hozKwq7yxga26TR+EyKJK13gmHdy4AAAAL9Bmu1J4Q6JlMCHf/6plgAAZ6CncGGQ\n",
              "qmFaunYaJG+xcvkYxSY5CbF78Ip0L2AAcLHKZk4mDDG5TQFZhL0AADL/gy/ra13tuFNvJxBX96eP\n",
              "CbrZB5cXMfr8bGy3JfUgIxxPPBD65Cod5qkgO6PdlFgPxDGznNxtj4ZjGorQ0AL/f3tzJ1JQZj7N\n",
              "w0AYz39iPz5P1UpfL6I57xXlc1AqpM9W+QOGr+n/JqZNsfzcM/XHMX0RWuou3K3J0H8qS4JUwQAA\n",
              "AJdBnwtFFTwv/wAAeX4BiTCrTN7lclAVqaAh6S4rHL1ouLDjv/2dvxJqNj0FqbB0VZr4+OW5HsDN\n",
              "DO6wR64THsVrIo90renAj/1WjMnOsPTblvKfZBxHADx3+wP5tNYy+G2NXKnIoj+JHqKCYZcVZ0Ym\n",
              "xM575IkWapwTZF1auYFEhWKNHEvYpSNGYjKKbm908tISI6Jc3oGBAAABBwGfKnRCvwAAqCWxpsXs\n",
              "BQsuH6ACIPOjsW2axTqyh2op1BBDaSHy0Q0Uj0X52N7wCGXlwTz2e9fRMiuOaQHjCPAxPAKpzVvd\n",
              "aR13jt1t6Jc4yfqccJF6m/8i49qlzrO8pQTxXCtUWPChC3ufL1uQ/lyXbL3cSZkBBO9XsH9gKzJq\n",
              "hPet/sxZlTEb6WsnPg67BCkQCUrX7DYttC0g++l9YsMr1GCwlqYVwEHZzVkqzOMvpzIUEzKX0Imv\n",
              "Rj0s9diIO/9EWRaHMAIqj2Om4KsIvdkc5OFjcPPNwuEiRZ6hfAvjKltt9DIAzmP3pbPkuf/+N6TT\n",
              "k9/p9Ha6J+uaJVhF4DOjx7Yrqr9IAAABDgGfLGpCvwAAplmOznaukawAXmLITP2qsPnW1qZ6qzbD\n",
              "HfuxXD87NV1g0tFi2JbPEm/+5fPjeHCxdCrtETrImUbbalGhIFAwT9zXwekGVaQYHQODlcj7YiPP\n",
              "JjBPVtEb3/7VpvbgpHr6/Ihn4VY/hRBEGwzqNBV7D+hI94VW916g8W3zuFgTYCtVDer+m4vhidOl\n",
              "axkOAMMZdc1ItjD9O5ktTUc8UKouPPphyG2C9/wFo1I4vSM/uiQZMgnDvMrFLkvrbaUa8+JDiZuK\n",
              "DsrCSmH1wr9qZbzq3Nu6trenFw02Y7i/YZRKUVMy38K5RZU7J0TzrNmBwrix6UOtpGtgAjC1p2dc\n",
              "UdHpwxpdqAbjwQAAAYNBmzBJqEFomUwId//+qZYAAGfpGyr0ZuZQesJACZdjSRJ81SqGVVGTX/bo\n",
              "fW7kojcQ5zVxxv7jD5TJj7YCe0lI2gA4zigkPz//y9XIYlbUzC8YPtCc7Q6CniUNMlAfxm1o9ABM\n",
              "zxf+kWkaSfcnfz2+gqCBzG9YSsGqGYRG6PAsKIDoAAGX2wqkJNStugAqEebgaVWn94cQViKPey8u\n",
              "O6mc2Wfm/MUjNCWJIg8/agrrDnAoi8AzYt1BdMnvFefw9VHTywn+c2Yt0Vsv9veu3BE0YspwJM8u\n",
              "29B4LTzWrOPdILeyPa1tQVeJoxLdqzq4tso3BkbGsBFF2EAHYG+/phWlViL9fP5+qT/rM0+BrU5/\n",
              "8IDwv/Ubv0C+XH/4imQk2ChzrUE8vI1c9SZRQafX4KBwXRmeeyaRP2p56Fq1jO9SdWijInSr5r8r\n",
              "C9OrzLvKXJv+j6CML5nf+28+5EiLAKLfvhFHkBgNlY9TUdLVA6nQms5a1zg2kPwLA495WOotgOiS\n",
              "vmEAAACgQZ9ORREsK/8AAKg0jo+UqydGiJrVaVwdtKo4f8QPdAYr3tWSUg869c3mmgOhXnjAGivu\n",
              "nQ2AvvjDJ4+QRa8ygQDdNaDT/4t06D9N09RFH+o1jjtiY2pC7qgvDxZp4AvWFrvX2Vekzzr1aKkf\n",
              "JtWKwx4q/JTxAQo0685E5TSVUFKW43y1xkE2vzOoaLiZKXqS8Xnr2xZO75I1EVB+RBL9mQAAAFUB\n",
              "n29qQr8AADzMjKq3ymfyxllDxrZXzENm1Q0Q2EQtnyuy0fCUSbPljlbtoSDZSk6AFMaEG88EwGVT\n",
              "S4N7QCePXjeRTxlMbyXx24JzrpKM8nGrhGUqAAABsEGbdEmoQWyZTAh3//6plgAAZ7HI1/zzytIb\n",
              "EZ6lNm8Z8B6gguGNpLw+G8OFNtyJDcyAFVYAAJB/8xdyJu0dqIAPHfzYW7V1qbTVj822wT+BSKW7\n",
              "0nZ2kX0WYMD20kFxbYCbNOz88/Mn/wOboxLy7bTH1twbFUAKdzLWCI44nXvv0QTHIN+X4YkWOMD5\n",
              "B/6uh1LrB/dfBPaKu17eguh4zrxJ9rYXixtkIWvwAA9ea3aMWy+iQUmMxUSU674TzEnQQA6/hY6y\n",
              "vZmdhGnS2x64G6plkbyv8YXUAkvtT6yThLWGefTVosemKG/CZNz7tpNnqh7YtN6oC7Olc0vbscuD\n",
              "+kGHPrrr6loJAHQKQ66a/R5h2MGU8mD0ZU7hSlHp+1RGt1ZMuk2G9thvcjeTr2aT3pt0hKAN/IvF\n",
              "nEjsCBYBDSFeCJzdRcKaMcJLAalNXNFxh8LTqZX+Lh78fNhRpRjBlKfY+Y69vFakqBSO9BZxEAFQ\n",
              "WeU3eLjaA95//eTc6w/JaKNmct23R+k5qvroQf4M0Vsyo97gS+LFmI0eEq8A2u+VV5YVu9rScli7\n",
              "qZgc3veI+AAAAFhBn5JFFSwv/wAAeZMUohZioUf/pb4FS4tA0yk/nb20igvd7GCe7rLLE/t7mnZG\n",
              "S1tRpAn+U/VBK5gT3sxCBRQ87kNzP6rWSgaj6T3wJJnq+Qs/+Fym05SdAAAAWgGfsXRCvwAAqEXm\n",
              "GjXfaaY6dZyrjlBNwrolN+E/Zy1Dfp5/0AD3wp1/4HFsNO/GiQ8LGQgAsX3GcztfkkNwL0giJL/y\n",
              "3dhz2t9lgE6VEkAhtgsHz9pt3j5yoAAAAFYBn7NqQr8AAKg02mHXbRyq3AFB3ogoBSY8TYDnX+gB\n",
              "co92PouuD3teLHb7/wcXDCMXsyICa5quW50B5/t0wE3hT5EV78HEqZa2ROY6p6oHkKv4DPbjgAAA\n",
              "AW5Bm7hJqEFsmUwId//+qZYAAGeuda9twtinW8lv7B0AAy3Xd27WkEffwQAEOJaVx4Cu6i29esw6\n",
              "lJXJrAf3wMQu2zzVHw0x45KkbHMP/V4aaq9AirX/zBUu1dYqLtXTun/ZPeO28nll4U2vhU+QF4YB\n",
              "W56D23PYVPRN2qWchDXSy/PnvIZabeLSwTfb+D57GKuqDv/zbuiPf57Irpm8zxqevaBTqfmCh5Mb\n",
              "1MTrAU89w5mEks1BC+gDteN9a8EHD/CqqDIV+vb1CP4oqAVrpWgGZbltvazf74YdPfzWkmvM2wT6\n",
              "nUiCVLrZSyJSkV/NMepZhYF8LH/2FqMNJ6jPQ/w1472TUg/5Bql06tIaof+SgMu6FcZJac1AzNwS\n",
              "+5B0FoJSqBCMTCphN9YPcy6r76BpMNby7PF+LBCooQf9TgAl4wxWyrivBUVQS5j5rdu4gTXmxSMe\n",
              "UWqGB1uMbFpYDS5iPw2nk/2ZWnHZRd5L3oEAAADVQZ/WRRUsL/8AAHl+OUTUnuKbnvetK1q1aBpl\n",
              "J5ZaEPssZubpQCdkxcI0uBnwVaYV8MuvfhcW60MuUoHqX+aUKOh1Y2inuWFE+yO4+M7bXhdrpgAt\n",
              "V1hZGteTDP99I+6aClg/xh4J6EwygvMehazfti77AOnokvAWT48yOegH83Z9ISA94WIYn30MHc9p\n",
              "wHUbW/owZxgyHo2NCct+OuigLgeue3jrRmCpYTPgwSYb37XVVV/jYQDJja0NhCChrMk18yViuDTt\n",
              "HtGl6heH264cUfQfqsLgAAABCAGf9XRCvwAAqCYZiV/zKWz9dfdZlcDCJIxYcq5RhC+ntAd+R3kq\n",
              "pSR4aUK79Z+GEbhmGVBsisgCuYr0aMWUHJ4tAa2gNIlCsXmo9nkX506V+hAB1jSIlSklatSBmWDS\n",
              "SgA8CjX/5XBsjLJ3zSd8lBYwQxGDD4/L6rivmAk7vXEWwvlOFswFUspGA7hP/Y3bgImesyJS9yik\n",
              "8Lm+2mDz69pneS5fCFNqOQeU2aXErGBR1GgVCFy6e96tlFJ2VF2dRn1nbasBknoqEZFkOjQxXnFC\n",
              "e0hwKxUsQyX68S/v3xYpOyPl4ZiBEw/QAXGhsrC9RH+N6c8nh7uwWWsjrbHUjm/c40qI6FQKCQAA\n",
              "AHUBn/dqQr8AADtskq/uHwoCoFwaKSd/nIgSr9t2A1wvoI9DlhuiOOgAnbzo7E/pXIqICOmItOAm\n",
              "njRW39Yx8kFqAxNbYU1NuBiH/WesC+GTQ98vh8lrKOyakW2IMOPzDC3QKhPMcs5pkYbieI55Wn9Z\n",
              "55WvX4MAAAD2QZv8SahBbJlMCG///qeEAADN4GapZkUl32TVzLbZcc8V0RrHUuy9Olv39h9O4ToQ\n",
              "xwAEqFM96kYiNov/CrvmRbF/7wFHnSIPsIJCfl7bL01WlhF1EBpxwr/gvSjmZHFd29Vlje3Qhbkt\n",
              "SsEL0+O8HKsYO5hGGTs/TW7OLnS1NNqvBGyLXNZHD/LI/+E0wJJlwwwSIAKmjlCCeeqADDAFa9sL\n",
              "B6b32oY2JsJqu6y5ukeHvHLlav9CRG6Vfxm9B5tRw8+NKwTPzHL0grE5UN1s95IFq9yuE7gwLCIJ\n",
              "2fhmoRrxkggBX+uUpAwwlX8HD75fqdNLLmsqAAAAjEGeGkUVLC//AAB5kxCk+oFM3UDQkLp7MdaK\n",
              "+djHpcNOmp+kJITn1mGv6nQADRlbNRkPEqw16iz55oEvFQEbMUnOxq6FU8jvsKMaxE6pY7T8wjB9\n",
              "pDpwI84KeWTTfpdi8RfOeQSmQhJbadOk9BxaZWsJaw07SJqIODF3kAArpEFYDojTY3LvqFIJu5OB\n",
              "AAAAywGeOXRCvwAAqLNGADlQCVnfSsAg53h/tB0s2LYSjOK5BbdvD5TwPlpCujtJfihSI4q4Hejd\n",
              "3kC5L2d2jtDgq8gsC6tmBPfKWmvv7wv7Vam0fe27MX96dupfBM9vlDvUAwOmHOpkNuf8yi2KhJcB\n",
              "9ZZDqqoZ63Zw4NhJkicvEgGaF8nX3cnRp/CVO7w40MRdPIcyHNd/ufF16b4Eoqc4kjI+dvQblmF4\n",
              "g8lInnL0IhV4x8rcVDoeDSP8PN5oHfu30vBRxjRbWERx7d2VAAAApgGeO2pCvwAAqDT2g+mDcUBQ\n",
              "UJmdJaTS5RgYtHG0aM0NUfHQRohzYSwShEJbrQTTZCQ5opDZtvmZHs1WjXKJ6JFWwX1hTb9oJLh3\n",
              "eNIEWhGc/nSN+3Og3G4uixap0BxkTEvmf07VRQdxSrjaTDriyib416RAMLJtT4Zg1kvRiHF4IiZw\n",
              "eut/4+C3G6XkxfV9ogBUecPvBNyhapTPStu3yM0lozeeYC8AAADTQZogSahBbJlMCGf//p4QAAMn\n",
              "wnR6JnWWwC6Kgx1UJOXDu0dHH/fDn83rXdnxloA99/aiDOi6KQXdBrn//hp+2B2k+CgMqcCx2mBt\n",
              "xzSd3KBf5I9AWnWg6A3VluRqfYNLgP2Z5cwewt7tB1M0yQ+YaGuTWo3W1nxYpd1w1gWtYsGqZWBx\n",
              "ABxUVaT56JheYf6ICPUejl5FYuLXVK1dVabMj8ZFVStmH0GT+tF2tVQo9P0XFbz4eMEN9RcdNdlM\n",
              "K87NS695WoCiTzYdlfdzUMdJ4B0aqwAAAPZBnl5FFSwv/wAAeaKBcAB1oqMd5HrRZzscXA65B6nL\n",
              "nX3ev+gKLscrdAy67CkxBJ2lpZ+sLl+OBpUloyZ5rPhRvzgZ6a/8gUBffYm8a/4a1p6H+DLMAZAZ\n",
              "Bvx77a/uRfc07zC2wiMp4Kl6hlRkvi3NTabX6T5LKnZmFMT8qgv3rk5Rk3qB9vVRdASchD0i8Bg9\n",
              "uGo6nzz2MBqSql49JC1VnlUiGfpxBI2yK0LL+Q+tT0fFHD70MC1eYRmsocx+7Bj5tjo85lpUqRWF\n",
              "e8thgYJcFtnTsPaq5sos04fXjamdT+zvb/8zYrj5O5YVlCSxm1ssCRFMy4AAAADBAZ59dEK/AACn\n",
              "4HWj2R5BqiZeFrMKcroecP//4FABzMyOJy/+m/rTFsOtgi54dPJ9df1dPOAaBLVCkq3uClwv4RG6\n",
              "ccU7BL9xkq64Qz5zMf/24LuoIaRisvfa/p79tL31Zo+Jy7aj2ALGWXMkRhIgkz5u3yy2L7dWjAAm\n",
              "Wkl5FZvQ0ai2MJoojEY3xIfzTXixIo08u9MtfNkshqc5i62uNJT7SC43jM7cgKFZNndAJDSTtRRT\n",
              "Oii7gD7WkLItEPZXzAAAAQsBnn9qQr8AAKhGzFHgAOIPk77wXp6VHVwPvYcN+uzv6NA5wcmrpM15\n",
              "IGY4AJI9u7xziRA1FQWpHVnDZLpfD3i6QjtO2huguyq8xBRvSG2wnOzbjLbd1aDT97+ipUNitoa8\n",
              "s32nuTELXkhyZzVkCFNzUOHEtMAL0cxTXTN5s7S/M8cawoROZfz8wN4uDAuU4Sq3nVqUzbyfd7VF\n",
              "wjIWfLpl8OznQLOfl9Mkos0yxn59laj1dIYZJYhXVvyAh0jzGPe5rPoBw00MKf0mw9eiQXktwU8n\n",
              "01Oke1mUG40F4lABFvGD9eMe3lMYhwUs05F5/qiWImOtRJY/1vOY4lAEm3NnNIvdIkfyIwNJewcA\n",
              "AACJQZpjSahBbJlMCFf//jhAAAw8HgG6AA4g+TvwJFKBHWefyzje5caokBOM1/ooo3ZafzWGmOYQ\n",
              "szh5K62rgGGAmgITHaoiVQTZxcuRmhdTiJX8jpkbuTvTeAlyWQ47XQksengQok/1hOsf8bRnJNrc\n",
              "i+SP2bbxMNqHz/tyXXHhkDae8TyuuGqxM6YAAADKQZ6BRRUsK/8AAKhmrk+UvmdMqytRXa/cLprX\n",
              "tuaPQL4cM9Z+pdnXYzc1Bm5cKPwAHyXyvLgoiKJtMlqSIi66tU46NJuYZwm6JRgMHsmyep0kU293\n",
              "pOAV+8Tq7jVX0SxBEmc28Ci0wrOmDblDbOxuO5iNQBnum1QahBiWSWH1k3cTx/Ty/n5gbxcGaH/8\n",
              "I80PQkNK9QY74W4nOBM9QKA09UzXDioYDOjGOwYPPmHrykHdBRebf502YwqaOm9UsrImkYVd9obu\n",
              "2MkB8wAAARkBnqJqQr8AAKyotqgqjhTykABD639a4CKM85A1ETbaG6p1ZQ7UY7GWwXJD5aIaIJ6L\n",
              "87bC/A6yOkJ57Plvs4XGdNIDxhHgYngFU5q3u2Ec7990PX0118sMATFzPLGj5BN4WBK0CKc9KHE/\n",
              "R+PoYnYtQ+uZ1Ux6i7Yj918GJV5lIMCat9TNMyXcVvH+lzcVFOHD39aosbFrsDCN+Ocvin87UAnV\n",
              "c9zGjRXz4TFWDgLLlDXyih7ZBSgkgzQzF6NFVdfBPf8USyjDWpIN/vaNhTFtBlTaetDvSahqF1Js\n",
              "jhBk1tYBBlkr33SGwfTpq8KFXP0qefcagP/xSF7WqFUGjHVP6nBx6y9JP72y9fhlKHVikYaoVBEW\n",
              "M0D5gAAAB8Jtb292AAAAbG12aGQAAAAAAAAAAAAAAAAAAAPoAAAPoAABAAABAAAAAAAAAAAAAAAA\n",
              "AQAAAAAAAAAAAAAAAAAAAAEAAAAAAAAAAAAAAAAAAEAAAAAAAAAAAAAAAAAAAAAAAAAAAAAAAAAA\n",
              "AAAAAAACAAAG7HRyYWsAAABcdGtoZAAAAAMAAAAAAAAAAAAAAAEAAAAAAAAPoAAAAAAAAAAAAAAA\n",
              "AAAAAAAAAQAAAAAAAAAAAAAAAAAAAAEAAAAAAAAAAAAAAAAAAEAAAAACgAAAAeAAAAAAACRlZHRz\n",
              "AAAAHGVsc3QAAAAAAAAAAQAAD6AAAAQAAAEAAAAABmRtZGlhAAAAIG1kaGQAAAAAAAAAAAAAAAAA\n",
              "ADIAAADIAFXEAAAAAAAtaGRscgAAAAAAAAAAdmlkZQAAAAAAAAAAAAAAAFZpZGVvSGFuZGxlcgAA\n",
              "AAYPbWluZgAAABR2bWhkAAAAAQAAAAAAAAAAAAAAJGRpbmYAAAAcZHJlZgAAAAAAAAABAAAADHVy\n",
              "bCAAAAABAAAFz3N0YmwAAAC3c3RzZAAAAAAAAAABAAAAp2F2YzEAAAAAAAAAAQAAAAAAAAAAAAAA\n",
              "AAAAAAACgAHgAEgAAABIAAAAAAAAAAEAAAAAAAAAAAAAAAAAAAAAAAAAAAAAAAAAAAAAAAAAAAAY\n",
              "//8AAAA1YXZjQwFkAB7/4QAYZ2QAHqzZQKA9oQAAAwABAAADADIPFi2WAQAGaOvjyyLA/fj4AAAA\n",
              "ABx1dWlka2hA8l8kT8W6OaUbzwMj8wAAAAAAAAAYc3R0cwAAAAAAAAABAAAAZAAAAgAAAAAUc3Rz\n",
              "cwAAAAAAAAABAAAAAQAAAxBjdHRzAAAAAAAAAGAAAAACAAAEAAAAAAEAAAYAAAAAAQAAAgAAAAAB\n",
              "AAAGAAAAAAEAAAIAAAAAAQAACgAAAAABAAAEAAAAAAEAAAAAAAAAAQAAAgAAAAABAAAKAAAAAAEA\n",
              "AAQAAAAAAQAAAAAAAAABAAACAAAAAAEAAAoAAAAAAQAABAAAAAABAAAAAAAAAAEAAAIAAAAAAQAA\n",
              "CgAAAAABAAAEAAAAAAEAAAAAAAAAAQAAAgAAAAABAAAIAAAAAAIAAAIAAAAAAQAABgAAAAABAAAC\n",
              "AAAAAAEAAAoAAAAAAQAABAAAAAABAAAAAAAAAAEAAAIAAAAAAQAACgAAAAABAAAEAAAAAAEAAAAA\n",
              "AAAAAQAAAgAAAAABAAAKAAAAAAEAAAQAAAAAAQAAAAAAAAABAAACAAAAAAEAAAoAAAAAAQAABAAA\n",
              "AAABAAAAAAAAAAEAAAIAAAAAAQAACgAAAAABAAAEAAAAAAEAAAAAAAAAAQAAAgAAAAABAAAKAAAA\n",
              "AAEAAAQAAAAAAQAAAAAAAAABAAACAAAAAAEAAAQAAAAAAQAACgAAAAABAAAEAAAAAAEAAAAAAAAA\n",
              "AQAAAgAAAAABAAAGAAAAAAEAAAIAAAAAAQAACgAAAAABAAAEAAAAAAEAAAAAAAAAAQAAAgAAAAAB\n",
              "AAAKAAAAAAEAAAQAAAAAAQAAAAAAAAABAAACAAAAAAEAAAoAAAAAAQAABAAAAAABAAAAAAAAAAEA\n",
              "AAIAAAAAAQAABgAAAAABAAACAAAAAAEAAAYAAAAAAQAAAgAAAAABAAAKAAAAAAEAAAQAAAAAAQAA\n",
              "AAAAAAABAAACAAAAAAEAAAgAAAAAAgAAAgAAAAABAAAKAAAAAAEAAAQAAAAAAQAAAAAAAAABAAAC\n",
              "AAAAAAEAAAoAAAAAAQAABAAAAAABAAAAAAAAAAEAAAIAAAAAAQAACgAAAAABAAAEAAAAAAEAAAAA\n",
              "AAAAAQAAAgAAAAABAAAKAAAAAAEAAAQAAAAAAQAAAAAAAAABAAACAAAAAAEAAAgAAAAAAgAAAgAA\n",
              "AAAcc3RzYwAAAAAAAAABAAAAAQAAAGQAAAABAAABpHN0c3oAAAAAAAAAAAAAAGQAAAgtAAACFQAA\n",
              "AfEAAADdAAAA7gAAALsAAAEgAAAAoQAAAJIAAAEdAAAA4wAAAKAAAACLAAAAnwAAAV4AAADOAAAA\n",
              "uAAAAMMAAAFYAAAAtQAAAOQAAACdAAABLwAAALQAAABeAAAA2AAAAJoAAAEXAAAAwQAAAQ8AAAD3\n",
              "AAABTwAAAHMAAAC3AAABXAAAATYAAAD0AAAArQAAAMwAAAEcAAABDAAAAIQAAAB9AAABHQAAAHsA\n",
              "AABgAAAAkgAAAN8AAACNAAAApQAAAKUAAADyAAABbQAAAL4AAAB8AAAArgAAAKAAAADuAAAAwAAA\n",
              "ANUAAAEAAAAAywAAAKUAAAC1AAAA7AAAAN8AAAFbAAAAvgAAAJQAAADsAAAAuAAAAGwAAAC5AAAA\n",
              "/gAAAMMAAACbAAABCwAAARIAAAGHAAAApAAAAFkAAAG0AAAAXAAAAF4AAABaAAABcgAAANkAAAEM\n",
              "AAAAeQAAAPoAAACQAAAAzwAAAKoAAADXAAAA+gAAAMUAAAEPAAAAjQAAAM4AAAEdAAAAFHN0Y28A\n",
              "AAAAAAAAAQAAADAAAABidWR0YQAAAFptZXRhAAAAAAAAACFoZGxyAAAAAAAAAABtZGlyYXBwbAAA\n",
              "AAAAAAAAAAAAAC1pbHN0AAAAJal0b28AAAAdZGF0YQAAAAEAAAAATGF2ZjU4Ljc2LjEwMA==\n",
              "\">\n",
              "  Your browser does not support the video tag.\n",
              "</video>"
            ]
          },
          "metadata": {},
          "execution_count": 14
        },
        {
          "output_type": "display_data",
          "data": {
            "text/plain": [
              "<Figure size 640x480 with 1 Axes>"
            ],
            "image/png": "[encoded data removed]"
          },
          "metadata": {}
        }
      ],
      "source": [
        "fig, ax = plt.subplots()\n",
        "anim = splt.animator(spike_data_sample, fig, ax)\n",
        "# plt.rcParams['animation.ffmpeg_path'] = 'C:\\\\path\\\\to\\\\your\\\\ffmpeg.exe'\n",
        "\n",
        "HTML(anim.to_html5_video())"
      ]
    },
    {
      "cell_type": "code",
      "execution_count": null,
      "metadata": {
        "id": "ko8KJBCNobY4",
        "pycharm": {
          "name": "#%%\n"
        }
      },
      "outputs": [],
      "source": [
        "# If you're feeling sentimental, you can save the animation: .gif, .mp4 etc.\n",
        "anim.save(\"spike_mnist_test.mp4\")"
      ]
    },
    {
      "cell_type": "markdown",
      "metadata": {
        "id": "gu1_f0XZobY4",
        "pycharm": {
          "name": "#%% md\n"
        }
      },
      "source": [
        "The associated target label can be indexed as follows:"
      ]
    },
    {
      "cell_type": "code",
      "execution_count": 16,
      "metadata": {
        "id": "7Yb76uofobY4",
        "pycharm": {
          "name": "#%%\n"
        },
        "outputId": "7b547536-ff85-4d10-ecf2-41af7342f345",
        "colab": {
          "base_uri": "https://localhost:8080/"
        }
      },
      "outputs": [
        {
          "output_type": "stream",
          "name": "stdout",
          "text": [
            "The corresponding target is: 1\n"
          ]
        }
      ],
      "source": [
        "print(f\"The corresponding target is: {targets_it[0]}\")"
      ]
    },
    {
      "cell_type": "markdown",
      "metadata": {
        "id": "YTRqW-wtobY5",
        "pycharm": {
          "name": "#%% md\n"
        }
      },
      "source": [
        "MNIST features a greyscale image, and the white text guarantees a 100% of spiking at every time step. So let's do that again but reduce the spiking frequency. This can be achieved by setting the argument `gain`. Here, we will reduce spiking frequency to 25%."
      ]
    },
    {
      "cell_type": "code",
      "execution_count": 18,
      "metadata": {
        "id": "ymxnM4CaobY5",
        "pycharm": {
          "name": "#%%\n"
        },
        "outputId": "618a7b87-ad3e-4996-c374-aa270bc57e26",
        "colab": {
          "base_uri": "https://localhost:8080/",
          "height": 890
        }
      },
      "outputs": [
        {
          "output_type": "execute_result",
          "data": {
            "text/plain": [
              "<IPython.core.display.HTML object>"
            ],
            "text/html": [
              "<video width=\"640\" height=\"480\" controls autoplay loop>\n",
              "  <source type=\"video/mp4\" src=\"data:video/mp4;base64,AAAAIGZ0eXBNNFYgAAACAE00ViBpc29taXNvMmF2YzEAAAAIZnJlZQAA8C1tZGF0AAACrgYF//+q\n",
              "3EXpvebZSLeWLNgg2SPu73gyNjQgLSBjb3JlIDE2MyByMzA2MCA1ZGI2YWE2IC0gSC4yNjQvTVBF\n",
              "Ry00IEFWQyBjb2RlYyAtIENvcHlsZWZ0IDIwMDMtMjAyMSAtIGh0dHA6Ly93d3cudmlkZW9sYW4u\n",
              "b3JnL3gyNjQuaHRtbCAtIG9wdGlvbnM6IGNhYmFjPTEgcmVmPTMgZGVibG9jaz0xOjA6MCBhbmFs\n",
              "eXNlPTB4MzoweDExMyBtZT1oZXggc3VibWU9NyBwc3k9MSBwc3lfcmQ9MS4wMDowLjAwIG1peGVk\n",
              "X3JlZj0xIG1lX3JhbmdlPTE2IGNocm9tYV9tZT0xIHRyZWxsaXM9MSA4eDhkY3Q9MSBjcW09MCBk\n",
              "ZWFkem9uZT0yMSwxMSBmYXN0X3Bza2lwPTEgY2hyb21hX3FwX29mZnNldD0tMiB0aHJlYWRzPTMg\n",
              "bG9va2FoZWFkX3RocmVhZHM9MSBzbGljZWRfdGhyZWFkcz0wIG5yPTAgZGVjaW1hdGU9MSBpbnRl\n",
              "cmxhY2VkPTAgYmx1cmF5X2NvbXBhdD0wIGNvbnN0cmFpbmVkX2ludHJhPTAgYmZyYW1lcz0zIGJf\n",
              "cHlyYW1pZD0yIGJfYWRhcHQ9MSBiX2JpYXM9MCBkaXJlY3Q9MSB3ZWlnaHRiPTEgb3Blbl9nb3A9\n",
              "MCB3ZWlnaHRwPTIga2V5aW50PTI1MCBrZXlpbnRfbWluPTI1IHNjZW5lY3V0PTQwIGludHJhX3Jl\n",
              "ZnJlc2g9MCByY19sb29rYWhlYWQ9NDAgcmM9Y3JmIG1idHJlZT0xIGNyZj0yMy4wIHFjb21wPTAu\n",
              "NjAgcXBtaW49MCBxcG1heD02OSBxcHN0ZXA9NCBpcF9yYXRpbz0xLjQwIGFxPTE6MS4wMACAAAAI\n",
              "AmWIhAA7//73Tr8Cm0WXagOSVwr2yqQmWblSawHypgAAAwAAAwAAAwCQhHHua5XJPWaAAAAvYAkd\n",
              "R/ghH3kBNDCYZZFWrjpvUjoWFadFXimJb1UuS8/N/B3+j+Gt1R+BLVPDXd5gh7gTTcAN00v1OG4c\n",
              "6OfI63q6/hsFNXQrxWxBfqbVtRodtrIOAJ8Z9cc70ABG+46bFy2Qo8yTijj6MzpIgDZEB+wL73sD\n",
              "Qxb78owqYWVq6P3248p2JBiL/McwbAxpovjsr+bTW9/IAn62VwfoABYIWh0YarPZW6w4eqVidgjv\n",
              "zbjLCmDIMvuU+yMhJj+VcIDf2YZPxUvt8eY8uAVaZxPFTTwdNBsIthnm8Cg5L8izTHewS7CwaILw\n",
              "jAr+7N3Vw7/8mGyEnd9vvaE0DSO347cqCHCALFB5AsyHpOVI0452bnF2j+uBgRZarneLBQ42IDf6\n",
              "YkiKH3GIOMXj50IhlYHCYV/TYeieZWf0C0qMj8yPvfDjSvFE0U9c5wrw5ZDnQ5jwXKLJaO6Wz/9e\n",
              "zhHYvvV8hlWdbYVSfTdDdPTzJbg8rRYX6yshuIDeihwaPkxcEs3mgSuh3R63KXLKaMsHaOI45z9i\n",
              "EDO7O5R8Qjz1nQTm531uQ0Jvs3xjafRJVSJoGvdGyGKbKWhArRT5ovK3Xqz8NmhKpjZuz++d2ITD\n",
              "h7ux5xWE5P+VX/GYkGqAq9bxJzizMMg970SkBycrPwPWfW0EbQcsKYevpq2qzuR9tKISUgp6qND7\n",
              "Q1NFw9cujfnNKLUMDo85pL+6ZME44Q++P1IxcjjXtYI2v/YfvcGAlWuGaWT2fHQ3djgHina0Pdw3\n",
              "cRjS6xhZTPFTtMSVxVsGm0Za6iVtVk1ChOMMs/33n8zxj5/d7WZOeMu0BRNu48ZhXFHpII6NDdDW\n",
              "51yAT2BmYhzsiskZFz1Yl2/t0CCOxNXWpKuDFQtq8UpQyL58s7Vl6867XjGsrG4HulbkebWpi+WI\n",
              "PE9PmNq4jCJ/or3kjUFNrLjR+0Ix2mu3gWjRfVFYWynNJZLbnbs1Bzc0jQA2Ka/08HaoehPAbc6T\n",
              "yg4Hpb2hdRAkMzqSzsy1wyNp33JdsgsrHX6AIS8DW0ZuNtWSO+rJmo1agVqI5xnBwwdXleP3v4Wo\n",
              "R+WAAADAar7pKFFT6p7G0Vl4a7VGF7rJhiZM1Xzy02M0/mNpNgyXqQYwkkoI8WULIQFAt+vKTcVO\n",
              "ANcktoCbymPMlGzAlEUx0o8kJBLXtt9oMiijVe7l8cBeua/X/PaYfbFlz0jqtYMlwRlS9eq4he92\n",
              "POmehIAuLYlTA3Tj8C5yUTO5Xi49uUrp8nCKoAwdxAKSOx70LlKe9g9WAso+cBz6Swd1SKF/35K9\n",
              "DySMTVMjvx6QOo0vcZlZZsGB6y+lYMCOI1QL41hGcLH3ZLd8LARhTaRbUywTR4f8bhtLjpTroY/P\n",
              "fPGICDRj+Xf/UvFur23uTkPtHoue9jSkD9XsMe6zwi2HaUA6n6pVyujMK/7mFOIvbcg78J0Igr7z\n",
              "6/I3DvUPnZrQHim0PcogfjPeE9LLLlyuYrlYEv1mqTgstv9SYtteGRihWwEp9SfMTXFEacUQb1I5\n",
              "D2CUNcvziJ8kAZW6NcZmiUfGLDEe+P98wOfmGfPRNscfU68nTmHns+A6RbVPkNGKtnSKt0RVoQx2\n",
              "n29TaeRYnkXJGIiT2G0r2VnTfJB0YOMCh5lBh6iRKTChpclVnPgnhCFCJDmy64qaM+nWwW5Popf9\n",
              "3WibwWO69xqUsw9KMDn3s1W6BfSyP6WndAWXnJXsEgmxdhfE+3JGpplERxSTggtJcypk0ehvF39t\n",
              "U3u7OhHSoIwHGyLffCHoLN2Y6BZ1sJ8TSQYT8J8XYvRzyNZ41x2HTbWD/F0lzWzX4MCHBOKyAssJ\n",
              "Sj5dQJ0/cppzwd/FFEnSY7a08KrxVEIA8dCH6AComkOWAFG/6hP1g2rOKDuJQScwsGUiECa2sap1\n",
              "RDLBcPhFWpQHb9FVK2n8LdeBmoysubq9PGifR5ph9sECh9vmTCnxygwpY2V1JyyPpoR0YOUoCOd4\n",
              "W+BHfF4sc1+9MoN+6mNnWsXGP6CrciriIk0ygYBFHVLRIaCLe2MR9RZ6cpVyKUjTGst4ZG8L9gpn\n",
              "whHyoNdekUhH8aT2nPtqto8fXvYlEXTFehnZql65itkSOjsw+2GGjw7q+GvtUvAc49wWR7128Nxa\n",
              "+by7nk27mzwowCci+klOrPWqrab1gK0GHwnvEK5UajDoFaCUSSMxmgHijlyMIB5aXyz4CmW/9Fgl\n",
              "DZdx7lQPqZ0TN4ZhWN4s4VzHBX1+8pCOlitc2bei18AMhCpBR03HtoNGgIEHlF7adncebeY8SmhQ\n",
              "5XLARjw4QdTK+yKd9eLA0XSPlKNT4ipznJ563/hnwRk3EvhVGyvacyhtVOq9p8JRxbB2vmtufZ91\n",
              "j3PQfCVLMWun8/BMCWSmbLNWEl+F1UEjCN3L1KQUyVfLeLLLmWgmgEJ/Mutez9vesaG1Dzh7shhg\n",
              "P6OnwIN+BhcpDyJ5gku0HaNedTArCHluPaZqxSqNE5mmX6HplL17LrhnP8lqA14bYphTk+IWHQef\n",
              "SfPd8Zbpmg/utGTSLMTUHMEbrgBns1EOvm7w30Npxe5sc15pdYgrk1MW1/L+D6gLHba/IvSEoaLB\n",
              "88ITSdQbHy8xFixl6WQAnqzsFHijqoZQGNbzQpQclbXQIoAu2JlLD/hlvgAAAwAefps8xAAATUEA\n",
              "AAT6QZojbEO//qmWAAB1Nn+GBa3AAypHinyXsiCn2BgcG39lfmgNDeTGCtN1+YwJ1Rb6rX5i4WWe\n",
              "ZW1rTcGZ+SRMDe+ZDomCQ7v/TPPNDr5armvTTCzMbqsiz2vpDaLjgRTO1Y0t/3qI+da+oWpkQhmw\n",
              "Azcg7aJ+GWL+YinhxgVKgkE4HDt117FywCle0hgWgOVl228JWwHtagZRXfc82/1ogv2lsKPi1FXL\n",
              "OmQ8j2EFZft7+xvb4j6V0m518/JbfeC0xEv+YjfjHXKE9VseUhBLP1ILRviIvf8Y3gZI3byUAX4E\n",
              "5VWZsWT6Etfq4ljHeN/7ok82JU4vGn8yBNq6KnBcjGg2SvlLRyt3tz4PJvBJYdkV3a/Rm+cRZVae\n",
              "BIt7GAx8aLpDtS56hhvostIq1AmQlR0DfZenuew8zZTakr6hdtIJx4sYQEYPpYjKEKdsdypG4BIG\n",
              "vUSRZ0uqvkuVNBzY248jlROTDLZbvlEpj9y1uMl7khaSJL3Pa/yerLQeesF8bVolc1Vxk7LV9BIO\n",
              "qn6NSbus///FiwBJS1wmO+TuMXX9CheQs62EpmQaA4Dw8uHbG6tBnQh4eknByjxw+yvfkDmbPqsO\n",
              "vlMafvUxam+1Sp+16WCXuaU98rX5zjNFLhqy/JhJsZ7gKwhjpHcmptTdpp4/DPyrHFSnMywEKxsv\n",
              "8FcpWhl/IKaQx4YRagMqWRyMpcNY+j97LRlyPgb6zFx4XbajIwpXM/kYtguAevcmbfAbbUZPrzn4\n",
              "OAXXoVvsQymDFz8wYpdZUf+ZlA7pjx7wm8qYqLMgDsXqm7tsP016Bn6w4z6kN2hzmwuXvjKUWrCB\n",
              "azHJQ3aHyAKZEFmaOoPl8OtOgNU6QUybpK75UKKG7FGjrjHIke58qEDHKtoUsZUFjadxHgyc42d1\n",
              "1Xgwh9Xj4PDhaJtg9ds4h3m8f8bIGeqvSyknW4H4bJoOSWJIox0+VOiwFCwZ+ZC46YnXR8BHqejk\n",
              "nQCHKyceUxYbLdRxMmVwHcBYMwUPnTgpiggFz66OLDejdcJPF1oFvX1JgFxTRNEo8C4tKCbRw98+\n",
              "i45sQK+idsvA/oZx86Mt7Xt/A6LH/khH3IXGOjnSHVtA8gmVbHKv3tKZCvhT+2jAMXGrsEfjKKT9\n",
              "YWlMZXu6O1bxodki2RWhTSL6vavC4LvKMlBAxzU0FZEbm1lK/PcKrgGXDd20UTzHdaziT+KXyiM8\n",
              "wFQrvV2QHd6axSZHwr9vdFKEHtVyRjQZSExBHDCI8N6S3c9M2ga2LRk7MTFyzUpyC5NbvqmPH/CT\n",
              "RLqyHC9eouLzBCfu78MsNj2uYToShtcWaEZoR+ieMXkJhZS+otWkVeq2sAS9IzLIpB+CoWpP+inz\n",
              "R35f9MdXIJM8oCJW2BIXaQIProh9WiZH3sFRWhQcJGE3ZjCtmaTivDuv7EFZ1Vw+BUFOCORT2CZc\n",
              "URYKL7scKL+egs+Wmu4MIQ5dPCozKGfy1bypv9RADJODlEFdXi/4k+fkY1kyscVnqg6U4+m8kCly\n",
              "xpqu52eH83NJwBInKVsiOG5lvcmI4SVKGgMhoCy/NFFNK+PWRv4Hz/HTlJioxV2jN9LHwAHm2bW9\n",
              "t8ZA/ALn3LxOiLhAAJaQCJ5p2LI7mtt9d1Ta4C9IUFJYQ7H+fj7JjqK6aVD5v8OLEYAb+xSyfIuA\n",
              "gPZl5P43pPGxh8/F/o08/DSJWHtNVtAAAAHiQZ5BeIV/AADB52090WACdUJr96N5T7RERGXxEVAd\n",
              "sNfcEtyfx9vXttf757K3iUv4R4oJZpXimQQPMR7bKv/V4AF1vJWfKE8XpKA9tRuOkl1yluFfEI1N\n",
              "nHAgx1qUJ4JxXwwdpavkf9gtxmxcqXY1Q95HpLQY99SP7fgfGt3CXJC/0ZKUkKGJxUiRHv5SRWbd\n",
              "fz4lcTEioE1lnvJ72oZ9sJRl2L9NoEoddo3MbtrNS8EBM+3TfN42VqCZtr1Xko+nO+PFcc25KI33\n",
              "y3DLqmyjG82nsjGTnTK6jVwBdVAlfJmjvdwGyG/PTdreqca9JER9xHzmqEDlVoULxqoc/l+msDsd\n",
              "QRfnPK1/9o8jJ6WlQ5OGXk8SXFPpyq4MwTFSB/l+4XYhfTE5QD7FLCnONNgkPUf9jQxTugs1lB1b\n",
              "7AuwAAHLgkB3P47Fraa+TelEyuozgAuGwmu+rLlBS0hjYwuGVzNcU2zmUKtp/iP9nKE+xmy8u1l+\n",
              "Rd9jGXpW7cSQOxJ+0J2re/dapxNRj8TCwzXo+57W3SZzVtYD8NaviqCX2WxrTb4rRTrqwimdFTgc\n",
              "1HNnWRYcdWBG/i5E2nE8SxzPMcaVdBPYsSTz4/zBb2GrnB4CXVPdbx4IvHo2POlCld6sdZUAAAKq\n",
              "AZ5iakK/AADEOh7IAqsPGto+YnKh8rab4otRPII3zbEnn25P5H+BOEm7M+gEkAHV6C9aNlbuLanv\n",
              "S18I63VI33lnIRrir0HEnEE0Oaxns61HlPsnzuLKZ/JmxkE/zzNG8Flx08IcVBHaWt36sR2TIACv\n",
              "43ANNmAUxBOW7NaI/g8KXGbOjyO+m2EsHNe20fZxNGcC7fieXZ93mKm0f+fh5P2ntKnjTHI6tNmT\n",
              "PqlJ80d/4JJOAq0W+0HYMc3ZcLb8wV7Z56DpIjx+Xmz9z1zAZ9IxU/rUtcHGh6Mn1kctigcQIQN6\n",
              "jAzirYiWaCx2B649gQhjMMy9M4UhVWQxDr21/05G9y+yj4ExH+wuXQoDkhnJ5hRAcQ2p1hPC7ctm\n",
              "kibZrq/0hcVo1pV/c4D2v3iZuA9NB4roqnwFTWC6MB3wE4jwPYY0ZI9qT1G67md+rBGAd8qpuV2j\n",
              "frrN3k1dEr0hge/ApXQ6fKJkRNM/dmvhHnt6xmaIQ43Jg2QNJ+uhZtS7QvEuVuuI4KU2XfclO/2x\n",
              "G9gqNV0q7cFEGL7+jV7mjtmUSBCNe7lAUiEobVfYcTCTmYFZpM5rTIMbn0P8BedzXBBRcUI8RT25\n",
              "X8HM7OmlqC1jOj6oEYVuro9V3mhdDyHf2enK2dWluOzp2ENWJjovbT4N8JpVxBl00pT7yaPCLout\n",
              "ItY+5ChHTEpmteYhzjtG06bJwPRo1R6cpuR2lPq5i4L+tvRQUgjbldL62rSptgSaxGhpLCa4vGVu\n",
              "tPK3tXmtUgwlnFPsAZ/2pf7FNUxtNLhAm8u7AF+BMpUi0DzhlaraDfEtF0R42TGMxUJwlqvfDmPG\n",
              "2OCYK8mogE5TGM837oJpwcO+SRbVzzP4lJ67u/O3/t7dV5yh+TJ98H5yxpTbGWmOGHpTy92pSAAA\n",
              "A1NBmmdJqEFomUwId//+qZYAAHf9tAvf5b9B2NuopyiGhbH+EVd7wfozhZKN84BUXPGEB80JP9fL\n",
              "F6YE0UIlbzhyYdoFL5sg0k1C7F5qp9bLRxvf1vW11d//P6wn+dmtwdfJNPqWDE2y0IHGe6+jULsZ\n",
              "A4tLAwf0INPj31Jlzi07Tht8b32ZEZ/7EZda9Q50Hg1hRO/LD/GTgwen8elTvsSrnKkccgZo+HLo\n",
              "e6EurVv2qfxVaVst8nk2D6Am4hnROjqk+NxxleCb4YOz6MaO9H5WlcHR9H7X2LK5rT3spvIYEInD\n",
              "F0G4G8zVI4Fr+J5KtfVB9pcI74wA4PsbMEUCD7ZapMz1nEW20+dxjNNfUutwPA9qlMfCthEaqFsP\n",
              "a8N+lyiu5dThN2Ta7NZfrSsrlsHftodhxZDRheWVDNxZQTE4qBA2IblbKqVYXm1HUptftN6WiRf2\n",
              "hrVIE2JOHuT0TpOjlX30RIbcTuKqRVW5wc4rbQQSUwpeYQ8/XJTi3rn4bwryqOlDXnzJFbZAidOz\n",
              "8NiEg0rNO3PNCmis0v/A3nIvk7tohbN6hm/6W15bdSWkBxN7r37rEJ0oqMaGAuHnyAfaUNSSu9PP\n",
              "W6xgCXkBzd9t6wuEmoqu9RdwaLjTVzEsjmx/gT3VW2lEUf/F7sTXgCW7J85a+D8232w02FiYbU7q\n",
              "ufXrXqOc4f4bW7/kGAjM3rrL8odvnwXW+I4Co8nG0HzUhS2a7/GzHjwGfhad/EeyD+iR9w5AAUop\n",
              "I7Qy+E6Neonu0Ad102k8XrBCd7N0LaKxo5A07b2g4SCvqj43vhK4Y908gfBgIb8ZlxED09rumrNq\n",
              "zqCD7g6gcAanx0xLKBSL6lEuwH4yxifVu15VOD9fpeeszulz5eKbaP1bggLZVsmOXWjO37WUYuSV\n",
              "8KQRoJ0V5TM1Q5KRU1+zhxUz4JRKcRT/9Wh3N8A4yx97+hUKyoCTHFLNjXq8aQTGomiFeStFjY3M\n",
              "0PxAUNBPuTCYBf44/x61xmPuUMl6UvUwt8VtJ4OkCGt+M3behIi1IMG/jRRSCk9CABk6l8zg1siH\n",
              "fVfyQAM0AB6ZcaC/lNpyALaxD+LXprxjibwV/9EFfEw4M7xoRZ8LKEHqEYvH9BXTiosIVtDjgQAA\n",
              "AiNBnoVFESwv/wAAjs5mviCTCTWcaNhoPsRa/KgsSYAMkZH6jrYzCXWBgzQ9LjYZZVj0epQOKXmt\n",
              "6uk288A9PxWfsm86dND/Vd3OvBolHJVH8Bwr3jBDNkvA7CBUBWuZSC4b5ss7bbNl9hT34IiHBR9x\n",
              "bhjlP5arT/OtMDdias16zuoSamprGL50ovB3JO82XKf4WiFIsy6syfaB7r98hr4ETiNToeN71ruj\n",
              "+H+g3L/fcW8lpYj+fGDguWGLKu7e2VJ6mWwdJPNlhaQXmxJj6Vh6yJ+k8EJevpE5rJSmPZ+mPhHN\n",
              "XPmY2womDOhOH6pYftJqLNH/Y0TmJN77klE2jWVRQoiTLE1pf1IXcN4RykLZTWkp6hud/1M3qcEO\n",
              "wNmLEIELrMnLY6zAqn/aXQz5/Z8p23vv+i1zzgZKojPyBRlrBdCMED++mONtvglYDpYTQ6TOyDYx\n",
              "WbYEgxLm2uB5lhFbHQP1VHIskiq13S/7DyqoVqKdQNr0pi6I87GcgEIpa+a8IX5fiQJa/XG/0C/3\n",
              "2RQdss9CjAgLRZJhaKBU8rkNTSsHnU1DzAocHlig7cp+ERxtijk0P7SQ4tvkHzjZYu+hzHlRrXE3\n",
              "b0j/sNdKXZl+294NPbpEUzXbz3b/IjFcPt+QXBNtukq8tb+vBvpcPu4YbL2vk2ftw+tBxkiMwZ/M\n",
              "wQx9EKUDDkk6/8MN8x8J84bSqq0cx4Ygnjr0pQccmItmhSjdAAABOwGepHRCvwAAw/7qnzcHkl90\n",
              "AIFoSs+TB9q7cSAMR1dBIHaG19uLI4A5hgVvn5NCLsxqUzsZMuebWtIel2iW42u3F/bNrnjj3xGt\n",
              "pIWeU9ZLoa6f5wD5UIaKBDAM0y4sxc1J0g1XcX3uyzwn8E1VYEvTNSb88LfZ9G/4HU+5jnpg1W8D\n",
              "y6KQcdtkTfpWkKCDd7o9c/HuRlkPBnRkOwByjcJ5D7iZpQrxefBP8v3eoiNYEUq1aJGTJmeboVoq\n",
              "Cx2gYKcCHAbmguoNInBYl+bvloIhnimNPlbxMrTAiQrb0GR/DyokPoPHo/1XCTxaF8FlFGzSbbw8\n",
              "18uveDmyfryFsuM4ssDEo7LwxFTE4nsq7cBingpfHFyD4yRKllVnAzvqNErTp1NbnbXR6WVYHOly\n",
              "aoJBgA74L7TVqtygbwAAAe8BnqZqQr8AAL9YPlDD3xhZ3sQAcD+ng7lpZDexsFgJQJ9LVIZt2kFG\n",
              "stKdXoy/NkiMIcDO6yNAyqlwVZznFZl73wAfgveq7mx+dB+17qgKqdwAjNciPMmTzsOd1XQ2eBqn\n",
              "DzrKPmxdKuHu9s41Mvuu5a7RYOjA6z6sNKuqgu8iFM0K9gohHkxEpia+6MhaGEUtYS7mxEwMpQ6i\n",
              "ofpTyFB8quus3dQ5PtsO6duEJdLx1FKGtt8P0BbCLScQV2CK/+k1ALTLH9cCDh9wptMF3Xwvl9BV\n",
              "q7Lz6PBcn3PouMU3bIfRl6782rzf3bwbTNlQTLAKe3RGJHcQogRY8ASF0tWKOYgPn+SOxntYlVRY\n",
              "xYxSEUaSmnk5GbEZsPfBdY5LaoRnqzRiewgggN6sSUr90kF+zCsAyQSZkaJRq8XTWv0rRHqN04i2\n",
              "UCTzAD2EL9r5VvIYcwP16aA4cOfrckldSOcnVfExD7g33hpG2tmatUhAM3V2QzGeQBrfAoLP0Rql\n",
              "Zpx4nWFiwM0I+HM6x8dsmNtw6rGzBt6Umay8V9a8zu1E5JOPinEPitqt/zWzJQ7Pp3fBc+Ar6lez\n",
              "Kw4gll+J827RFnm1KExL0RPqALnXwcbOHr7enUDpfCVTRBIRzKGZ3NBm5+S+TEAXzQixAyyAvSEA\n",
              "AAIrQZqrSahBbJlMCHf//qmWAAB0mpuThWe1CfelPJhE53fmcG9zeHeVEJojpGABDb7/1dAx+P90\n",
              "DE9dNxAuL4gQJ24T80BoKQu5O2rnj/C76Ei5hg3tfuBYa/rvu56gtGy14cF27lD6bamuBCkPGi1f\n",
              "GwMCSh1yoxidt0HszyhAUgfLucYvl2fb3qhKkgkeguD2DaNNGvXmGaYeMKuzcQs/691k/oD0uNHK\n",
              "0DKTZ3z5HUOl4oiDaGXXTazwpuzDD1PcbwPoIWmCgUH3M0GIhB1fMKE3mASXSa0onne60lmzHiU5\n",
              "9sNf6c4wL07owcDmWHvsZm5tMGir4X3upZVV/2CgjPc2EcKTapX8hPRKynWMfa/XQhTSfGbvC+wK\n",
              "ga3nnn7HM+Vn3tYVfGNiadbzJsN0DC0sblZ85HJ8eeHe7nb5hKvAsabs2dtPbPD4FSPA6J4uZ+5p\n",
              "jONvwe4M7l2Ubkqci32izWV1gHtCny111e0Kir5+qSHDRKfrz6LjjyRkuU2z46jP6ve9POQNacDn\n",
              "FmO7/px/47XGBKsP9z1hQP3KszshH97gLDkw1iVBmcJqke9uuCtebYSL8SttDN4ampJk+iXSNyVW\n",
              "ymZp+DQ1bP8p85XLrtXk2vVNlW5dDsA7aIIurWy9t1jyMq0UiLhZVMdzqWmbPRK3ksyOWgdZA7iy\n",
              "fZC/unOv83X7FRNlbZsA5yB4ZCBeZET4H8epCRq3QPK3Ir/9/wzapAZvR+rAAAAClEGeyUUVLC//\n",
              "AACKld2yk3q3JqPAA1zovw44ZqZCqlNVd/i+uDvmZcXfI+pQVhMaLEUoTfq6pg3gVOiIgVhY/sW/\n",
              "P2vS34vE1EXYYt83uFYAzcOhIkS2/d08u735xfI1LORpNzWDs95ia8WoT9uJ1TYf80HJQ12Lz39B\n",
              "0mUageYG578CuiDNI6++I7OYbdmhFPomRkMvEWDIXRY/ENTmLgwGN1OlABfoZACX87prm/LlRsxM\n",
              "2jLccjDBeEuXHUPdKAAE9IPBz+oDNEfJI2D+17lvEgeupooWGEHPMIbIEAtbXClKHOlyGapKRxCg\n",
              "RXqb+34bk9EOzwTKmaXaHIyj+M/A+Jr4yHCpcFTo5xm6st9g7xxMBdwT0YBAKpZmdh4QriFoqFKm\n",
              "L3ooAMKDsO2RjVvELp6u3389QpAyflR5KUHlpL4ARW71I1reA+6n3QLtWCtHPXeuWCukCyH4dwoS\n",
              "3PDYesKgeSH1bEfegO6bXZZS8UCCB6Ortnti65TpJu6zGn44JRHHd/GJ1slQy1G0iWz+uuHagYfw\n",
              "qGHnMVpTGv3gr73Vhlddk6ZLeoBd1ipq+EVaA0PFEhy6CQMdXt0NU0wnRarjg5O36axIeGmkGZyz\n",
              "UNkHmxU6TsagYd4DE7855YhnN5nbbdeFBz5STJP8qCtmvwBny/k3pD4cXLlEWAyfRs7Q4pIY8fC0\n",
              "Xv06fdl5essWeMKpcsJUOqJRNZuah9xIg7RJU1MwJIfi1UiKrgLKPjdG1kCNfaayYL/5eNmoGa1l\n",
              "XkFVFvFsv2ndqGciviomNeLGglXLAj8gq20WHhHB6qyxHf7xzKtcpxGdI6vB2cwe56GmP1gqn1WI\n",
              "nRo++tJ3+SfFSXB+vKDYaJPAMQigCxlXHAAAAfEBnuh0Qr8AAMP4KwcaeMzS3cLQ6CLNSB37SoAD\n",
              "s0XTPuURs0jpMA+Yee9nkEHn8oia9fGgnjRF4WwGdduiY7BAVkNQIwlfym1XxwXz2fydu1htgCde\n",
              "efxEi2QoRgVFokPB1r0X8Z0n6+Q48Ojs5NOCCbtHBteBYTldfz6qBfuBDG3z4kihEib/dgZ18ZH5\n",
              "j+60+h8jG1tt8rDMa4nsKQX0utUqS/GH7VAvyFIAOJxjGQxSn1GxQhPCJLXzo6ULuImDrbXqq9MY\n",
              "6o3ok93cXIuNJvV2KifdfRX0Fq8PKwBW0pFFlXAK9rsrV8tF2CPcNOABnosM9kgFj3fbC/tSd8kV\n",
              "q5Aww8JkXSDdTGEAtMp1LQ4bnAJyGB6nXeP0xM9Ehj5rdx8lm/JJQdXuG4SNvd4sCPrC1tdWO4xj\n",
              "s1/T590tDsqd8hUtl5nVuomv2hZVysOBRMT5As1QjqRjh0laxuHxtyhifQ5KQY/z7Tq4HitEDD/P\n",
              "LxKUvOELMpa0ptC4waeH389/NI9JpHeja0gzv/RNd1UVNF/QPsGaVeu/6W2YPaXypeu9CxxEdkqj\n",
              "Z/GM0Vj2pSi2idfu9oIEGYwwvHk/RmLwCzTmJNqftsqomc2XdWv+V0bLPrpSxJduEYI752TQ55cD\n",
              "lVqS2QAMWSOBnQGqgQAAAcgBnupqQr8AAMQzWvSaxWKmf5sCrs35enHU+EAF83Hv5wSJ8iw1bsp6\n",
              "P54YhP/oExU/t6jXRJwN3R/NDKlOnhkfsPykAVhr/dCcNu+gLY7bGu2tcqelUAvjM0DiwPOAfr9B\n",
              "2zJYB3A5W/WhWP1PkPpwLvnB7B/UXdbZHkq9XpBQxxKCH4TyB+iorN5XLOcNrdU721RPlxLYp3DK\n",
              "drwgqzm3e5ZjXdi9mJdJGibh7m4oJQ6D9XCCeFmURHjXJhSm/JYLI2sscMVyeKA5Ppc/gaGvKvcw\n",
              "grUo6RaEJ3cALxMIXqmAEXeuJtyd+KhH26NbAKNzEMo7uE/ZI2bEPY5hj+AnqwBwK5H0ZUZkeFuX\n",
              "uZHbf8DYud+CYPes5Yh73BQgRMr052zaO+4bENB+yG5iEdJtg8+uG68LMdIa5S2C+KNL+OH2jq0O\n",
              "MT2XY2W0KiMADMmxjC/q8V/H6MSf9XwFHQTcQ2u9OKWrhPu8r0nKR3nM2J8r4rRDCGLmYe3Lr5zE\n",
              "SUzRB0oHj1fXs/qRbbDwoXAZzrXzBiSzzV7MDnqGH1adtDJ/gZSdc0MZUe4Shym4EK07o9n/aK5k\n",
              "6fYX6L6lIRAzB0DIcVlKAbMAAAOxQZrvSahBbJlMCG///qeEAADo8J5NED5McBre7Gb4QAmiW5vl\n",
              "JYFnSyrN3aw8e+Y1O07WLsCO1xmnI470Myrb58GtUrqoarMf2plWOqsr/GaP/1EL0R0fojTeINqv\n",
              "jUgMRo5OCHVSxlUPakVfcg3Q8OYiEbjGZQIvNko0wlY+81mSNHBr2kjsuRqNy+Eg3wQeq404Wv+n\n",
              "Wp0LF14j6ajJqa+d/IgtG0ZAHfYM1yte9FqGEhJLfspVd6F3Xk7iKAIusjpsm60OSq+/OuCQkjYJ\n",
              "GQwQjoNPirO+xty8xdi/gMWydDFaA/ysk9hbQW4Ay39BV4NLLJCzVXMmyYk0KIJBsIw6ZSZ/HQRf\n",
              "XtRa3hkfg+FW3DKuXBC21ln6nBdwPy6MA02Rf1niSBdR0sNg0LeniG1jx7S8vLhj8a5UoC1bryPt\n",
              "YYCThl3uSQAev4V6Ck+SswdQCcIqiPhL3MTVREC9BgnK+bCfQ2pTcbpZ70z2QdP7r9YljrFpYOiC\n",
              "NoJqeUL8htiRn8Z4C7S/hyTpwFqjaqkEiVKAOhKsSUK5O/bK2ImuIeoxZUhmqAGmkhkzsyV4T7kV\n",
              "hDjqXxyeoPEOZbsx0k0rZ3FudTf0kWuRp6DmuLx4e1kECK73eIbYbf6pTr7LDGStL2kvh5og8IVN\n",
              "V54W3AmN6qD67O5GN1uJEYuOnJhc9Ct41gFjCDHFBzqhgQ+EynQzlnCgHvN7or0FAy2KQbz0Lazh\n",
              "0x3CRuEZYmMuQPoRnQN7yqdsGSLAn2PeP0lolH1ghISygUSGsT0O6kPkDOr1NzpC1V5fBWSmeGXX\n",
              "6sx3LPgBAD0szOq/HR1UB8jXvogOZ8ZQRmMbVprolGMYTs0IPg8azp0HXdVL9knLNekoKPODaFsd\n",
              "5SvXlzoFvglSnssL/hyL2SOKcjEZFfBOnaIceh4YKZBAo6DhALutdwSw9zuZxsL6oQOsrI5ZRo9I\n",
              "L8fxnL7eVeZnLKYJKVKkamhk7J9G8s6J+Y5mQ4cTVz/2Sq7dxFWPvhGQAXoPDO9CdWXa0rYrRGkW\n",
              "EsUgg1WtEP7f+yRSFTJsDBpD4S2kBQLvVn19KW/yJFyn8OZlIB0yjgZXyx/N8F7jKy1aad5liWdb\n",
              "VzCUJKKHYOdZbOlFrqa3Tyquisy0h62pEh/7RH7Rq3U4nQdfaZVLevDZCEPy84gulJTZsMa2S1TJ\n",
              "MC3Fm3jIWeQwGk4sAbVvxaFr0/og0oipDpyS3rXWtyIePduZFEOCy4+80AjhBcbLDK/zv4OAAAAC\n",
              "J0GfDUUVLC//AACRYr+ZjMUqABoO7RSMsPt9wXwebSHCm4ZRNK+EGfZSC4Fl6mKHci8dkcFMRQ1D\n",
              "HeHyZRD5HLtomDGz/etl3tl7YEq7bL+2VhGPkbHDNlEJWXzNryawA102+fVznbYImAHe5AkNyl3B\n",
              "JSf1LAnwI5SVroLCi9MdhzDHH23s0tI8rrg5iLZi+0WdcgOfRHr8o3C9XVGgfc3sFBt2P3AqZIRK\n",
              "rNRhHqlba5IYtm1Nn1nvCQBc4XW3r5FRg4q79ZI9Cm6FXhosCmSHhDRrqHSxzny6m0FpGaix74Ip\n",
              "oo6IBSfiaB09147LOQ3pPy2dwbt8QWdBaLhiM5LprfgPbAPeoMBYRKB0u6c0sA4Z7XHGf2jAIVdt\n",
              "PWjkbwtrSCMbWlj5ThNMdOzv4txoUjH4Ey42Y/8QEpIDma/MJF+rnMvoTyMcMlyRwaO8gw5NOXJx\n",
              "2+AhbcpT+/AW09OvbKWUZNt01dk9Sy7p8WuWAlQNQ8L2gqLAG7zPOPmqfLc7AJB7ZFvohi2Ujdno\n",
              "ncXsq4rZgYoYaL65I6L+jZjCU4R7bSRSRD5aPi5n6GKo5QDZsrDmbJ1vcmfJELGAgsgphjBIFpgr\n",
              "8dtjunedjFxDhQlI3wa3PfYL5Dwf8Fx1JWhJpIGfjnaRQuBJOwduyH7kEWb+ijvs4cqMXkF5hsMZ\n",
              "yTGg872uPrAw1LUYLuhLn1LxmOUvXBbyKrRPVNDPwry7ztGJvCmhAAACkAGfLHRCvwAAxud6uZ6m\n",
              "2PSvtuJ3QlkGoC233aV8dI0h3BQLnhiE/9BABfXmKn9vUa6JOBu5P5oZUpzMEj9h+UgCsNf7oTht\n",
              "30BbHbY9xxPDYvhv7wPY3w9xWFt96fRBlbubj51+INu+igjUEK8tZjEmZ/BJ1mqTI7OZbR7D3ve+\n",
              "8DjNZN/ncZ3u4yH+PXTJK6VEaf3ca2A0wNsJ856A1WxHarIHqmzD2It9T3e2pKisgCZ2jMAK49Pe\n",
              "i0o8GUmtYDn8+1TJMZyfjIuFApGULSmdT5KPSow3eolHBuauUDjK2AGTEKX/QiMT7zPpfVuaOB+6\n",
              "xi0Kbi/zAUdbOGEcRZz+Uwa6ub+sUfbGpG+jduQPDAz+m/xcm0SG++YvfYLJqTtRvHqgaYEqlssj\n",
              "xHq/kaFGgJzDQigCfvZXgbotXh1KKQCookHC1J9RVV9Oz2aMDCkb3btzyTg/eiN4iPZxcG5Z3xFL\n",
              "k82DvicHKvPY3V8JIIleLP/B7FrB1TxpbUzIwnGfWx+2Htb9rY+jGL/6zzim9ZG353lnBZnwaxl3\n",
              "GYBjMNcs0vvLiia43wc+dYRMrQkZEJss8fuYhd7e9gNlFWQ85WtZHtJaGzM6no0ATabaUN9nG5Yp\n",
              "6CJAtrFzLTgvhNS37DhaKENle6R/EtgafaA3b+OwB9suqv5wmOaXKx5D5rECYpDg4w8J4wxs1KoM\n",
              "05yDgnrqKgbw1nZ/nNzQ8n0Sh0EADAlnRT7re4CegQfLeVz/qDNG7On13PVyiGLoRMCd14rRjltL\n",
              "1epctceXeXo8hSiXL/gkhk8TltZjYG2IEanh7El1UEHsfN9Kcp9nYzj2y39q//BviKocKB3yJSlL\n",
              "utg1zpLYMnDqMQ6ougR9AAACUAGfLmpCvwAAxud5Z3/hWiyndTZkcNyB5jc6itIk5+RmgA5tFDcM\n",
              "XWSLc71uWC7VCwO0uH7nR+chgAF6xetGykp8bSsFdFGhkWdSS90RoQ3wgjyVS9lg0Wl055R6GjFy\n",
              "p78wATLkpL6lpSmGr8Hsa7FsdC9AkmbcMaVxMOrE5JVdN8UphQgB2pmDHLv79RZzbnMHfpvWfAne\n",
              "b7rLxV/4YtoEy50m/F6ZBhxCG37WUsODLxBr56QcshP4FTtVjCTkysl6t33WiBwBmTJnTu0DsXBT\n",
              "OhRRPD6f+aKxlAPdUcylTjOO6hXL22QzochMXUh5TF2EQZ+Vxvgq/JgfcO6iNJmgH9RfXHAfZCb2\n",
              "Xwv6AFVEfkkC0G5dguwHVI6LfxnzFadV91uprIw7Oc8v7zDEx7snrnxXMUbkUAunjljiP6wi04Bd\n",
              "nwWsl0pOAeICQ42oUDJe+liIh9P2oPrjo0KxAqrCLG3Mb2e0Ut569AOW4aHv7lTJDJstnCkgLvTw\n",
              "DEPo/qO+SljjrBE8NVrdip9sUWH6fBMWb8m9zPmxt5SJQ1b+NBtACObotCRKwCZNpqfXgEKdiSKf\n",
              "Kpq86Ew7Cg4CW25A4SKGWnFeCUHvrhtXxcac99YZyT8+vOoTpR2s26lK1pDQof1V/r8/5nEwphE8\n",
              "buGlvn3z3DDjqocFnjFyYoA5tMDu4FyUGFite1N9dMswhMMAPMJlt3zNpIsvtgCdx9WLVAHpvCAC\n",
              "2D0O+ByN5jKvoza72jNKIrnyE9mFosp/JRiPQT3W8u4y9AZmvrw1Q3EAAALQQZszSahBbJlMCGf/\n",
              "/p4QAAOHQ6eZtyeJHEmjgAXRb6lcN5JLQfa+tRebqjnWleSGk8ErekG1nffNu0xF+RyNrihls6S+\n",
              "gM1/kqN8CZ+8SEveeB/NajrY0GOqYIm+eAKWh1C6ReAh/N9QOIPTc5H9dUTAEVNixdWIwsgQkiqA\n",
              "A5o6+qn4c6dvWl11w7QVW2wlVR5zDhgyA6jMjOQOd9Xum98YSOVbtZb8dQ4xM5H/8ejZv7OknTAs\n",
              "GzWrMywiSX4go952UtYXtjLRRq/U8xJ5wg5aDFcf8ggqoPJ565FDaXHM7GQq0mH5khfDXCLrzByp\n",
              "pAzJ/rhR349W2ZNOA22DVxXOdwjPV/qo5jcbF/LFBny3X6yVCvb6tCulyo9or5sPJzEDhZ2lY9un\n",
              "I/drZg3CcWjWH6JzwCC7Z7jnaA3MupYK7vfuWcO92k34XttMhHnwU8wkPvCN3oWYaXaIIPj74fX1\n",
              "veZWrRkR9OxVRfY7wLZQJQv7ThasdTlm1Ui2mB/rWy1CuVOEmo/QxzwQWJ2dUl5sE9azuKxj0ftu\n",
              "Xtd0x2bfP63BWLXslKG4xeAVcZxt0B0BA1GfD+leBJ8GDoI9Hh3sdZE5z+P+sgXCgzXhM4VaEIgy\n",
              "kbzM+vF9D5bpW/fJ3pMwCj1c33bfKSYkQWN7HFcdokK9FFOwM0bJhaFjSj8qQUppxC4Dm83tYqOD\n",
              "JDtDq0ywyt645dnJIYQcsCYRuIjUhaL/nFSB0ShS1ewbbmASPU9ARCARkj+SLQsMXWqZYLsxxhWQ\n",
              "UE1xWmhU7I7WHV7SDjv/WzB3ujMG1Fl8clp96aGLsI9aDHLjl2gC3fPjFZonebqTQIQSF6JtuxoI\n",
              "QsMnnRAm2lzYr/i51Q5MTGo0uzpIQl1Ba95Ts6Ai+6pDG5GGG1YDrXcXGUukxNrXhlb1F1kOdPsa\n",
              "ukSfY0yF3rceX4uTJjeHpTAgTpgZXpJ2AAACM0GfUUUVLC//AACK52q2yqR8q/K6biVIXPQXcAGU\n",
              "0ls/4yIKO7XtCFYcBXCxEstb7TgstL/94Zhp6Hr26UAk31yM5boU6rQb6BQfdPf1Whrb19b6oBaF\n",
              "fsp4F5tzD3r6BZXxaZn0QDWbRKiSR7UgJjyIX5mK6U5jV+gR6T/FK2J+0Q/bQjGYLEsAGOPiiyrF\n",
              "JQJiHDH7MX1Mpv3n0S1RPDDwXXsaK9vgrZsU0BVTP9mhDv+ZAQ0E1gaml9arFkPgoCNOyd5so33N\n",
              "dUr2yc+taozZsb6DpST1vLc6gDlgiSvrBhuAkv6XvoVyOJ0j8XCdw24ZY8e0Sf2MXDDzgozsfnZS\n",
              "4xQv4CUabMYv40xv7TuXJ0bk3rE7Jp4rcRMJ4/oFyISld3wljAyHXRZVP/MjIKMLue7PbRggzBkA\n",
              "AAap0fR9b1oVNkojl+PN9RiBIDMaNxbZGlzGsLZWziP++1PgmOqFrfIDiTzjPIF9AaZ/+uhIa+EI\n",
              "8KG4SQN6OAlfa0HJ4x1fZPBIaSB8v1M7mn6oHAEQ22xxZRxFlCvdsJOJ3PfS80u+de6qckbxYdJz\n",
              "Cm57kKJ7YHpUzHXlMFtl375GcaHw95LjpYObUKYfhro5Z4WmEPnuiK74ds+/IULb0ZJAmBSKgQ0P\n",
              "eXmhIInEYhEs/KtUTO3NtP7/l+uiLWQyoEQjbrX8LFPWU3rF47Pw2CfPbIHYczMeJjyO3+PRgEjp\n",
              "NwgHlOnqYi5/mCyeAKJZPjMvtIoeAAACHAGfcHRCvwAAxCHGKZ11+oXXMqza96YN8D4AOIqi4woS\n",
              "ODCWnY8j1MvDtJT+rbyI54rN3dUCVWQtQWzUGEtncHETmXFCLJyTZ+L044zmDlL+ga/sn8GHxyFB\n",
              "0ehU3i4xYr6E+hnfs/s6rLyiG8/QYxIgSBVAwFdTyoQXQ0FPgcjDD0NYvP6+I6ahEJf5AqMuqj5f\n",
              "y8CFRF+q3voy3Lukg4btZArqF78vYWWPCI4XxOu14U+FxyJuUoACg3oUvZXXmmrbK7pw/RKO9Gw9\n",
              "X2+714HCTN0x9HDDD1UnH15pFGo75B5meNNDigoBKUQzHhaoiTKAbZ4MmESLydxhk4NAS+/LaFE3\n",
              "VUoSzYSmpFJ6O6azTXTc4j+F8qvtXZ00us3EtBZ9fdiT8pjF2y9A38nWQat7nx7JtZEJfw7G1qPS\n",
              "NBNY6xjbArh37o3tfr0lbOtu9ozTRpZ98ih7cQDCLLYrnMjxT32slmL978LpMpQp9EEIfY6r/r6p\n",
              "qZNdUlfN1UB1r+rFFmq/q6vO6Zz8Xr+7jHcKHGJermthLfQ3TElvttrDqnGpU2E/L9/4JYIg9XUM\n",
              "04Zl7Co1QA0MwUSxD96G0RW87DjG6COLfbBPjc5DUGJWJwEsmsn5v/sWyWT0pkpzXE8imHlq/Vf2\n",
              "XA7z7QFOCjN2KA/GnVjRD7Uvm+qbNPl99xGlJZEUBZ1uTUd3LAOCns7TOzOxfz9ZJCqr4QAAAqUB\n",
              "n3JqQr8AAMQClfC1aDy/cDJsCft/4Jrz+NcfzuHM5lYOhgA6OcZ2DvsBq5YwghYpfI+URNkafkO+\n",
              "7B5aNZ8I8hSNFSMRI0ej8S/glbYlRt52/SG0N8aKfJuTYDH2Us3hYcIjHdM2vaMLX9cvlegvR+3r\n",
              "ZOY2+ycHjS/GaKO2eRG0txW6EonapXxIVqrZ9goX3d1EwcR1R/myX6KUPPT2gn+C8TpZwjo0uuPT\n",
              "pEReMsmxJmBwmvrN0rG3dZrDlVuzqIaFZeBH7/K65q2BON7K0Sibc0cJQoqm0A9V26T+vehfZwRg\n",
              "OljlLM6YNjbyRMbDu1kJG5FoA6n5gj3hWf0wIJ8RsK1VbznUaOTM7hW4Cpkc2Us+H/hSMaEm+lYn\n",
              "EhyF5Q9O9R7aYYFajvHT6u/ey+Nc7yWmSFEv2SGb5DuUR45TwHwLXvu3PahVUSgiGEnWxeUneg74\n",
              "YGP3J4aSq/r3128EUtreHkHR2XzCM7goQxfLb8biEGwG74JoFRRm5Wo2s7GZtZzQ82Ro8TnbX+wl\n",
              "88FANTms9nUw3ktrUg/qr1zaF1xj+dd6jT09dmFrmPLCMpA3vjLLQKEj6XkLFzYJqrvpKFi2/BKl\n",
              "TPGDPCWFrK6OwpUUdj0odNdrFA1gkQ/JuyogxQQ8vxMITBaJ6CQCdjbmj+48cfmFL/+FnitnXHsh\n",
              "vBAIXL1UPeZieGpNozTxDJ5B53cdr2kW3gtHBmcUIgF4hzrB9outF6ttMasogygLcuxBGJmN71os\n",
              "rMnHksjGF9cAysCAmJUxSHGVFTf4x8M7RPOyQ/6qSVuY7icmy6gjEY+kxOk+UFKFbYfsMNn+ZBEI\n",
              "ToZjhCFtyxpP+8VvcxuKfjbQHFKAAf6ALXFQgjGxXyKIoe74m/+3uZ3BzZL0ISoHgAAAAs1Bm3RJ\n",
              "qEFsmUwIb//+p4QAAOeDryryf67Gh2+CiwAchvXLd+/TRQAKO453Hl+jBdWZjY6Y7F4nLs8lLoXb\n",
              "Z13CYr+f+BYPJh8CEhvBfGQSn5QWs71+/S5SmgeRfbv/7J3O/5bEeL7S8R3OvFMeIH1+WBUrGy+p\n",
              "069sEy/0drs0wHbz2UOBNkVsfquIfDvCN+5WwQH+FWO1W4KmsY3e6KrXxQVbNYMbqW2Fd+NK4rY3\n",
              "mthmj6y0axA2cK7f21C5ISfTsfvxaY8rn6z4ohZ1NPSnQAP6snkEikYB4nvwtzAOsty1rZf7yhkR\n",
              "DBZVO173lPJYH0IRBxLbkq5uIeXYSERK9/gtnSmq20YWTanTUNHOcbBI5X66gFmy1ownf0qbHPBL\n",
              "5BWi2NdM5fV9fTlVvLzqsc9b4F5Zacv9P0aoNOzYPKuMz98rqDzidx9witaqhBsruEWsm9yf8TH+\n",
              "G2YFX/tFfGNoNBDtexsVSO3P2sy0WV/1l7fchBbzJzKp5bkb26iFY67UAIpFLn8uIoeTWNO+TTzR\n",
              "QLMLTljjMXzWWfEROAxOBWSlzmqiQ8yOGABfZIQWxdarWUaIsNnWfDpQix8V7GGRi/33CLenVBks\n",
              "Xhf7PiLvksIKfxm9jXvlysjGd/jsgKn4BgcS0xngdb5q1QWqMWH7QTK5HnP9y+veABOXN0HCQ909\n",
              "wISO4GttE87MwDdWA98B/PDNVwyGoQVslE/isY+3Rk49xQFNA/EmdLx6jjU0uHE7FusnXdc4wCqx\n",
              "+PJKSxLZixNdqCXi9LHcYkF/kPHA8U89XYfE4ZMC8pHhqPIQitcpsrde6P5eT5smAk0W2hjOblBg\n",
              "AvtlolD7C7pWCLn38+LfhN8jpsw5n0RPhFKnjSUYupaqEQmecPU3TYwgW84BLxJmBrP+sjzCRjYQ\n",
              "c1cTte3lNADMgS7BkabDF4XHjpCEdpwoolKKc6YAAAKRQZuVSeEKUmUwIb/+p4QAAOj7KfgWnk34\n",
              "Ema3yEbvjvCOfe1MZN62JB6vknEFNwoyzBiOuwwlYmUyW+LkEm14GaNEtGWGFd253kfoW/nOWa5L\n",
              "upWuTv66xJfdgAVqOD+4iUaV9EjZ7a5R9MAv4dGvOM+kHaj3PfM96GUu007z2mudeRbW2aD/JVOf\n",
              "SFyontgWjaD1KR5DZdvj4Ra8r0uV9l33lUAEW8i0clL6A7m9o5b5xTlIpNDtPsBK/8AtESYvU5Hu\n",
              "qtp2CruDE4f78lPTl98K8Cfm2c/L1La8NUmT1qmDbH8IgHZkc/u5qcwR9af9pjDwMMNst23BsW/g\n",
              "AV/kjcIy/Lh7QRM/Lu0KjjZNhE2RN5fzxOv8GoyymS+cXYwYVRt8leS728mAYvUCeV7Gs4xJt948\n",
              "zCSa0F5xqTBctUoT+gvDiqkC9smNmqQGHq3S1iRo3Z3/IaLv6k6katR4094+KX0jEyEIBmkcpKeF\n",
              "t2KS5sgZ5kYaIASO9uMIBeAPx+EoSz7GcRrkxIg4b4ZRfn459c9sV5tFxEWq20Zay30A4AcD827U\n",
              "fiXgawt257XAB198cVkqyb8W5kUdi+6RSiYvM6FUn2Xn9xoMMN2tr9Cod8zYVaHAvJ3hzfmaYouK\n",
              "6FUUKNZLWK8FogktV7adqighXOwS6M9Ho2L2ohmQZB9iazUPuChn3mb4bQGP4hdq3PXaPoO+0c/y\n",
              "yu8B4UvbpSHuYvJjphSltD+TgiGc06ehTInePCu5AUtBVKkcKRE//v9uxN9zfmw6WaMrXIPYZ2G4\n",
              "1Sc4sufmakDFhihh+T4OBXT5HVANw7x/a3eMWu0ZIjLVLdHgU8dKWPiRK/tJiJ8TA2tRcDZvzEtN\n",
              "IQKMatbBAAAC9UGbt0nhDomUwU0TDv/+qZYAAHHWIbLVqVvZ873jsejqwbXr6GVxNaRrRvaPdAe9\n",
              "kBe6A6gNH/D74kfkosGbewXeSHR8BYlu1e/yz25EU+S++aBZ4fI8/n0GaPWBXbAD71Lmb6ceZsmx\n",
              "Mp9iVUmw8wB2ZJq/2D41jNOhM2tGzXDUCcPm4x0yCCUfdnNkHZq90DVQ45xGxSTJwAAP8uSgdKrV\n",
              "ghiN0upg7Qrk2blDZRj5cTmlIPNtZCt95EfQjHHlobbgBdwDMKkiYDjTlrUmbtReO4F7B4LnQE75\n",
              "RWCpjOf8Uf+AblQ4WiIFJ0t2AT18o1mo+mmbcGd3XK3Gzudej7YgqPwj5W2sQnK/E4tpQaU/DaOp\n",
              "YVRQIb2dhlZ1uhZICJFM0AfSM62J2pcMUQQg2DvCRHOzi9IUfBorXhsMEKmRW1L+DFWxIsYbfQKu\n",
              "s//sj64lGpkRmrJaS9qMBWzSaKy+hm0VnNInJjSqqkMqwWFsoBhh4HAx4jqetvo6UMOAzmNZL0It\n",
              "o29Sx9F6olX2mppUDenEIAbcNjY0Unzd/7QDjHXkvOdiewgY7LuTc3I9hvtxO+7+1MMHEvCBT/va\n",
              "eBZm49eIjjngBXkdA6/LVhInn2WvzsCy+cJL1QV8q7B3VS3LUJM3fVxRRofQJT5wb19tCgY399Vg\n",
              "6s0LghQDQr/dDWUwXlKBKwpHpLYMXrJOF9HYQ4Bh43v+ESyLmifYC6Zxn+ZuUFcz5UOdK4vSfVVf\n",
              "RcnRn+T0Wh8zIreTFQp88XsR+osjXr+uXSBRJ9F3Tdq+O4j66ESRa0OP24xHa6k9wj+iAGtxjHSb\n",
              "tElpj9l9Td444Jm3gzReA7xVEXmecaeI0Fn/bk0r0uyiQuQaXktG1S9zpi5gHpXuUadllGEgUzSA\n",
              "RXEVscUNfTxDGJQOVpAvYMjDZO7GVe2oynBqLca53kT++3HcX40Pfa+LBHSSTKWCJM+XMMBzxiNh\n",
              "8CmFsE3C9FJx8ozX3wF++StMABfuZJMM2YAAAAIAAZ/WakK/AAC/AvYi4wAcp8vtEKQAx3AXkBIL\n",
              "X+XIIWef6bt8uE6cNCVhO5hMmzd+xCssiSp7KU6LJJrNepcTPWWCw46m9z/JPV1+bxdm+EL0P8vt\n",
              "FmHTtr++Hcvn3nwiz605QyWSW37FjJvcHr5cN3zk32E9eeUgzTVrNXq5XNmxRFwdY/RN5+J9fvzw\n",
              "RZK1LdPbjkZ4jwXnFvd9qHVbGzJZ7gk21/av25ttZFzB+srJiLHo6TFEsLU5HBb8Yyou03v2kN/Y\n",
              "fqrT+aBZF0/pxeWSsd0RA8aa6n0w+eeKU+A+NF87PI0T1OHXt78gil8aEdFizTGdCtu/sPk5T58o\n",
              "NjDHoLOpu1yOn95q260+M8VlICjJzR0SaAWe5ODBW0ObEEyRM8gZkUE/KWMYL0eIxz4TN+YTjIp4\n",
              "DCUCHfcfI7qCFOLD2RzAtyeR10QCFZEGVND+7lvBknUOSGPqyqtgVT8hhwBL5dw4N7ro5d0TdlPC\n",
              "nM4it+S/F8upWfSlQMaUS4YenSfDf3BQ4sZbxkw1tYzQZLnpfJKXFzUbUzyChEvECW4B8FuCFRRl\n",
              "hEeuI5cEblGL2KjfCews4O5uDeUxazMgQOp3IEUQB+DETAlsQENeWnMHxoa4l2FdXq+BLAYdYvDr\n",
              "jLd49FMM3yheqmN6t2ewucnVUSPqNlQpiTzAyoEAAAG9QZvbSeEPJlMCG//+p4QAAOjr3/CBKSwA\n",
              "EpjodGWx6M9yIP9mttJR1jAVwwnQafxsLVUtmx3YDoecNqzCG56nOZkOGIJTHNcP0BFdA3b/3Yn0\n",
              "9P2IdTcruRqMmL96YKAspK1w+P+4b3EMRbHtjlSMDn6IVGubfentH9btcR98OIvj4aG0Dqjjv8/4\n",
              "Oe6b92MmR3dkVK/pMLekqJVyi2/sB48RkocYY/Xn4RWCcCIzziSWKF4mjhHTwtTquMFX5OO0CU7v\n",
              "CrPmF4gphk0Kytafegj4/QR6iiMNwTnUV+nUfDkty2e72WosUhDmoH4yUkjVJOf/j3IlIcWvi7H6\n",
              "6FyMQF6ZKLu5Eb659WKbtm9dUxZkI4GNZba+IAPuAENBLvLbohjyUnvWGNDJEkZyx42tBQk1yETP\n",
              "NBddeGS47VAnoJoZtz1Sp9KRxhlzbmIroYux2n16cdi73B3M8fTyOzmeKqQYw0bC0z38o0kvkkXg\n",
              "PtcPKaBZ5V6S/iDaPOwbapjFIEIbFCPg0ACjXWdH6sUuJdFiurwr2XyXGu8MRUaS/XESWXSThTnn\n",
              "qxCa3z3N5sXikbEvqnebeYyetcmNJQAAAjlBn/lFETwv/wAAjucdQoc7UDqItUOACAxJuqaYFM3f\n",
              "UKAIVgswPoxYdDRG84POqdQ0Z8zCJTCy7aeh1RXkvqFs5x+0/G8OfIF/FLfsryMtYHBD+gZ5UByf\n",
              "EAYRLhpkaTQJwHdkjUbmgcXtLgNssZaMm6IOMmEq//0Pbs8lXUnUodZ2oxM2WxBNQPjaA8OEdT6i\n",
              "DEikI4ORfIQTYJKGjL/8ufxC2WdjLL3naE2eHSbiQwM8RXj3ajZVfRUp9JCKSkEKZ/Ejhlp4sPVs\n",
              "gPoVTMqqJfedT2gIwnIVX1yjvid7ccbOHNH+ag7yGOeaRzBVGUrnwdSUzxeSInDuILJn+x7OjuLa\n",
              "e0jvZ4dRjSNxIggVrBqJnMo3L/++eCMNUA/WLLVTdFgmPIrS70zj+KogK9RBDdzIeCaijfuc0Ry/\n",
              "9ZbXdAI3vRFVce6oiK0FQ5ISVzusRcm6os+dSEHu4g9jeO6hpQsgHJKfBetg93r6nnKgNHZJX+rp\n",
              "Zp8dWxT+OY/c/ThXlRul2VZC87MPqO86ac4Oq9HUXYfVKL/1ZNOsS9aSvL0dc7KhxqsKgoFCOlky\n",
              "bT6Q/Xpu2d7IG9hKQO9QEh+so6uDnIOd+S50QEkZob2aow6Nu9ny54BCx/5P78hwiqKojV22QQqn\n",
              "HsFRYvItAf7ctMEZ2i1hPIiyCzvUuDt0l18QcDuvVDAQ/OM5BYBCfxvotEpX+WqZMgT5bW5MCbbv\n",
              "0sOc6vV2vj7WPzLlaIyTmQCki/h63m/KbgAAAcEBnhh0Qr8AAL88eNTAArvXs4bflV3XVT31j2C7\n",
              "Hoi8mIZbvJZlkWp7XUr0HNvgMGmBA8V1Teaab6JtO3QAYCa56dpfCD0b/zS4nTr+oeqthvFygYRA\n",
              "NVoF/h9DLBcxtcc1U71zZAdDC8SvMngN1k+z9xHc/AUL/7/vFGdixjS/qEMf12PLle9+CY+C1F+J\n",
              "WxkwYIhZPOispcoLjcsq0N7SsCwpjYZbdJxsS3cm4NHP3SQrqbzef0bqP7DnnqjRiR/4YBxLOy+M\n",
              "F/+lVmD3WDKIOgrgdGLRcWOONjeR2iAHK0qXIfwJizc56YHVwZVjrq2aG5sOfX8BTDTlkRf9UvXV\n",
              "hezS/PuogyO8kQCSzOf9aoqt+1/oramM0m1E9kvD/zRrKnqNP1g6GvU14mFxsEPLnzAwk0Egizoy\n",
              "T+NZsWIH59IWd2IAtxFuFLW/XXhR2XUQI2ksgMblIiXBAer1NELy9QAeglxXBolCLy9C+AoMYnTp\n",
              "nF441dHc8OeNVZw9AMpNjGyDtGz/Omqt54l/t50CzcT910/cRzZ0IcpX/WPgJOcVr3kUxObBIuG0\n",
              "9XA3fwX1RtHCEUyqCoupu2T2k6jpgQAAAqMBnhpqQr8AAMQ6BQgBY6hoAHP0VO+tVUD7u7ue0F3J\n",
              "1roJfsQP8bq83Br2mVuhPkX/B4hX8YArnWKhLlwsZR7OHwu9Z5jv5LlS4PUJKMk66vLZTP1QvwF9\n",
              "JQodilYwUinY9KMoUnJ56/hw11DXcp5iHy2mrfjmB8bJAa+RuYYsKdJ9u6DnNaticjtzxd/AJr1j\n",
              "/r9Oxn+5miqHFziJP/2anLdWM7+CSBKlA/34nQlRo77ByoiFZxTLs3vIKswvmU/Mz58A93N0j7WB\n",
              "S7pCTxdecwVhK3YMqlR2JdXzTBauRsLTesve7F2Vuc3r4/93vN+Pv2hsMFgDELYjKy7qQaSgHiRg\n",
              "K+/TSZU9Xr8G5zE1Fof+xqONP84hUpAKRqbJaOIPFKK6CZitZMrU2ad+xFjwqlRpaXR3qX5BXD7y\n",
              "h5p7Xg4GBEWN8vwEv/0Fm/38uuF/8rF9oNK0tVvd7C4LtGxhBcykQFyp1yuKoebFutI5/frrP+BN\n",
              "qClkneY46Yp2vOfhSB3DK65LX0A9FaOhvxz9oTATH1HTWlP+nzFRDayIt2qEyvD/hj4yVl5nPylU\n",
              "3zyaUKNhLYBrQsT2HDDvtjY4wqqws9I3Sdnquu45qXJ+Uz0ksxZMPgiyfI83hz1xFGC9dqVtj3mx\n",
              "J6gWUmAPB3rspjKNZ1HSq0e9lEEIrbukUbarxwaD8aLZXbgsY/sQKCqU0k7/clhyzBENv9Cfo5ue\n",
              "5xyTdaRpFbdiK+sm89LkbU6oZ1cwUo892jtk8my6m6xtMM3/jU6fknp3wafcr+J0lSXd5zODNtmH\n",
              "lHCrMyrikAz5PlRkNcP2bPCJyfY6yDBBT5E2EIGnFxzlw1TObbWVoBgJeaLG2DDCi1qDOdfoYPQ+\n",
              "A7pufIhnH65Jgh3EX+ykt6AAAALWQZocSahBaJlMCHf//qmWAAB0h0f9EHWaF/C4gAdB2KXJJkJs\n",
              "fXO1L+Q4CnJCGizUIlFt0P+5J3jdJyHPPQjE3u3S3bo+MiAe3TtNPNpbgRRlWatCw9MfFw/B+6DI\n",
              "WAlQjJeyU/Qjkuu3AA1xsN0TY/kjtzWoDs2NEsm3z/+tFsvigJhjW/G65RvdQBJBlYQVzMqdkK4S\n",
              "djt5qutopypbUdAI2ZxtwRCye6QRDiNbvIIP575ZnwtdGGn0sZsGNeVn8soXlP+zCO20kxY1a/M8\n",
              "64DDJxV2cbe8S/34uq6aXvIgc4CC54WztY70CdzmXjL2SC1fvGxUyY1EtBQoPXsJ8OBWurSjfBGX\n",
              "S4Pu03Gnm8sh/z3MjsiYeQ2B7zP1f8WDI4kBpbBK91k8q1hOpc9mpP+/+C4rWPwg9a1uVSUVeWLG\n",
              "Q06+hGvv9ODYuJmaDvc//GET5xcduMt9OYzxkDrViM8Li5bmXEfV/9CVEtHp21nQNjMNpm7kVOxB\n",
              "7geZdkOQGDNs9nH8YDxVawAZk+KpzAIysfKaOvQqCPWnx5TYKR0omdWao5oiVKnAnKpBjq07m9bE\n",
              "4camC13rYmv4a367jYgolkf93d7lSMPRtLMKanA84PMuT605/UUDS7dRj/Q6M0pbd4QlkSfZxiUp\n",
              "syUvpdrQ2e2+BF1YJkRoc9B+t0VCcuV1PsFT247lBEykupd5Tz+NlL/31P0LFWRoxkyMDw4W4529\n",
              "Fhr2Z+SaL2tFHsi+1ycFSOnI63b3AVRH+wnDhiTWvjFPPGJlnzYr+dIFfKTZWjQP6KNoKB6On2oU\n",
              "EQvupBUS7fAgury4/c6w4sQMFrOljZR1YYYSpnN2+mNchnbIBfaQpJoFzkhQHVorGKBipRic6MoL\n",
              "Ox2hzIGBOQ4fSHp5y7OSC2L3sXg8+4lBOOeXoCgwUZMCA/AZeKJqTMtwaVcM7Y5HoO/LRGH1kqpd\n",
              "kCXKJqDhAAAC5UGaIEnhClJlMCG//qeEAADo+oyF/WUyMM49TLyqm67wnS7QDp81PYi6ywAf0hGZ\n",
              "u/K/+BsSDyBO3AyYPtAmF3J21d4L6jsXE9jKSX7eDBfYXBN3lIc5OlKzwqJf5UL/3PBZkRSJKKXh\n",
              "UrRej2wAoWhJ6Vm9w0anbERzROCrDaOjPwq6IU+rO5exFcWanM3ucaVA686OrbfRd2dJzFaregiO\n",
              "+eadWakEypxJcw7cBIAxiKsf2XmFWbk4DhkWEXQxhsJ4c4V/hM3tlXQYEbyTrn2xjOwM82C//BF5\n",
              "y88WLqieVLbkBhYdXsRDUkD7yJjRtjVjJYsmqEtNw7zvMYYehvHV0mNJlGlKwKqd970TE2BW+aeR\n",
              "v33RjI+Mk7rL96n8JGNEgF3Iv9FBJjgJitfuessJVvR0HGWXT3VhxUJX0ReDhh4163H2mXc5z4qF\n",
              "dBbvs5KiCwxx3j4F1330zJ/oZ8oj69RUnqfaHPN78np/RIPf2svekQ6D1yTLoXvkUHFV8h5lK/XQ\n",
              "xIU7xlqkVkeDw7dVtw0TR4JpGtl07bJFdlgbNsQcfZ301X4qfF8n2dZe3nJNiPui35zOzgVLCZzR\n",
              "yGQf66pF4ImcAM3/CDxEn8yWkn1RMJE9RZlw4L5y1MK6NYe37v0eUpDzzeih0/htkxK5zhyTzaWK\n",
              "ABY+/L1+Aov+htNRd5xNPL4bIHcpNI0058BsUMERzhmehAkSUg2FIER/Z4pzAQmiH0AsCvSpVc4t\n",
              "SkiqPwO8yJrBZ/1uikjWd/WmbYb5b/S3ZYEL/vnqDV0vFpUEZW2v33SCFJtmDkyD2iPichJkaOeT\n",
              "mLcifEgGULp8dHEIb/xexvVrddbZMARd+I0IQbMc8xX/CnMZBxvtWsUlTZqnWvR8p1MNQngMtEBj\n",
              "5/S7OgpwdaJNNbHwn0oYUDtmnHliycHeB85/wbsFPoVHA7Y/AhYGkyHzUG+7w3VDCdYAxCO/2yUj\n",
              "Wpi1bxUSXGSUEQAAAmhBnl5FNEwv/wAAjvFohCWadnWkLAVIqJw22jX2AaOaRk3nQ5exjQPg8fA6\n",
              "ZtfQj2Fdu45G8j8kWTFWAdwONzWXxOTDdD17mhzqofaobh7fmv6i+310f0yGueXESzIKMTlgpAjj\n",
              "wtDrWuZ3WuNq2ir5tXTLWDYuiKISOIUsLETXsYV10bwYP1r/S/l7du2pfu4Qx32l8pMcnqT/6rUT\n",
              "/bdaNUvGXlvuStMYlyJ96/odMQs6s+O2KVp1mbM/SDnVGPdSYLU7Vk+4/qJB6L1++xKu3DQChPjH\n",
              "bQuwA4rpMq06m1B7aOGgBIgyI5hCMu5loj3rKs8d8bl9BOEPqSN6WevUS4ZcFCFNFAvgSiGEYhZG\n",
              "YksiFDUZiPd2n7VS7ihtrFA2RtPINFo9Nv3AV6jdTeVvYbD++3MLDmVUXKu9vjg2Qy8oI9+fFBal\n",
              "ncqLGXmDD/tvhrTIaxj0SLYdyeYQ9dmPeJObYyND/b4r90uyWrVpZqvhLcZoxFUMvxO5UkcrGl4e\n",
              "R/m7WcyTXAYpzUvD4rCACTJHOZGB/RBEFwuNOCvsocdOIZiaa4REVkKHVkAHnGNA8jGM+USnDxkR\n",
              "KhSjZucSm8SQO4NYVVZcFIWo/NSRW42lIHq8vPerIUFiPUsdTgQwORW/3j0ATiz7wEg3nZMsJ73C\n",
              "xElNG/UKrMOZDWOkbtvxgA+50oCGjCzxTty8FaOR4DiWmgr1KAvQlbhtZg2lz1gP1GZW/jg+dE3U\n",
              "HVMXNWil8vJ+oEjgfOQQfRdHtRnLrlwAHtKk1Z9aXfByMkFZgnXCCsNCAwvIQhKL5lEGBYow4lwW\n",
              "IhHwAAABiAGefXRCvwAAxDx50BVJSvkYmgY4QTLQb7ooRSFoRs0AHJAnMxs7xMuPFPxeccoPMp6x\n",
              "xTXMVIzxspnQMNEPSxY5kUFfgVdHu0P4l/vcmEjlpoHG3ajXo8ivpN7/UIvOG2FDVWkjBl3nXE+/\n",
              "L1/pRE0dMT12FyLZIXXPTjnHykLckcYqEEKaYzMMQSVZxvGYZl5W5eS4OY3k3LGb1DXWOsoYGUXf\n",
              "256n1Yqyi/kIbHvt9fOTGciwXNnvqzTIo2X3OVnPj448SrF1Pzmt1s3kF/qJoAL0YOHafAjCLh6T\n",
              "nM1RPlqmYt2Za09fPF9UG2y8Kt08Bv0/xyx6UvPfjSO0xHWugxdQnoaqgrutuDDTojbKsW9wuZL3\n",
              "SIvvTO3+J2iPcOEsrPsCUFRAz8j/wz4trjSqkzSU8/0X3gXkb6OAL6jOHBeddVb4AXxxOGpOHrP8\n",
              "N+UnLJwkR1Xb2D1k8FNj1u0AnefCSou5Pi0gyyswDe1kxfCUzQb5V1h4EWKXP2iEshznLNJNHwcc\n",
              "AAACLgGef2pCvwAAxDlRd1xbLpIADmf08PKcq0xKPghxpYlrQDTwIH7zr6MGaIo46/45vIoA7MMI\n",
              "73EexE1DXuiY45hrX0AyXlSpbZxLz/2jw/WklqsS+2t6N8VKlvtZa2RhdH5lymluDvRGqc5H7YIG\n",
              "2149PDmHumXwrbqpKyJ+Q97t+4row95dbPGzdcaEtfieEXXfWvkwYz3oUWSvxzr+jphG/vSSu1Kq\n",
              "bizb68M0EPkwJHApR07OZspNgznQKNjob03ELOyWGSr8/HBq5/vzikmG45AA5JwHt+3U5pyk+tpK\n",
              "j/O14kVl6mmFT7AL3XxSEqUkps8KnkFEP69CeR+G5wWOINq5lvjahCvvdNSSA9EAukKoK5vvzYmS\n",
              "AXwiXuKSGXgb+u1+3nrbnSYthuCp6B8qjDV2x515f00YwYM6y5RPUN6kJ6uCMqjmq5zqUjxvHi2K\n",
              "Z/Cuy15DPss7WIlu5HQ0rRPxA9GyOnLBEHcaHRDDdcznDdA6Yc8fo4H43KjPizzFIBFfrMjvulew\n",
              "9SOMFeKq6l/NPMmeQxyZJilYBVbjqfys4+nIr2aHP0AbPmpCJ0DQOBiKRfP8/M43nmZFwgVXn5sa\n",
              "s4t1GrHPTl6jCSEdMXEDEzOSe4vbE4MQT7l2i2oxPryi3dr7AG1spjH4UVrjriZ5n52/yIZUuRm4\n",
              "oeYqrZKOUduj3giqq7s2ehsTZRxyCGPj2fLxi3DO95M1j4Zk8buXzftAK2bg6/t7UQAAAhlBmmJJ\n",
              "qEFomUwU8O/+qZYAAHf2f/g23DlAA7dXql7cq6zNTe1I1BY2h4R+eEGv73aUfy512vuebZntjuTs\n",
              "gCz8BQ6lSQ0I394ZNdLk/QyTYc2ELqR4bh1xXGSTL2Nf09TfX0OYT/AtEDUY+o0DF43XMnptkkaf\n",
              "1+iMsCIkmgwsGlnFc5dDiUVpoKPpsn8fo2psg9JAfg8I6TfCVqRot/dkhv7ncH7g4HphTku040Hv\n",
              "rI9mDIwqLKbbzEaSzB51HmYWgIlOAgrFnYBgiMpU5CiXG9SLP7xeKIpg2tWLBLiaB+RN5nm8uhlL\n",
              "gsZHnJZQhKAAAA+MS0RlNp86Tqk4n5uPAM7ySbEO1OPQ1bFZ2AEz/rAdJ9xVA517sKcWjgoSQqEf\n",
              "aK24SfJugD+DQPNMgMlRo1SW5CvEw7BgaAcHHK/X/YXYpT2ZN72spqPy8F87WgEIWN7ZkVQ5o2eB\n",
              "GyMcs74bh/gNSQ3Q5lblHjP8sZSlyICFvAH8XhaKC5Pu0ycMNjrcIFEu/yNDrGUkraXH3Ayts5HX\n",
              "GAduxJ39BaH/YJn3D7oUXQfd6Zb3J22A4GTfxDAUxV8XxMJW9ykPQngj6EaA4TifvOtay2a9LFF/\n",
              "qHdetD+uQBsbhyrPGV84SQ4zZdzsga1gLPtc1zvcztpLDDxtgXY0xmLCh75brgPLmHjbIjA4fLx5\n",
              "idUr2Zr0lEFIpFnhpUeCw4CbQekAAAGXAZ6BakK/AADEF56QAXDWnN669dKcCczruFYjrWwCJO+N\n",
              "kVFcHkpaBMcPKcqykPQ34fSbj/6+qhsgnjNj/bag16pZCjrES4Cnlw0juLIKt0KCg6eXwqsiaB6u\n",
              "HrbPiqBh2QeLQsxvzRmvieoZftJ9ipLw2c6BnvA09eLzPcAcAWda6kpAWZe8+xm6wTBmh9wuRjD2\n",
              "nuyLcaBWIFAS1IeSFCFKsCt/OMGUAfZtkhk/ooaluUh8SVEDxUt9jEX99F942ccJ6GRKE+yK1MqY\n",
              "M/RUez3Hir7N50jJTFwT0jyS9qx5oKpaDErh4LWA9Sv6pPQQNOIKKYDjAv7eB7L6XsDASa9CYMLA\n",
              "mkRKNCkw90MRoo5KYkDWml2OK97QSfWNXNlBnZW5NKwZBXNIspaXZKCF4O8aohdzskZsVCC4yhVY\n",
              "+H/TNf26Pt+pGzXl2pqnkdZghkKv8qlvpF7qwDlhGB121Re0iLvR3JRXNezj92XATaQwnOoBCHDO\n",
              "NxtoA+6j/qMgubEwLY3ngm2tW0o5yg5C/Ox5+rdw3oEAAAJ0QZqGSeEKUmUwId/+qZYAAHf9tAvf\n",
              "5eu//Ibla+rccOIhqgCJXsN6w2XjybJ5QgeR/9kgwmoZGT+x3PzY5moNTvhHHSCDDUDOQb78NJYt\n",
              "NcmCEqqPAQ6IXNCDUwGfQO13tYrT8oOza4lA0EzIjNu80EQuWMi4BnkanXYjox51+595XZ5X15a/\n",
              "Ugsjo7kqK3Um66Ibodnl0inMn8zgXBTpTldUxA88kgRzdtLdDcKC3OJaRhjHUXtTdToA1dRhbscd\n",
              "EWBVv7F1UcMUUnV9Ee1kpTQk9Yjei/TBio0HNN9TYsZzYtaH6/1Pgj6X/PhR9UluRxkFfkIwucKo\n",
              "QmczECvCsbj8bVSzReMjliosACImLvxZWSCaSBQQJUwUtLpR4bcfEMIv4QaXBzYVki0FzpmnGxHN\n",
              "DDiRv3GHkiZY237ln3SmtcuVjLRWTgTSZxpWpW6wh7fkXpj1414Dj8jNBRgTbu5D2TdxBSrrQQQq\n",
              "Vp7XkYiGj92opZ6hLreFiEdOCIQy8443G/Ow2dFr1jF2ps91jyp89IvjX1KMkDrWlslcMYGOa6tY\n",
              "/J0ZXDZP60XTfMV9OZSJZwlTPy8RDEiodmR/IiklwFqLqEwIC5z72JEPCUdbxjlxlkrOPCbpSXxn\n",
              "wDqfQm99FwpGDcXO9ik+ycN5TrlGIpopIQsnoujqkxeQD6yxZrks0e6klngN9pcKrQRgCFer9VK4\n",
              "XeCPYTTpYKiqKNEWyaG33cPe9XG8mMtJo9mL/J5NbTjR06v0Nz9vXsYj5e1Fx0R7bdm71hIZSQpO\n",
              "LD9QYZYevWsrAF1yluliSncBgycCtvKQXlE5yUHy5Jpqq7mB4AAAArtBnqRFNEwv/wAAjs5mv2fT\n",
              "UmvDuFju7R01hM3ZuY6nurO6lPJjIAL57ggbvRvzx59syhZIwXAX3qG4fuG7mWHFK+gVAHW3/K3C\n",
              "KfJClPcLXkqXlyUGTvx0uxK/c7+B9MqebumcrxX4btVl6cms/zzqE+42IPt/oGnyPzz4ua2UPLh7\n",
              "ZXQLQb5hhTDfsEgdvGYsMhbs/AbZnMLv3sCv3CFCoOsLL7VZj8L5uOMUQDvNxHqTTf1NOBoQz5DU\n",
              "SAHyaMmXrTp1wLfjASVBXytnco2FhVZH2pRX73BYRdo9I4jzsSiuQpSFZETZ/7L2La1COV8cKGcX\n",
              "8oxbT4XmZjhRp1RVqDY2Ycuym55oDZYMZFFtMZ+VtofGcF4qBcIVhR/RN+P/xPQFCunUawEIe+tc\n",
              "TteB3Frd1NBBhGz4DYk0qH9DzJg1vORsdvLvzt3f/yN5DF7LjdBht3/zp8MVMlzTdULldzlEBAFZ\n",
              "7gQPQRnPuFXilhEydoZ+9my36g3Ge87uCSkEvNkEz3QGuHipncrswm30cdjmtqnmo1puWWD6wDEs\n",
              "hFbijgu+4kfBtcY0uWQuV+umWtZNu58GkUdhUCF9ZuIVMDHurs3I1yfHpPMSEOgHuQ1Yymul369f\n",
              "ACCKLEIKuvqk9kK1kRhx8kQCPtnqjIgHv4hsElJMgknbdQ54H+sghD5D5QTLXwbO9LHrwAl6WAw4\n",
              "fmukVOQaYCDLzWqBNGa2i5vLceK5ggU3ST2CN3wyddn2qOJS7sEd+pKmwhnmUV0cwMCPDi9H8PFg\n",
              "pjV9lwwLG6miDE4DLyekk03IjPAQOZ9GERgWHu664CYjtcIcf5Qkn4QYlXrKzefWso+NCHFd/jt5\n",
              "ZXFcbYz+Z0/xkLytREhmbjoSy5iCZzbPZEgueyah4TWHfDVa54LZouIFiG2I2WfPVLi2Aki/s78A\n",
              "AAHmAZ7DdEK/AADD/xM75mGRisafE7P/8CNfoATJ5/7SFveNtgYMJrpv5Gj//BCxoT46/p1zcjb8\n",
              "HWDRz18xZMWmp1RCOfW15ATkWEhX2p47SpAw07aGgVQuXLJXflQocLP5O01y3tueK7EOi8gcAlRJ\n",
              "ygha0/covMeUl9rgCpOaeusEC48voaCEbD6gZeQnNP3guYSHX8J/lnBXr9bYVn6XPpilVaKvYgQr\n",
              "wgKi5HBkz7hJTym1l6SIli371+E1WVsb1XXfMXuAGRzjNJLtpgd1BmswFzXcFqLX85qfaB63tIs8\n",
              "xJDeMcHiFvPcQZIAmJ6D89QG0tdKuidMk/YyGbkzdjAYAGA2KrPN8PGN0VkgneRjhW2HVayz/FC+\n",
              "KiHrhSdH3c3CTM59g+w3TDCn4NERhNJTvnObKC+p2JYJJjXxQRGUUbIiVhBYWpttn4wJvj0rLZAJ\n",
              "R5GiVh+APWwbIsD/dUQWNd+GKasUGJONzLYiQczMtrMQ4GfR0q8I/TpP8HOrUfqNOVefnDaOTOT1\n",
              "DobaDSJw38ghBNNvFL5qtvPFQVyb+/fmfZjk6uITD4OZqnzulXGx3lxkg4NrRZleMD6FwcYITqht\n",
              "Nu94rKQm+F9pgBNbLZJXelybTjL45Q24mrYCtRydyRyxAAABqgGexWpCvwAAwcGs/fj88FHzBEzo\n",
              "ANt16yUyEf6Dznh8DOKsh/kt6i6XkqIyfLXzCN98HkKMSY+ZlONk/n+hvxCngFG+6lBDmvGme7qZ\n",
              "jZiulFoRaj/bSHuza3LhkuHLWC6kSBBRvM8KPqB93S47hv5Rb0Id6WzB8vm58DNqx/uTUljI2ygN\n",
              "9+Wd7vXWxiWLQnHJ2IwPM72UJVk2lYJNR4ZRXwVcqVAEeHyH0mIT+1iZJ5WqgNABOZw8SHWK4ydm\n",
              "sugnU2NMy5JUYzXyrXaGgVRzTe6pv05bmvXBh/KpGAnsC6/98OSzL4zHKqMBSL2NWkDshcbnBeyA\n",
              "jt13zYQuZrKI4XmnJOqYh/AGsQ3tpd/UbcPlqLhYHPIPyKH0oLTW4iFsfdhdmChjHqziZimatAuF\n",
              "9ZrkDFBnooKFGEUojCInrwe2NPKFYi0CLU5jPwiWvDKtYy42IVxbA3ghgVcDqFbC17WEmSrL7gNt\n",
              "iD3K4WWTst5WabEJONmGD+rX7R+6DK/2gwFD8P2q05AEOFCnG3CBFoNldDkvkVIB54bYXFp6GAtB\n",
              "dcc62KdT0wAAAcdBmspJqEFomUwIb//+p4QAAOeu6IEZztprdBFSWCzUm9q/add+xz5YADcS2S9v\n",
              "t0S5hv5DywJmpje5Z77rDasUBl5BPRSlH9++V8EZSzPR3l5D7dvWhVMJfNvn7Ofo0fQ918XME3kq\n",
              "BJM/i1K9/A5O+muQ2CFBvn9Xc5HclJMPyRDmN1TWo+R9FXkXTPiD3n50EMSqdxuk+1ztdPpEf1ED\n",
              "pSTHKqsPWutEhtp4GuvkF2SXt53smlqi7O6blewniwJlBgJbXyCpIl7/0P2RvofVsBwdjOnavp+r\n",
              "UW9BbH9ZqrYXFjv69jCJVAU5wr5K1NQUi2C8NjNok4DuFqjDslku5ZWvtlIbfNaR4RBXsDRYsTl5\n",
              "YaBcyMNmlyQuaZ6SY1vcU4WmglIsbX3EPLN77oHAILa4xr2O6FLeATfvX9nzMXesvNdsE7bwv7lm\n",
              "5QFAbJSinFGLjv9rBSXUK6ReffRD/usrp2R8K6PeJ3pWiTAuLu/NWt4gJrlxGWw2lyEBrr9QzxiQ\n",
              "P5AKB1zq2A1Im090GayOq4AvfqPRK71twPaD7WusSA7JeMDGe4q9y5is22FCZC1LooTZXqxhaBgD\n",
              "M2hsfb7INnHSZQAAAStBnuhFESwv/wAAise+PM1Kk53sahdKgFWHzRSselBLXRXLlTAA2AwvzMOp\n",
              "gwwLHFD/Tjr4deG5FX5XfLJPUX5vgd4YV49HnzJPX8rcrI3r6VpVR6bPo8fjts0FJJVPV4CMwN8j\n",
              "W14KW97sHOR50FYH60AmLnC1Nisevl/quza/3TYqEfQ8kHnPp0FPl0jfuA9rbUedzXymMRfZiEfu\n",
              "Vj4xRN5OnQKzZwt/8Z10krFSd03mVxKAr8+L/zZH8bvQND2SbB9y++9eonD0+Bn9p+AtT09KRS81\n",
              "IMKocbGj5uZb+TOWkv3414DugTAg7rRb6SkxrkBROz8yh8lr1mtSAu5d9exeGl8tn262SmSiBUN4\n",
              "q2nep6EIIrNyW0T0OGTa+BEIRvpFTR5z3JA61AAAAwEBnwd0Qr8AAL9Gsqv60pQAIDe4Shp7giVG\n",
              "fnGcv/UXVR4Kykl9XgMaBIteQLIvsmv5q6R+TdWoqlblUIRp+96PeDnc/GhOkjjD2gH4ghK4zfzf\n",
              "7622ofAiUDq1Azf7y4+ziD6uFO8j9PkRoIbtmc67GezFYoZX5DY7N/W7pLcVEnF3S7+lUVEwUQri\n",
              "r2o0BpIXFlfdhC/KC+Jycuz2AAMbm71t0yrL+One3dPdvMUjh6qce5fkj7zhkb4TBhZ5A7Fhn0Pe\n",
              "gtss9Ry4qmOgPvss9zn1bV296YjS/GBwudtDRf4CxG/jbpw03mVhtknV2dIw3ZWXW/rIQxBb+sHx\n",
              "jHwcmf6W4aeEwPt8XGlQPdoedv8Ico+zXxMikEQitQbK398dcC5Krqp9vNN7dXW8VqZ7f2Xai01k\n",
              "ptf/mTrxX0ScjqDLhJbsRdeCeiWWL+8vyUDmQI4ydf8LQ3GsGfJs0hxAxTI5p51uCrOjJZDoNo+2\n",
              "RLcfg7PgphhhV43+I38DdmsDnRNPgvuCWit+/7O/K2cZybYdcuZnmCxGtozQ8OxegtsU9IYL+dhZ\n",
              "VdGWqt+PFrAGUc+QetLpYOFudaRcWLJMj3TTs86OMOnurOyTFH3eZBD7KK7JR910OXliwelTY42C\n",
              "dKXy/kFTldEWkknOGN5lfsK5EdZrhwfGRM/B4Bwm7ayLxN2yEu1ends2w6/J4TWgJDSySx1Wnw6m\n",
              "U4KO8/kcTfdpZzg4x397w9egK6U8lCfF+eQ0Y9gBcIxN9ei4WTSYxKFYd+SurISndCss+u2vD3yv\n",
              "+w6tdn5sHVZ6Ia5E0IB+dlDJwN5bsrEaJo3qnODwN+nl5l0+gBzZWISOca5vsVJ4KfeOZQEyXFt5\n",
              "2pK1iPzu3/DP161ieQ3eHiKvHnwmus2ocWuUZemJDtCGRUnJTB/EPyzUO75SUeakQ00un1lvErM1\n",
              "4AtU441BVEF8ER3a/dqNJXvS/IsXiVpdpgbxKQMMgMnK1KUMpstVhGjlw5uiElEItE/p1gjrkcqQ\n",
              "QuggAAACDAGfCWpCvwAAxAKWD11pfd52DvbZ0m/bFKNRv4lPrZbePt0Ekk6O4TpFoOCD7MgBCc6v\n",
              "tkzvnlHeamznN3SUgt2U2xy4NSDvFoNw6KABW4bEIb8t6qUf7XC+NUgNPPrQD4LuINu0dkYa/dMl\n",
              "YOlLsnq8eMn6Zcpt0u7dDKHgyk/0B92njVE2Dz8iMFEYKdYISJmoHkfLOZ98UE13jYqsm7NrJiHv\n",
              "2X+H+GV6i3/84wvHgNQp+ysdm1CB4EC9FscU4zaQB3a2fsNPscpxmjw8axtWG/vUCn9Wx8RpTHsr\n",
              "6vF/dxUwu6zsU5pcGNHZw3Qo8vS7LJz2wB2UgEaY4wXd4QSHv6BKH1onQ+MVsqQ/W1M7LmbI3mRq\n",
              "D83NyVvPe8ZPHYmhemsPzJiPQmqPjVv8D2K0ky4WprqOKqGjlqPnIIyxSnvt76nLIm8EQgfSrAeF\n",
              "5h4b4cOfR1CD+OBnTsAEYStB6cotRJK7DovHcXfuucwXr/PDz6lwjE2JSMkQfWPs/aqU48osSFYc\n",
              "ZZa8gWRN/ACJFXuRNOagQVzRZSzq0cY5Ki8epCEsYVQzK6onGKB8FPIo4L7bxA1TCugQJ4a1rL2s\n",
              "GawB+BTZT65qOEJ/tVEdaZ4rEeeo1eaYjGJO6FPAfp8cz4DRMfNlk/53JTH0sCtf9xIn/3tvzTvF\n",
              "Xd0hitp1V0ra838Dv5Lc8mfBAAAC50GbDUmoQWyZTAhv//6nhAAA6PspwPWWev+nfOPaZ/22sfm5\n",
              "9fbzEfCnYAdpcSXUEM3Nlprm61YIkwfGI7HmSjY90Zu5Ed8FM/IssjMkb6x44liJz8frzgiPOPYy\n",
              "CIrrBVZ5Xw0uQswTQz7Ri9sMW3VIRfpcGcgjCQK3p0DdyIazU4ga/xn2g1Gb7eVKBAu0wMITkqBz\n",
              "HvB0XDLywDMHDTyccSjXgGBoG2JPHRWmTaJzCYafZQUjOIVDF2pY3b+196uk3TUVB0C8QScEwzcC\n",
              "lqiqWIIud82XPcJTncO3Hv//4O8BVa2tijpLAoiJg8a1qiE5jCCITpCaiTUzUMj49C4Av10ROTTe\n",
              "XK9asggXm7nACYOrIszcd6dpxfxJbBtAdUtV3GCZd72Hnsupk4MxR7rEsExX5GPIrBKzKgzTQjBS\n",
              "P0piI6urbXlEz88WIwxrI6n3ZmEEwLbWFWigQQwqKwEDGFRk2vIbRj3O1Q+u7Sr6lv8BP/40WcE7\n",
              "t/2StiPXIV6vjACM0u4Ps1afmmrxoA5Y1atDSmvSeo+JKwYGk9oH2fU+13QM4CnM27t+/c5G4Gl5\n",
              "9b0P/2rISNgwK+14rjw3Cz7BwnKUbLYq4siRrpecHUSlBvvP2LJme9WaERy7g4AzgyCa3wEh4/yE\n",
              "Gq+wzX/5PSmoyrb+iIGoASEdrSAOlT8y/n6p9WaBlQdDRTv+KUrYlkHJkCAe3XVwnN0L5v+Flw3v\n",
              "KMO1/V43iuwhq7hHKKrVZYX/uqEzHtgWVwiXSlX4s0rs3Ywje1vsv1bcgNXBa8r9R7y14H2/jgW4\n",
              "Nh/fFvYMHNb+7pnyR5/Pg9V062z828Xs14QO2W/9tH0hSVZIw4CfYstaXNYlCc92ewyd+z310SgA\n",
              "QTXOWHIoTYdNvszm7WT1u3SR2Xvd9blguED+xpZaTDYLOkpOGuZLNPdnKiOrs0OrlcIxpStFSBjV\n",
              "/Ygwcq8/v3rUDf6UHnKis+knVBgDX9PmAAACI0GfK0UVLCv/AAC/EEa+iVZBACaWh37jePFIR1iR\n",
              "0MZGfm+KDugdL36f7qVp1A2tp8X1vpXUqi+J9+DGIwc6sQklQVeacmfa4Z1/H3zVPpzbQdLCdgGu\n",
              "N6sn6pJeizJUWBovFcSSLLxcbOiuu6ONgxmXhUTAcfhxOoKh++nc4N9T1hhSRqJbwQ7eTNNaM5Kq\n",
              "vDuWgKNMwLJkyfhf2zg3hk2CEnIz+Cc0t9qesU5J/XMqyxdy41VdfYEYxDRGhrDvbw+EGmcyC/Z0\n",
              "e5xWtbBfRI6GklhuXs2B1815CmmFdyAB6xLJfQa5jPmXAJmrevzL9Ke3H0MciDmYQZsQb1zwd9sE\n",
              "ClOhHYCksJpyDYyu1kCLvd9C091pleJBWhKrkjeXv+felA7bypbjyMkTLIGtM54J/0Y5/QXUKmod\n",
              "igPyYXzJj2n2FEifSjDD5o1Bb9AQxZq9ZGz2b9eQGJ+Ejk2kpDI4tGT+n6hiKfcdIlItABtdjeo4\n",
              "goEQDOyyMX6k5smiZTSw/JII0D06YaIO4crmziTfBBWB9JpCMKKmn52dsKrKuLowX5Fx+AMSy+fT\n",
              "Cxvbuk1M/DrecBbgW7vnB2uyYSnJlFXvXnkMJQCvp7A1hLgQsuiy4Cp3cR1U6a7p5Nc4on+BkOGA\n",
              "Hqi43Vwjc04iop2nzZj9L9j2aH1P+sJd8ck2l3xrvqc/JYGGClBj08xfCHKUa6soC7oaSf+NAM/1\n",
              "t9F/g4AAAAHTAZ9MakK/AAC6MtMsJm4zvNJYuWteV9N4KE0/coYy5I+e/lwh+tnVfgPeaI5oAWac\n",
              "QKaTw1XvRGHu9sXx1h/BkcD0vEsItPzeTZg5Iqdp6hCnRBs5qUtF3xw5q4h2GhDpIg11atHQX3Qp\n",
              "0nJR1q+cy/n8BQU0HmrlJHieiSTPm1wwUYtgODXzyR2gwrQ2f0XzXh+A2WOnem70SxseTUDppED7\n",
              "2ellmFlUcv5CJ+xN9RpwAwy3Li06kURyoqZvAdeNuCjOyqmSgb/g5WEoBgFyKDA8A0dUL4dJKgYo\n",
              "aARHas+pxKIXAfYV+WIMdfKN6bHy1eC7BqF87yA9pJ/Nvj7U265W4MhW7zG7mQBbvkrIb5JBsEGL\n",
              "ffWJyt2qvSGFyZEgDHURCvggh1qQ2ckIAjKaeEAipHi455T0MXrXmxhSLNkBECf/xLo6cDnx5j3E\n",
              "XRB/xxuPTOTKWQQr1GuJEo/ZPgio/eRORN6G5FwIvzPz4LSnPx4nUCrYHDVVN+q4oRd+z/wsK94f\n",
              "F4gLPrEaSP0UMKhy8BEhLj78AAGKg8prE0IyufNbGysJ5bmFn/JWrdGcMUkan8PM64IKIGToBz+h\n",
              "7ywJz2E+RCGE6Fcy7QxKDo9hYMEAAAMHQZtOSahBbJlMCHf//qmWAAB6vbgJNiHD1oP1QnC5Rs2Z\n",
              "NOpmfSnsnxgWy2+cx8UkQrTeW4u85ztEFKIYNK2pmF4wfaFThsB7jcphxosot2UIMxPyj4hWOXBu\n",
              "6AXXHghG77XVEeGF+pWqFAw61ffs/wwUNMc702F0gQzUU+GNvR19pBtpkCdZe5NFUqV/qAYygKkP\n",
              "09Av4sD7o7LoBm3ZJuWsFLKK7X4LVUnxaNdkDeuNC+sp0qp6Z/GFICXSuHrydwKpDpC9p2cpVOBc\n",
              "7t94bQM4Namyx/nK7ig/iIkqPHwHCB/WzZ35yHSulin343ZIsET1NwhexiGPbWXoK8wYIvCWjDZg\n",
              "OjqfyGIaspeaWkiehk0onJWBPLLxR2WWXLu4eYJMLCQo4G88jaCFvrXEjOhk0rp3KqrZTGD74OC5\n",
              "NiS/uN7wFJjQl7aP+2bi3n1ENznTNkWXYcf2qJJu1T0Ny+vfVQFwRocsBzdEDUbwF5D2UTujyqXm\n",
              "FaqVQ7EOzdJ+HcmPXoOfUBc51l3FIJjzm6r27fjHDmIRdmC8AAl2X+Gq3vXhSuBVOHtsAHNjvu33\n",
              "0hiWqF4GJ1+gS5+MUGretaiDpnHI5sYIbB5MmihvHGw1D8OpajCqATPzMpHSZa8heUucm0d97tKZ\n",
              "AhBvAQgS3TKEUJrOyLTGOytL2mWDUvO9QlCVQbsRkRYYpnHXbWJLKIp0pdHe6LLAHQX3WmEVZN8v\n",
              "ReNdHNVAKWLkiIJemhI4IIbYGVu2lEORhtpeh3crJH8GmR7YbNvT4hs8vBULCxnGVtiLUqOEdXwj\n",
              "8xvTZGgUAXab/awRQRCH4RR61Z0vYBdOEuYDnOGrFIrKKNtJNSODNRt3tS2xoQcXG5qnAzBn68gi\n",
              "zYscp9nPAuOpstyKqaCeHL0uJ7wyXrqe06EpycUnb6mfGfO8C3+ECllvvQecfmazcDv5M/MTc+TK\n",
              "Au123QlYV97WrCSIuBU/G48hJwUN0+8hzrcX4QkglpuDl2pIW4FORSFbcJSP8fVv0gzpkxg0XDAQ\n",
              "cQAAAuZBm3FJ4QpSZTAh3/6plgAAd/20C9/lvrPw+SkwALAmqgqGh9p/7Ey+5RvszOVXXHqoyetu\n",
              "qREsApdD4IQ2pROP0gw71n/PO3Io66tf6EUeS+7NShN289EuPZIEhn2wAMuMOa85o7RPiY3YPIPT\n",
              "zFJ/+hrRj/CN9LimCbdQZFqqpl8IwinXyEFCeZTgxFBccl/TPfmPOBO/LH7J7U4isiW2LJp7AWsl\n",
              "eytUaUK723/7r6letW0MA71Z4t91Ovm4AtrctmPxmHgU4yNhDLd0pZbAgwGN5061YY0gnHLbxnNz\n",
              "xxDbm1KtBZvrxSdjHn1qJPPZapBVJl6joA8nlVpInFvWKHrENuTVNCc2GU/Fhuufa1tia4nX6Efb\n",
              "hScaSgM5yOfde1uYgdAcl8+H7PoID5/xauGm3WtH+Y6J3PdkBkNBKox/E6DwK04R5OCbITfRh5E6\n",
              "AAjsgUrS5rLLleb7JyeYOaLPBlijg1Q4BOty9CAxl3oCL7e/IoR2Wt7/jPjOdYfS3ZPZCjf1hG7E\n",
              "t0PrYxQzbPu58GjpTIvyqawkartSZW1ZZJcWUFmxJCQr2gpfi2bLNEmb3LJPaTY4Zhw08niuFn9/\n",
              "fr602OhMVRpPxmtQK9mOg3AUVts3YYiblhlehUjRmoDi7z37IgVZJMR9YaWUmrMzBxDTTAPSu1AU\n",
              "o4bBY3zkAIqLBZ6cOeXG/60O0slnWXroQCKNsl51r3Drt+2xt6g2dF7fH4KIhDjdYVIeIe5t8rLo\n",
              "J2PBIhByQ+23tSt4Z9pQB3M7mJnauEEObcxJCWU92LUGZWr0kyx4x1/r/DH1fZdHybPXcwLSvnBC\n",
              "04Ftlg9yquAINsSlKtgh6gDMtifEWCsU8o/ykGLmWsevdZItpWrZqv8MJ3iWaHYvm39RA05tT8gi\n",
              "MiKgfJEC2650WPVm+1ZUGBZVl29Arr4DwawUmrz8U/KKkCh8/Rf1fIbHevW/th01sZs1qL7+jkAk\n",
              "YJZKWetbAAAB6UGfj0U0TCv/AADED/ep6TPCL/rR160BntNxjhxbOOzqp+328VnAAg8/2eEVccY2\n",
              "L+5nak9g/wNPrDLAUFrHYtfR1mKzA9E3NYXDd77gJVquJfqrGjJRiIsduTCj36TMQzTQUZiUrGz+\n",
              "2tcRCBwEJWuuOL4fQN9WZq4Z8IdW7qB6RcgYz01ETKwZM3/phRNTm7h1TNzRA34rqBu8lAhJkb9L\n",
              "G08p6X2UanGYakMqph0PM4nvnfZ2B4iRcXg8QOl/H514G5r6i92NdgpqFBSLLkL9GqLcaMQK6Bhz\n",
              "6OVKN3yTe9pmrtbcnRWnnk9HToY1W0R1GMJ3DUwW35Y0ti0kLMmmmdgiGjGc2GiWm1q7mEoNeb9T\n",
              "/WjvrizQBzDMXdmko5hE8xA5ntxmaQqbk82rY0KEaoz7WhXK3joYNKswDdVnQKmzz/tRTEAg04K9\n",
              "W7J6d8S7iBCsnm+hEPuTDxBYDty5pXMK3pPtK8mLjtDe1r15+plLbSlyaf1npBToqjLEnMjSBzuR\n",
              "0/NKIebhEhApbZax/za4nROk4bBNAtpEFefzxxQntHL0+hEkcy9MPdry9jAAkK1bdpCqBLDIHnPp\n",
              "IdmZD+eEb+FmYbR7JCj00He6dO49lSI6omfGlWnejU9S49I+f/9plg9gEAAAAuABn7BqQr8AALo0\n",
              "TpIgDy+7MmBABuFUXGByQ1qvhP9fKNuPEJnUp1eGUjueQQkqLFKo7ExVUVkOvptWuHNPi1R//0Yu\n",
              "fJVNVfDXZX1hmQPcO5p+UAJTciEFEp5rwOw/cNGIODnXIEsPU9q3PjZvLLxxg0naUlRlF9cgiKRt\n",
              "23C/4e3vvITxq0e3s5nIdXNAk2/Ux9Afg+aaqKa+OqmhoAbM2CwendbydUwfKX6pvqQ7e/KtbEbG\n",
              "+nBpdJvQD0+hLp0GWi3K6u6ss+5MmODlnzTgw3FuA3l9Jh92xsL9kWI6ciqWZXc1VHF74K0OqMBj\n",
              "Oki1ZI27qwSDeR1RNx982gomKLKQxMmgxB1SqGt7aUvSWGVRpxQn2qxpYnX323mEa25st1VWw9GC\n",
              "QrjuzkP0+GXoAIzHsM/5GyqWfb4bHi9gDMk0A4HxIZdSiWW+XSklo2Pl+pO3rIAcKruSV4tHqVGZ\n",
              "IPeafCheLx7zQ9rH4uZ872lO2Xf8ftrtwjFPTyDLBvTRX50vscO79XLV+VM5sChvoWEK9ODMIN6V\n",
              "+X6rUYBEvPG64rwjPZHnRL6iB6L5MnVbj/y5wVQtkfl9+lMwM46hN7Eq77MFL9VNPcOz+ipbCLDN\n",
              "Mk0g2BpefueuG3TLx4oZe6k/Y7w5222QdNVNuaRERGCFiCrhntu3Rd3ybw6RCg36tWlS5Hm3QMqO\n",
              "qY1jYQpo7E2vTp7nHuV+FgI+5Kf+nniGXezwY29n2Pq0jeb3F/P+lGlf/YqngFNDjrKZLVQbuanK\n",
              "bJItgAi318/SJKO3evXyqAbQxCUNfjUWbGGs+bTeEYMlBf1AFSWTqlh8Jj4RJKsqTnBr69TpRIOD\n",
              "4yKxcyTdGQT8f9hv0D76UowFPTOHzEPkYoE0K1TqM++VnJoBLWWTNzBO/OZOAmrURWH/iiI0COMx\n",
              "JW4EYS4vJWY5gMQlJGZa8140O64EU0QS52ZQ4gTfMWOertJK4I8dE6+lAAADrkGbtUmoQWiZTAh3\n",
              "//6plgAAb7Z/w9QSjQAUmRD7cj4o3Ih+YL7/ElYeP/qoC5jIhMl3Bo70EnV+eGV7N5lob1oUrgxo\n",
              "zmZ79kkUb1lAN38G7oU1bOZ5MLXHe09guaUikvn0g+Egm7vROw4HRecvE8hl++G9aMSahi0IpqYu\n",
              "Q82YZnmjDEs+Uxvm+d0zGq+WcQMMGAH8W/IYvQXWv3daqQ84BEklAW8uTkKrP/bv5p7Jjufzi6iK\n",
              "Ty5NaG+gc27uwp9SKj7nH9yRuSh6CtCEHWtAEGlmVq9axe9QBMoiLJJEpFWYdNAuz7uASYcoFJ8E\n",
              "erU//eIP0EnsIq/BV8sybdhxcZat2FJphMxhEizYDopFw1Z5lM3SIp94xP4iqCnLlnaR+q9Fwe+T\n",
              "vQIJH78XT/ULYJF/apSAWlkC+l1UqUh8dUqkf8t1uauJ0gsYg2BII3J9CTpCYDsVO8q2CzGykwzi\n",
              "Og3SAZE7QfMeiecIBbXcdmtTTPECjwuBVEXg5yhOSiD/dJz0GwHLqJK5b3E9z6yCPCDGUZWa7XB1\n",
              "8UucR3Bu4hpLjwuW+Nj6qWbdxAEq6D/h3rg2Rh961GWdqcoQCH1ID1CjSKAbCUOXUezPX3FgyynV\n",
              "SZiJe/9/Vvh88aek5ZMmxROeHougSH9lGztNoIliBggmzchgdPrxrTvk4cOWNmmb6xtwU0TsHMp1\n",
              "aHoCiLTp9BqBHZKgO5SQyosZ7kE7iH12plCVUmVYI4vzb1S/3OxKAMosASsA1TG3iQR9FzbJ9hUw\n",
              "cU/4YqxzEseFtJFcoHIBIVjFIQ+xIwd2HZJ8Zzawv2PYSp/KsSK19cuRhq2BAWL60NGWd5A+qcB2\n",
              "pwOFJFY6cu+DGy3PruuiKUFq1Yq43mFD8bnOIxvzukhG4Gjatt7mGoFfnWiBHo7ep2sOAgPY5x2Q\n",
              "OYppXFMpJJUQvS/5nZSwKIL71HyK/SvLXEtsRYHXDolNy42zyt3O0KFoLpRwVE2DAIlg3VFk+QIo\n",
              "8soSOg1u1VPv6kG/brMJA16AWFfIITA8axmhH9G85NHCIIvHO82xD06dQn1AIaHdGX4pOKIK9w4D\n",
              "jvGJfSN6mKrOuqxAZIjbJYj0OKLOljFnP71MN7BfvvRPsCdZVnuaxa1bROXn51LWfeH27KUPTF63\n",
              "/RL3mZMoTZPVW+yFoxQDNsUqPb+TgAz7hoV2QuWDmL5ZUm1g/qwxbUmLBKQ9bfQMBpJ9BMtGxTIG\n",
              "ehe5Uw9YfGY+gf7cs4pTrLvi2wAAAgZBn9NFESwv/wAAiWK/go7QAAtFkRPm8AWUzqDCS+yBcXhC\n",
              "KyVXFi5Jfpjn4zDBKaFKRErMsXo5w40i7P+DeA6QXgViO75HI4grhhBCixL9WzlIHLohNINPrBqN\n",
              "9s8re+pHgjDWAmMg9JW20vbvLUE7nfdEmVj+TzXWaQezMnm60owscsZXmvxqt9VhDG3unPJ6x1ZW\n",
              "vhDHQGHm62n03RBcbBL2FrhlG43W71qXLzcWTCc+GL7HAAksZFRaj37pgxK49owR3W7Q7udssHmS\n",
              "uPzNNjdKUuucUfsYOyDyLg3khPeNSZO2q/aoD/fFGnWuChDgQoPkfnfkY/EL57g7PbUDpiavVjwD\n",
              "ainvN92GXr7G3Cv/qTsz1Gs/l4y7P7VuWHLqJdsk9nmWyLJTWhQiJO39cni4RPXndoBq7HqtppIY\n",
              "oKpwMlhRxQMzhNgcldAu7jeqd+2IAADcYiWI1W9sF6JexUw9ViTK590tVrN3a2Re8mYbt1ItQP8g\n",
              "ysm2Y9wQHbuhEwyYARy5OZ8KSdvdKbX2DEjnaNjd/pSLAgq9cK4+MU8wD1E9L5ZOHpveAFBc4jVZ\n",
              "1mAagDdTrE8HQuugB9pps553VRieAmi6VKlKbeWxiGej8Ik31pXvt1nmuEEa4SPXf5MS10PQU9+i\n",
              "h7T7zvAJV4wFtx5OPHYgN9CWwUYfNwE3WnHJmAAAAT0Bn/J0Qr8AAL9G/2luBQ+JWqn12LABejYY\n",
              "33iCOxSWC59iSOd3nKLQhdSvonEzYLHXN3yz2uJoaGTQiPmkwotZF2XBARvb1bqzJ5A1KTAP/KOX\n",
              "xyfME5uE8sC9BsZaCjw5pqNiaUtCQylgcmAjn9xtOfuHcFD0GXcczZNiHifn4bhJBq03UbhWJslx\n",
              "N+4GO0YU2cYNQmoVpsDHk1gYxV6FKkTP5eF7QEpmy52kHForpasnGNuBr6MbElFQKz+KUcQHW7ri\n",
              "LB7+JUq9TtXbX9S+YDw2044pwXRPPoQ1y2A93QQWU+KJ96/dCfdO+gNUTfuZTh+TGvhukQyQ8L2b\n",
              "2aecDPqWFOlU4310lPHE3rtxWbeia9c5eP3uBn5c8BOls/RTiq10YF4A5vxld5/sdvb6Su7Soyhz\n",
              "b6MwR8xpgAAAAh8Bn/RqQr8AAL86GVGMZYJGeUuQAcpVbhItpOVcIUEBMvrgjcn7v6E+4QrtcHyQ\n",
              "Cpdp9Y0EQa9UIPLmoffaodVYjkKIDKl+tZ3aFzS96igxaurgTwPKek2/DLaiX9xfIpM9fT+7N/62\n",
              "lqLAvaoLeFTvAR8SBsJHSPj4l3YDCbr9wOZVQrDF7wVPwen+fKpRNnAuxTEc1xeJn5Iy+EBY5qwW\n",
              "k/zNnKL7qD9Zfmn0KmW7TOdSsrbD4W3kToNGupRDWa7DCDBMks60PDcrJ0eRGo7JGH/eMRMLJEmy\n",
              "pUjaATWz2dHJiibOE947Us9mGXJWZSRGL3tEA8Y5yl6RzxSfQ8qSo73wt+D3mLGet31U4ER1L0g6\n",
              "HiU068cRcMawg36luMdRlbZe6IWXiN3avd5HgwVlROf11lGpV1JKRyK1n1v+9KQ7w2zACktek0yQ\n",
              "BnxpnMo8PCb/k5nYz+5QdwfYmvQKzhpApRJpfgC12FSUovFggV4hEm/SKSZOJJbc7eWkuCGgzofp\n",
              "PmsAD9IWGvMFA+ZWadr5A6//6+4YD8XD9BTk81z/NVjgkNS5d7X/hYenABAEt9McBwJ+HmAp8BHJ\n",
              "p3saThl7iMOFwzf9hsj8v0vrgP89xf+Id8Jep8Ag06FhbK02p7GHd9sa4iUYvCMG8IH2dF+3nZYi\n",
              "LWWMXvi0qGw2oCtA17G3Rn9sxLPzoOZ6XF9LwNjdhUjFiKM3fPKyUPEAAALeQZv5SahBbJlMCG//\n",
              "/qeEAADoiqODgI03+X6CGqWBPrwAKjHH3AccEQb/wJf1NOUIIrPxrKtgySU22b+FPcb17MvjSaEp\n",
              "3pQbl5QrBN1cueAVXIdTxz252f71UV95/vpwvHKL1zv5u1t+Cwnxf6cmcvrVdidF/fcuqVUHRnCm\n",
              "SLRqnwBB0jMye5uTWyei2aTn2DRWPaCzQpVjGa7g5tw8STq1af+9aX9yJ0V+7aJxDOu4k9AVjbd4\n",
              "Ih8Y/W++/fnRnWuPudWeZ7Q1C01HXpDtA5k8PaZAIxJVg4WKQ3yOyuC2NT8+V1LhQW4778ux6bjx\n",
              "YPWMMX2KcuCfeS9nTWQdIJ4LDQyp4V2hNK1wwrFqNZ3wl3+D6gxp7T1+W6Typ1KDISd+eX3IMJDm\n",
              "IMRzICbdRcn2R6M7PSfcOxrggL1KcNuGTfqQiVYUa1tEZt7Lh5178McOYa5xewtoxWoNlWQy65gu\n",
              "A9ACD5j4ZdcGxxlKPL8Qsjv0D3WiBbBLFyfKt6g+X+s25CthZA2JqFgzxmHuv2yM8CG1YIC3TnFS\n",
              "Gh4ujjsVMXMywLgsZsW99uq8ZenDNpZZVzMZOg4Pr6KR0s00lSgtKArP7NapsBRS/Ss7vMqDUzY2\n",
              "630o4VwB6Ujbokj28ZRhxbkNnCrWSdMej+ZMKtJNmUguyV3v5eJRhBnAi0t9xHY+AZSzsvGjdX/D\n",
              "xd2LVJ2ABTE/RznL8bO3LDyK7HCnEXG08hw9rqxzIsc2TRMucJmdLrSNrODop2Pa/+4NrEonAVqZ\n",
              "KnagsVvpCH1UHJVUrFOEvP8aFMTWGBIKRiAvp1tYnapj4dCKhwdRWNE32Q5tgDCIViMzpjfeA4n4\n",
              "GfNhGCvAmu4jFwrCIuiKpzmq2lFddg4qNAOXpqNgFbX0Gu4HyfHHrXbGPnphwseP3sJc3pWfuQ17\n",
              "WGjII+JYWMomnSVNLy+BFdq6Db7tJLHrFUh4OYCexLJD4Eybz3AAAAJ5QZ4XRRUsL/8AAIrnHT3f\n",
              "BXSmLB6dFS+coLIyiadxHfmH65J9GN/wSADRvUoLhTHRB0CXLsI2Lmc7Me4zL5uGqqwMYZcels6o\n",
              "h3c7nzy91YweonAtxqAOYWYwwoEPB4F9WtjPkvKIE+KALn8Lg/IJTsafdmOZXiqPkol9u2htJL6p\n",
              "363B6RRaiXVgkUJqjwzZNxs7HvFvjhVAIhMlUH5ViAIyekyDAAEc8z6t3yqThzQQ/2Psh2oWLfDK\n",
              "RjXcZPLwoGDAkPHowNwnqmiEhdCgyIkIiHWhDLlO95V5iFbAoZej4Dci1IoUPYrUYPjPn9Ltt/7P\n",
              "hQVTE3VdTyvWxddwPboIovaD9fekbvh23jTYPMpZ8IK7GVa5nBLv5G6ENh1CsoT7Ju65zDVkb6I2\n",
              "rsWcvkst3FQQCq8SI7iy0MeoEsiyXZlq2dehMxYudaePf1CVdsOuVyFdl20/lFflrhWaY1xXa0z9\n",
              "j39Rns3vs/2mG5s45jVT4nFfOi7hElG992OwyV1OlK4sDwoePw1GfU74p//t48qXvd3/AHiPFzBd\n",
              "U7lY5F8t9ghfxS1+UqHc3xQtDCn70LIUAEg3ViHJ5317R29FZqKglI0nL/R7uK6jQLddBA9GVdBS\n",
              "IHm7qKc+im+KLeZ127RcSvOWbve0uenobPPOhoi4MDqpRn03svnxfabRfjalL04qISb3iC8KI9es\n",
              "fY7ifM4ZW/5KV0IRnPf+gGUxsuR6T4hQPBymaq7w0hXgHspx4FPmbZOcy1RkIZEY9RozqZvarGpj\n",
              "OxN3/57d9xJRqK7qE6PwdFSCm4fLlhNXgi1kx3vLJg5Bo42nfi0dxGtPQ2CzjblDAAACogGeNnRC\n",
              "vwAAvQ6+uLZYXgAublPDynKtMSj4IcaWJa0A08CB+86+jBmiKOOv+ObyKBCTBIcKAG2k+U2N+bO8\n",
              "hqMcxxOG0LsnibjSUEFxUHt9nRfk24YPQ7luFy1oP9J+bL30I8/JtS5i4DCaEsJBB8fTd1jSFHXD\n",
              "7SGksjSq77AxWlnPrCRjTZsREyTdGXey+sdZcdDYdlLcYAGnrkoMME7S0K+0gZYD4MLZjisXJjE6\n",
              "yU/aWdCxb8r3VO1DFCxXTTydnRweMpppJ4kbPuO3XBo4oTqfCzQ7wtUYjiNIRnOmZmFJf9IdXq0P\n",
              "q72+C+mmvuBUAs9EdYq2QUZDmV03EKSQEdKU/oPu68Qf4824RrNWKx4hEK0gwAeqkfa7Qs3gfU8S\n",
              "ZCU/lxT3o3jh7z4ChQ7GzBF02ApVW5s89ARyTzn5Gyn5sUdQqRFfxpQyutiaa3P6VbgezwTqcFju\n",
              "LIanwiS92y6+22A0GhFSizRqRxs7H1cc6Zwgk2XqFYjdC+GCX/AWZbhYN8RE9D7fH0Fv44OUQgf+\n",
              "2njJYHFWvn/VRyN2FuILUC48yBXpnPhNLYHZx3uomfCPBZf9j5umiL6gS2+T7x04rvxKbgQWwLrG\n",
              "HM3tdWYKG69Zp+U9YNFFv28xzix3sFUraZqF7eJ8uJ80XImYt5YAjunbje7xvtmimdRKXZFPob0U\n",
              "PP5lc/5vfXukCZQCTpYAJSf/6uyKwYzNE+5MiA5dJdnSuPTXkSSuWNgHzaMvo9bDlfb8HpLH2xB1\n",
              "zNJLK68Ki8ymze2MUWLuvRDQ06K3qvM8ftWuzLNuniie5ognpl0sx8EubS8ajoeS/7jhQtTt04fC\n",
              "3YGYFm68Wn3sCElOpXXWngmaafIa+beE1VgkE/Lqxxi0zj17xsF1Bf8PAAACCAGeOGpCvwAAvriQ\n",
              "76SLSKC4kYC0ogDnAHL3fBgA2A16Zz47o1hkc+8gqLG8ApSIivcuU3qzf0RBdDl5mP+QLUtL2+Aq\n",
              "X49MtkMKCdj2cqqxMnwI9azizi1y1M0jzb0i4WWf9SIG1W1ggT1Nk//ln6BXsL1+8OX1pwTbTnNR\n",
              "55ute1cx5o7/nPmH3J6manSrjpEi1wNtYw+Lruwd/QOLHCHx/q8mGlMb37Kgs3aD4tniOYSMZ/qF\n",
              "g0Hlsa788Fl6HNUndVvD17GO3ql9dIZOL/8/14CVu7oFMf2NbfMzV1Pig9hgvmqlCoJ4agkfAht2\n",
              "2MSJLsI5w5LJklwEUrDBuS+hoA2JCF1YVVXnYI24BpC2g+/Z2PhwqA7ODj+eow9MMMfp4zBJP3/c\n",
              "o7aq67fnQYIp8sgYt429eUoUrRBs6MsisGdNIwxJUEWfnkq+3J8V0LS0+2qXsNsC4fZlva+JUWRM\n",
              "tmH0oHRaTAx2IwkcyTo/r3PqDqXFDBOh0NRn7I+LlHJfg9fMdsA7fkJHXh4OYOdF7Rit5Owy43zn\n",
              "JXZsE42CXqQ/V74PDiOOa0aIvCJ+3eSbYVeYEVfNPZ8dw9jYF0pdRnKxDIvMENoLQrJHJa2X9+R0\n",
              "GUaSdtJ+7V0mB5S5a62HbHkcsabO6MDUZNvRr4W10asQUQ3FkNqASr3EflJozZqSQLtNN6AAAAL0\n",
              "QZo7SahBbJlMFEw3//6nhAAA7RxgvGeAD4pZr9euftdwYHC8bh2/ea579epbJ2QK3cdFNNAz8xTa\n",
              "8wnnBKqhnydHAh8naK6wjxqCdKEr2t/pbcrnchl+V5TKo2ejxvTAxfVd85yaKfYLOUso55eEZOZj\n",
              "JReD8HLr5Syvatxn6QLSsNtW1tcu7Dy3WbT7se6Dney/a44JGyMAfEcSwhoYwMdkS7Bp23xmr5Yk\n",
              "lvkSDrWGPAJsEIMBRVj6j2Rtuq5X0xORMZfkm/eVVoev6ZxYEjUKd9jxvp/b7/eSGV5/wYYSFDc0\n",
              "cUxa4WOlayEv4attMNyPVHy/I1K3ou/8+OSY+dsCg494VeqnTuxgVBNR2xVluUYEKfjgE8bObYVN\n",
              "uhSTg736K2kR/cfMSOZ3Euown//hFjdKqn9e9JW5MFftxTKdQ/9b1SVlcfdMCM0K11qmckaHbS5c\n",
              "qCfD4noFbyRvM85eIHhPdWH3PfbUyKFzFkROoV3AuHC6OSxLqHU46EqnUr10T/P4VvDOeV40UcVT\n",
              "zqEQ5Kw81IEYsVq29wwzaPgkA3rlU6gzavlgjSnzCkwvH0063uVh17bVAGLysmIJ7/oHjyldusKu\n",
              "yykh4cGjKeJThzLdKAx5HkN1Nny50BBvrmKf8JpQQjoFTUIqtVkg1rkezcrE8ss1vvp3AcbAVzN1\n",
              "YgNIiMlGKK4lz3GVfOVnoIiG5q5Yrh1Glp4i7aMu65u2mxq1SKXcHPd3JHYbSs2AQ9prH2x+dIfN\n",
              "4S+Lac1oOUZl8EFC8aY6gGaRG5g9xVOl1Fvirybjl/JWrBhp4ay0BMp2mOq1Wg80E6aOvx04V5SB\n",
              "KOEYjpQmtTkMzhjFAIMvn2kXauBWgZpGowGQVYdq5N+RU2KUpc9l0rA0Rt9s7gi/KjQ4LjtV78t6\n",
              "JcorrX2AFbaO5nRN0vfLY3vsYu6zyEevGMZLuoFGOYwbPizlci0s+g59JosnN3ZmhRUuAbi9xZIA\n",
              "eZmlDppxWmKZzvDwPaKRAAAB4wGeWmpCvwAAxDoE4N+V/aD2l092hEOxEr0+oAShdr4eHnea4MnY\n",
              "uYhR8H6q7o3wztZVDynouWF0CWbR2HbSreQMRnfplrgx1l4EcmxTlEeZ+tf4aCAP8Q/iI3ParFX9\n",
              "MHuFdjUjZriqh6BnCRZNT+YJNpLPjC9G51Sj0yWEcbA0ZLsuW6xuG1GgHdvDdeGIqK6XcTwXjjXJ\n",
              "ELOH4Lo94ICVvW+1xkmaXfsmeIwecJb2e4c0UVIUbxdG4k2JQykEgOXYgxYgLHG8f5/U5E/EpwkA\n",
              "gmNkD/+MBY4fPYxtT1qoCHlThAPPA/71Um1F5FS6wxbR9r2MMe/XwJd/hIbKAdu9E+x8HRXnMZmd\n",
              "PH/PADygngsCOM0yweLRbdPJU9UxXN+CJTZRSWiWQKUJ3termxrzjkAednSfc+F9DO1mPE9LZlSr\n",
              "w95/R6eYFUOzT0+OM7xIU7oS1SZKCSrzydWOR5QbeDo6SwpBBWg8au5uzebWtTL7spqnkbCEG/lv\n",
              "FOnWfn+NLnUc41wM7BpnccK4JlhDUjAJGKB8bcYVJjGK2pHBNMjUMTx5xMJW28p0EXvrj2O8z0BQ\n",
              "yWCG1TIV+qGf/NV+21dxA/pxaVrQtARyh9V2l9KE67dkiSEXaR2xdN3TVbRIwAAAAn5Bml1J4QpS\n",
              "ZTBSw7/+qZYAAHf9uAk5cr2ZSLvw9HuLAc+r1TXz5J1WMpeXLjvQsOpv/CrvmSsdOwwigbpRSbM7\n",
              "qXDI+zU6cgw4J1rds5qWamEf/OX8A4O8vuCsApmrD3IfI4DNr/LkFRQXnVF+9xKt49Y5Kzzfu2pF\n",
              "OhkfrEXmRHMOwhT/z2du6HFKMglPY3oHltNfTwFjaGOdkg59pNtaY7gV0kb8a8ncI9mR3DaodaNi\n",
              "3xVo0t1x3CJMn9B9yAX4c8O0KlL3adnfVHGmA3UkUqU3qfm/1APHLAbgh80lJ3jkjRJOcv6Q+B+O\n",
              "4t0DZALd6OcNlYVfDjvxoxWXc+A3WZmOX5sk+ZEEelWn3QpJlLmCo6cT2k3Qjhd4XX9bYcKal3QZ\n",
              "o7yk1YoQjGebo0qmlpUqsdBr0BxZC+6PhEx/AGPT7j2bSb9TDjYuT66k3mRIwtZuUUn7hrS7mCYh\n",
              "3jB/fbjbTnEaUH4LZMVOOpRWoWGo4QI/NvPg679APerXNPr9Q7q5ZUVBGPxYP5FIDDKFY3RmMGti\n",
              "Oy3tHCdDv/Q2XD9K/ssk1Re4gQtXIzUBQAxugVNhRZPpdbmeY45wsVKiRFpv0BWBa3KJaHdpajNO\n",
              "QAMBUo2kbExDccY62c21l3QBuzjPOm+JiJ4PMp1HKxc9fYHBKOHou9P+maCE3kyVidbRlm82wKEm\n",
              "Tj+EOrkLY/PoaNC3CNyRMrdBSG9vjyvLLczI2Y4JcRI60Z2os5CkUw6Lq+7uHkuNQhp4J48VUbvg\n",
              "duIYNjiLjmnAFxeLuxZBXATIBc8d7gTEGb+uctA5vPSupC66DaG/vgezyYl91GWHv0MKA1oyEap5\n",
              "4S4GLQAAAkIBnnxqQr8AAMQClg03padFO63GCMLhys9uQA8ZjYNXOnb6w6QgA25H9PL+fmBvFwZv\n",
              "zMUc4FmmS+SWz4ANacsIK+BJYL6d2f7JobDGnn8nKQzfNnVkMBPdBxH4ysU3hh87Os5YHsUy+/Gb\n",
              "KPOszh2ATgfbMAAoEBrEUnKfVG5ZRJZVqsEnwgxGXMKNUrqBSocDz7QeMDqgIkIumqwIhFiRCwsj\n",
              "8Qt3piIc6xMsTlI7HLVvVlVQu2HSD/w0vvDfPGAlNReQj7Nl1xv3QcQKMmmZEK92vi63+euVG/fs\n",
              "Ycwg56i6djiGFKO+pAlkhW9iNQArThttafNP5+s4R8DSIvi15zyHE/pYaSAUCZAVp6LoAQOXbyjL\n",
              "GuSVKyPEeMSVVm+fph0aAuutBrFfngmEt2/HVaCrru1GAj/RlBqsyx3rDFJfDL4O5ypXgqRWWZhJ\n",
              "+asEZeE/VpWo4Mh53sYvAmleY4/16gJh2MnTRLeczy+la0gkyK9u51G5mQ3RxEhs5x0jkq3sIFf7\n",
              "WA+rlIDIFJJh2nycYcuZjb1qKndFrdtqGRNrli8R+a7ojRrB+qiAgut5l/0QFvAx9Qv7uINmPmZV\n",
              "JQf5fpuNEkc6/mWLTOQhm6+Lwr5Cr1vqSGhQo7PMHhmbPzlafUQGQ5zcVQlqIN8xwMeUE2kv7RpX\n",
              "uPqVYgJSBRypks/peep0lFoZdO0u2Y9wswIgEre9zs0Kom/bVDl9hIS3Jx8AggV/+TYZ/NrC+HzA\n",
              "ksUgTbRPamOAVgVToDwY0QAAAetBmmFJ4Q6JlMCHf/6plgAAdIdH/YGEA4GJ+S4E7Wv8YNnLx3rb\n",
              "9HfkI/uiiP7b6n/bVOtn/J8jF283gYHCZLmihueAFmcJtquYvpbLe8yN+wPnVotSxOCcQu+zttQ4\n",
              "MlAd62CaWXXwMDFXBFVVISQU912LheAT5/TOGubYvWIOPFmOg1LQkSeB9hb375u96JPpnBbTH0kq\n",
              "TW9Du7/JtNqToDTNWLD9w2WTTWEwk4xbt+MKhVotNLtwDEg5dBqvSnX/wd4YqSCN/+o+LlG4/0Za\n",
              "LM4EnKAmknR+uwMK1WOkC+43Rlek21NfY1gyjVqExRGQHCks7kEkp9KBGoz5hUBgAVb/r+cnlF2g\n",
              "9aOInEjoeFfKS9AMPIADBSoQ1zOqj6aJXvTyT3lLqBZjFElHH7x4LTwxFggU6JC8cVDVeriQAoIj\n",
              "2h/oUJ9+7JCXkN3Cxa2DpUNLqC+djWx3hSQ6MXVf+B1ZmoQG+6vn9W/tL765LqbqOkXTaEZ1Io3M\n",
              "nT5hickRujR7SBlfcgDsbXJ0vv6Jg08kItdcMNt2p6mzKUN64onhvmjuZO8Eabkp1Ko0t65/+HbM\n",
              "+AecBSzJfSt/Sp3msbiVW9fEF2iXY0JNaaKF+yN8LO3UsfcNuIRB+E1nYjgB4LlMTRE2nVY5dwAA\n",
              "AlBBnp9FFTwv/wAAkvF+uWJpbApR21IV/VpRC60AQJuBZcVyIIB8EVD+7uIRWE8gmdNK64j30Q/B\n",
              "imP2uwXdAvv9DohJUl2jU+v3m1KEh9amenmSHw05wDHZoT+24Hj1ZSjFn3IWlOyTew5Crm/yZfDL\n",
              "il8fT3RRa4YauKg1VtivYmzvpuEcLvX3b6kNlA4kc2IfRXBi4NwmQ0A8/G0HAcLn2zz4CExmilCi\n",
              "FTMw5UEQl7aIqkusKmMJ0GNuQz0TNASJJH/CoQYt5GUmWjPhtYZ4FF68ZUzn5pSAXJtMSGrMI4S6\n",
              "7mmlJwdAw9c33pX76BkOhP/2HBnLpc+4kIwhwAt+gzzjrtdJk62Pjc97wgBvoSC6Clo9piLrHTOB\n",
              "CMgAEeRztQ4UYjc8PQXiUkEwF3DniO5r7yvdGogWRGXkPqjl0qaTuDjXA+WWeZp5pd4fb4TvHqBW\n",
              "4je36q9rzZtTciCNSPlRvoQALUgk+cDx1dZgY96PLmyCtLq/8SfOwInMdRqy1eJm9E4/cnm0o9gV\n",
              "b7y55Ryv7iSvnIDZgSeVHWCUu+zWsvuqZlKXOT8Vm01+bzq1jUn00Rw/WpoibTVPvUswpJ35AIUK\n",
              "58tGeKxkYsgSwmVNbtcPdVELIugJY+uxz71Ya1VW2h3bruaRtnEEoGubMn9oJt2x7UJOuSFzTGzQ\n",
              "WOiIrJ/2/O8KNbFB3+A2FCOB/+IVCGmAUijfqG0uc4rgfrA/5E5lBwmr2SiWBMbRa4I3LmsB3iVL\n",
              "u5JBC/iaxMRfM8Xt94/hJEbB19qQ1B0wAAACWAGevnRCvwAAyP/GwuMtImz13adA9XK8LB9+T3yA\n",
              "gwuBsnBQAIbCx81ItK6mwxHV0EgOX7oUdymQ6cfFXoLw3Cyl3cee1/5rHptFkd5KI+g/v1b42iUT\n",
              "bbVHNaC1Bdl2BvfZXiaDCGcDSHkp2cuZCGosoIEJaqqwwnqovlXrTKrIj8pG6dJdPp/3EMxZOKBR\n",
              "c2HJDQp3c3sni71A7Fzhfrca3tYL91Me1rT+DfynATFH8cjqN9n8JLQdVaoWGHMWj5B0PCosuVLL\n",
              "vxMRGs3U4LO4WnuOlJngqZXoqOEX57UfTrd0QjNt+8zkOwLAEc1vrRTYjvb+r6eGeoIbt/PM/oGB\n",
              "oMzkd9eOAPKyHttRGGs+UiZFXp69vfnh9l+6UbxzfCUtdAxh32Vn0wbAQxCfF7hqug6ol4evR/JW\n",
              "Mql5AhG5vMtTC8hhTJcuaAh0laPA3PHes3F7nf8hf0wk4jjW99itNzSVwQxIQAQq9GeClzRzyaYE\n",
              "Br6M07tlwtIbV+VBXeSuVLsz+Mt17YhRkDQzhr7wjgf6vvzxuf29AIHnYGt5nBbkuPJ2lzZ2dU2B\n",
              "KILms0eeo3w7jBRPTx/ZZkWuR5mqCueE2Q+2YHSRi7DjnLlaMjIT8SaZRFkSm1oKeIgRkxln1oBB\n",
              "5GB+Ny7OTFePHaJho7Do4OqVUEBCyjJLa7e8lDSYCQwvdHGkHDfw25gfGie0QxNyPgHvoUQn555q\n",
              "5ZVY3FTAYalvhWMhcDbXlzcn5xta+WZKr02PhNmlRFzbJh7QWowzqOEYfraSp61vP/gv2q4E2n+F\n",
              "JQAAAdgBnqBqQr8AAMk6tqgYlECMBg8rdkl0hINDd5bs0RCNFsEHNYXy8YmOB/ra/7q8bg/N2TAC\n",
              "FPOjsNK7DPxguT1pZNzvAXc9e9uAiU3b8bbd0qDEWtP0JSyd20OkOvulHDP/sa3r3wXjyAQMhHuK\n",
              "8xymwESsC4/LsBV2d3aiOhAnWeGJKa1NVZvP+/5Atft+jK/P9MWWtYowokI0vdxAfJsypHC2R3+6\n",
              "vhJ1dmx64veHnFPcSAdpEvejL+Bcf9xarCJ1qr3TFXjNTXVd/UIdbEGq3nxIaC9IfB5qSylaffL6\n",
              "P8kpDn2p7UXj54n1wYZtsBSbGgELePMrNPjZKs2xiL1YIKy7KyB2TFu6c7Y8yk061sXk0t+QXNLK\n",
              "x/Es2jDaxFfXhnbL/U+XMjiikl249bYi4zfh4rMcylHwlFwhkOMW4bhCdy8BLTgfMnQf0GRhcO/C\n",
              "4tQIGQv7F/1+14UVjAiFK4GBsTpy5avHOsP2djE5d6A9KB5W7VWX9J7aggI76EWhfdWsF0un+3DY\n",
              "zFoaDcNtOcBVeGmDcVEXB3/JX1YC5eZc0uFDReRUF8CIg8tADVx0DDqTtW7adQyR5S9IN/z5Ywid\n",
              "us7TGMoaNPGwUDcQmcXPIo+KRbswAAADB0GapEmoQWiZTAh3//6plgAAdT2y1mD2MX0d17fUffqN\n",
              "V/hJ9nI0nZnPAEYKV2F/ZCHvGivCzNn7mbkmDFC325R+1oVNKRdoJs2BFyvX+WPdRgM6zgHa8oge\n",
              "qDLEnbfh0hlQaJ54Fu4On4+dOLV5B2v7QEOu4fU/MyUAeCPCopyH+99A37kn5ydeaIpgakaN8dP5\n",
              "BAAHcLbFhBlSxtH/0RoYD9UeEtAZ/jVJF0Q6kLssTEKcFWdO7ljwzc/AfaJZmM0PFb6qYEUN8OxF\n",
              "zh4gmoqYi/Qx4KRdCzDCBcGk06pcqsOFfu+eCst4kyVoK0FFeqQBYn3Mlyf9yJLlPlhsbQh57Tvc\n",
              "CYm5NwYT3dSvX7RN3MXARjGqri8MZXYqHhhvPSx3siXhc9eOBkn0KRGhBBXZohzpuEDiemA+kRg+\n",
              "aMoOXbkzC92qu8E6F9P78ShJBipXYuW85HoTTaDbC23MaSa3cB4jti0z+3RmjV/dDrZHxk7oZlqe\n",
              "OGiQ9MVCsFY6SgZw8CAZXsC9r35Fkc4Q/M9lVVBMTt70oX/k6Up9Ww2kgbA4NkgjC8uPogLoB3V2\n",
              "LI2woNnL7W4iKUzDJ+fMs4xOjwgiTgJ92Sm9DqcsVFyANfG9aN43IfOg+yJdntvUeFhoGSrR5/um\n",
              "kuZ6eoV3Oplwhvc76p2j/oleWnA0pJQfijMro5NgjWlIoz6Z8TilqAMPkOCNXHRcF7kVfiJlTnmQ\n",
              "he7czw+UTTuv3MJLuLgIy1beGIO1hsD1lnP0lrAX1e3SXhD2jY0gv4Wz0ohk8nEv6T5TxsDBWjcm\n",
              "YU3iBHxypV+ycrRCW8YDkUYfv7PvB47C6w7mBWmRuvKObWUkAx/YrK4xtIoTOyvAeeKibEjPWwSA\n",
              "WVIbmWmw4mDfI6zwpiUiEu0e8U5Nixjp+Oql+QYC2/rvLgD8XbZV7q+SK3RCW2tHfxnXNgWpOK6F\n",
              "XskeR/xNVHVrIWWj98DSTG1fmjzR76HrKWP41MTXIW9sln5HgKBWv8UEH+0KbBGIfVTefMF1UHjU\n",
              "b0EAAAGjQZ7CRREsK/8AAMlYgZeV2LXR+bmLT72j3n+aWJzfq+gA5Ln9mNxb8lsVeuvdMJcq99zk\n",
              "/p9GPMQgHWDo98HJwWANXVgMoAtcb/TVMT8QDLiNIV86/OPHuFntl45UsD4awe5dc92tpbUjmo+I\n",
              "95ip/qoO7gdPZWcC4t8AIG/jYRmWhG1XtI9O5RcG7BH+6QlO2RPAp0BjYhAIZvfKhounH737JgHV\n",
              "+aAEIDex6/Dq27M8wQgzVk1o2WJV+8HYowONcu69LTtktSbTq6waBfnPTQ/gmiWctcN/ayXXCjyW\n",
              "2IuIG5HZw380w+Xb+LlUjbIxkEY9CsgJ8tZL6ZTmhPnxBbWz6o8ge1S/BRV6nILJy810+rHQz10O\n",
              "3EbbRqbCS2Tu6XzhjqewOIcUxXMGPCPxuzTRknk/BWF9o3aDPiKkgQKbsGuR6ZFRdxql62ZQvZRv\n",
              "VUin5f5p/Bo1NZqQA5cC3k1Xu3ycPADdktlDswTb0Ka1jsJd2aC7ewNpSahNitsO3hrenefcurbe\n",
              "5HVtf9b7WLUdfbogBP0WRxYsnsz83kD8yzgAAAKYAZ7jakK/AADJOqrDloKJahkkzlosIXtXPAoA\n",
              "OUqtwkdG9G2InOq1+/n5zMb9meBaEH9EE4ZyhHW1vYafo+wTOToPn/+OCHjcbr+ja1LR6PaNvwtH\n",
              "uk3W72Az2Rj5qRaV3T14lbLgn2vg4LRFTPcYDxOfVTqDYfEzF5ifAcetnU5n7t1GgHAxOzhjLQev\n",
              "3XVjOv5cfosK5iDjoWN2TU0OnDQMaxLgFU0hZup3B27uCvczzPySEPSshnqjSoOBQQQMC8a8XRP3\n",
              "ApxPekxxWqvvPIMdMzluNHEilwYcqdPw/a5VEw4oBUlsZfpG19sNfnac2ieYp6V3j8WJXNv+9QqP\n",
              "K7zg29D6aApVQ3okloHHMffu1AV76Uvbrk/H3tZYexDU/4uliMgFD9UTXeVCJiXp/HZQPFAUaPwy\n",
              "lnt7ek0wErr4vsLvH1GZ/yNb/dSDBd6kcS2fOZ9waX5MQ35EJaBs9dS2LYlinTEJusJecCX87qPw\n",
              "JsB7mMWMLXSlRYKM5thnkcYpwUld39LVhJGuYOQNvdksHb0GjsuVqh9s60DbBTPnjYeFbxTvxpX2\n",
              "ZFnNFGZoay1OyOXETupbA6aQZfxO2KpbmD0/+DdbdgToT2xnifkdQMKMAbqhlk3vA4AeNnnLB0t5\n",
              "148dzP/1gmfsZB9POyJvQumShJ0F/rRq06vWK1qeFQ+3HFs8cVxLts7Y5WSd1k0Eo/2Kp/M3iWR0\n",
              "+sYhBG/UaX+AWNwVPeUkwqhU+lklNWO7fR31eHD+Q1bEC0bS6FT7n8s4EUmTtvpk9+/EENp/SK+E\n",
              "F0hmyvsa/CIuOvjMu88NisRb4LNYAZmVw2KEQeaLHIgM4zRc345yLUpx9f4N6VGWG8CJYAK42Brh\n",
              "qGnAg/FIJhUTsQAAAm5BmuhJqEFsmUwIb//+p4QAAON7KfgwRK/+AWz12QAg8Y/8hUbEpDmbkX3R\n",
              "iPleX3i5E0Nswjwaf8wMzgbaWP1tK6cOBaSLPvZmDq5bX6d1RHcyURHcKvRZ3VczN8qaE6JA+YRq\n",
              "o5SXIMkX5FdLV475NtKvP8MFVkvYA1tsSEBwMRPIYHgxdc0QhMFkHaNcUnDZFRlgovsnU9Ajzx0g\n",
              "gAsyVVMYJ9B8egkJnjZDVE4XNdsxbcoVcOBpMPWHtYgo0lIdK88FHQf9UI8pnPbmOKe1Fs5Q1VK+\n",
              "SfDh07JkK68l+6EXT5i3LwCWn3LDRFYyNTjV7vgGZuG5YtzddC9BWaXKQsALGfUqoAFLdrZ+vCal\n",
              "5EMmeU0BfC96CcoxsWTSYEX2aKmELq7BM6El7TVyOqdxaAdkzQMgNoAzGMP+C3MxGu1Ywh2PzbrD\n",
              "z7g5s2S4m9hqHRFBCCXjhiA+G8FSJwS6tpsktr8Z9S8Pt5bQoGbpcVfIIC/n3o5fknaP8yw2K2p/\n",
              "7MqHWsm7JLdpbEm6oqYF5LHD1dIvlVBbIPvAHUkm7fSzXRilJZocIANILTSwFfvbJIzt+maGNbuL\n",
              "DpMAcgDZ7V034A/gS9r51iUeA2p6C/1j9N4vTdPahaxpvfbyRWYhpQGclUZXQMk7jbRfbeDxl1z1\n",
              "D47TANbdXcdFlWPfwtULE7plVA1BQYTuGon0IRZLnJBjUxmO8HYl5HwAAFYdhRAgmJqcvMQzqugT\n",
              "ufpc1glAcqjdgty/jjmKGkxSfZjw9lbZ/uM+kSrGk8kuBM3v4k4UrDsJKP0EIPM62R/uWKbc11l/\n",
              "cY0i+QpkyekhAAACmkGfBkUVLC//AACS+dqIS4IvVUzPXEHz+0JyAAp5RVoFgNV6h+FKyvfgerX4\n",
              "4xBZWWQi8ur7TZz2nuAqKPCsg7pMRDaOUAfnHSt8JX5Esr0kk3M91+G5Du0POBfaL/3PUQkd7n8U\n",
              "ToZRS3RLZRReeyKjoz/w42x/OeDAnUZobWAbx8292Yi82tVGR6bYEHT8FrVhaFICYAsOYGDhH4PV\n",
              "57+DJvfyaq8v0vjyT5HXx1yRjLyHR0yi63/mv/qJoDw5PsxQewlz96VHfQo7MxH5AjSTqBKwTBUC\n",
              "EN6lVOR3OOgL/rBLbFgA4eWf46aRPugyNmU4As2DN5CfCGgCPBuMng4H25HWTNGUbx74oJiPGWpj\n",
              "Cex3cIvLKALjh/Z/qGTC4qRwpmbf6HvCgPKhOWqyHQrvrMuUOnGfCt5SVib1/NTttebs3YNJjqx9\n",
              "pL6SwIbTddSa6IYDo78b4ywetvILqmXTZaGxbv7+r+9CfqCsbBBCcQv5ATwf9Zcy4qdGBHuU/Wqs\n",
              "xjYNVZp6jxXobVCYuwiJzx84t1OcQDVszkWP65xruWG0qKSY9WKGBjqAVgq9qRnMrz/GhzBCjFjJ\n",
              "19cchE5y5FwrOxhd8Fhpo93G//iHA79QgtfPHCED7MmJhw0gfDadU4g3Qnh2ly7n1bNvpwDTJyxe\n",
              "lxo25XbUtThsF3gxZS/yFuiN2weu8NKs/UMBrqQ1tCCpycANDd14x8N/ZYaRMawbO7LOog/LMQSQ\n",
              "yOd8O9whOgxtlOBB1boHc+orNKyk8bLjEUmsbmm+WJsTZlN8b5GrGpyqtPCvtGvrSFWt8ZKNH6Wc\n",
              "KxPI+6kXpAwUFzOAud9v5VC+6PYMFZ2PF+fvFoqY9dYduGBUssJCv2UcixbUu4yVhcNSTwAAAwEB\n",
              "nyV0Qr8AAMj/wgC64tl0kABzP6eHlOVaYlHwQ40sS1oBp4ED9519GDNEUcdf8c3kThHRGlsTS0ks\n",
              "6EES0YqrpSJIaBdLJUHcPpUcweIdqdhL3OxbiHzC5mCe9LEtVqyzmzLhsac4tRta1il4FeQRUxqP\n",
              "ubB9g5abPxTeLQio2wXZT8AW/FxayBMpsKYo6EmA/vTcR7SoDwKNmTZj+dTBtia4ekKGfyjM0Jwz\n",
              "JBiewig4M+OYzA5gZyHI0rtL5mdUmiza2+B+P/3RfyXKWOIX9zawF3/p2KWipaLtFAL1rWB2wxgs\n",
              "Bve0ExsoXGeaGLBur7KHdzmIm9+wGD3+VZVA+qZBELl0UKo4X3kzH1LsV9A+N7VKclf3Q7DcdN9J\n",
              "ggc/KobVRSwbFAayWx6FQ0s86aHaqFCql2mURqp7ZHdnaB/H9iqpOItsEiNSTsqOB/R8rapthhFA\n",
              "ulB0k5HYucbz6pgA4+9zarEGgLz7s2YFv+u199758gUFqCKIUvCEzSG+aAT/iAcNHCw+diMxLn2Y\n",
              "ImkXJtN2EJxMqVblMCwE72btAS01Yx4QvPzqxBHAZwck3Umt8J0ERYDIewqaX13vesdRh0hHw/PQ\n",
              "LpACF/QyLwUN4DRsDZ90h0UTZlcyryRy4DnLoH+glPanLxy7jWUQgEzqgb9kwgPGxYCKKEXAVnbK\n",
              "Fh2tcHoeDDsDZUbczAVkJ7/bwnpHVd/S62FiyofC32jfSZ7SkvQwXbUy5qPbQ9i5qcrQwV2Bgbyb\n",
              "GIMjf0cKJ2GcFEQHA9sKtga4M57mmd2PQmgVp7joJU4M4kmc9lA4fBgdz0ZDha2cXkG8PiE/F35h\n",
              "1OQlHYswTlqYcES1v4991lEzg19ASJfkncJebi0DjyGArq/CXzrhBTOZVcilLLj7/Z6JuHJm1smu\n",
              "MHhUW2GpLEGgfhPWpEA7v5G2GP83WLJ5Yn3pt2PRhqm3q4tQxhipJr5HLSit3B6+G6A8rFGZs2KG\n",
              "XOg+hZz4vMQBn8+A7hu+2k5PuB48w0/NOKCBAAACLAGfJ2pCvwAAyTqu8M1Z6IAQnPhNhKZll8wD\n",
              "hbqbSr5Ajy/n95Tnw0dmYuafd+6OQ3kBX8J2gPpE1owARtFNSs7A0MXbp86b/r0ogjrOUWMaq/A+\n",
              "+FnlakrdlGdyvKFsy4OfWJyL9Ww9WFrht/8Jpca5+jrVX1SpR80Y7fE/OBIzZvQzyxuA/GmEknja\n",
              "KYYcQlzjcsu/V5EbFFVxPCuXlZEvXQtddB1sU6Q0/uXf8LuXGu8HTG4yKwQ3rAzPzgUKxM4/klOr\n",
              "oFS2HC2nspfrIHAXOK7GvPZU2mNbaMTi5e48gXFIO9C1fA0KoRLLvrwqts4r6IPsjNBZ5mq+aX2a\n",
              "96dQhrGiwf1qr9bXBVZwtNtq8BvQLO44+kRGn06v7E5Ac+KgLptv6Pn9dui/r3AVkpgg37fP9MKt\n",
              "iZynnAV3hcjzqNfYlMpc3mZ3du7MVUNfZppCMzhDmJeMOu4gfCFGWtuFusRO6QCWbM9LnA37+eoD\n",
              "BYzzZexWEtwd9RRc56TMrNnJWVoojP8kbniJx7bkXbTQ8ab/4cKGzHp4qGxNW8DICP4E8qjlBjJz\n",
              "N/VV6qsPOFHN9Z/oncTBhvqOoAXpjYbSWeHYcYqI43GqgolGsYp2mXI4LBs96AP+9YTDs9YtyDl4\n",
              "crWHsYiJ7V0fbimEsomP0+S4Fc2W8EN5cyw+PJbBoMGnLk6HodriPFzUZi3+F9OA48FLvZdjh3qq\n",
              "ZoFQmMrt5xBrBsyFTck/zcAAAAG7QZssSahBbJlMCG///qeEAADY+yn4EtyUAFHhtQV/ifWOcv09\n",
              "j2sgHSi/wUE5N2X95ZhZ0nDHc386nyw+5aknm8qpXSoC6wHV4KD8fOp0RpxbhxuYn/8a6ngiIDXG\n",
              "o4/vr8EInehBZRWr9h1/ZQ8PW3jPiPpiMJMTx9ndO8tTM61+zO8JP2wx5UcdWouiqwdVuGbM+5sa\n",
              "L7pxbLlTTpY2Nv/o7hiLmDOPgIHJVhG/KBbDu1zjOMpW4eVwu687RJFjMgrYfi5rDza2JiAkB4wn\n",
              "yy151HTYikGWCg7iM9FWRxhtQL3dyGASQmM9F5q84ayjwZBvQgOdl9M1LlcUpH8NYXe2+747/38R\n",
              "U5v2o7F0khIiNAEku/e/GoiNTgzTh1hE93mdf+HTeszPSBnJzL4LOMj46SChjT5k9pdVOsSfBEws\n",
              "IDIVnR3IRv7n3AS9RLTSMhtu01eEosQ0afbwdPK4iOJ6v68ul8NRpBv+ma+n+Y7jC9StMqOZdG7Z\n",
              "DVjf2Yv+v3daXlKcpoj314i6caZqTHGXwOQeRNgJL3T1HTedbk9ho72mxuolL5B1t+adQmndAOLp\n",
              "Se9pWXwxTKgAAAGvQZ9KRRUsL/8AAJL52pMu5dAVvyGpQmieRx6kZHWmAExbLKgHHl3oDOkRS/hC\n",
              "91YM/FGIIwD4fwKz5rf88H5gTo4FttIvyzPgwRpc+rm2JgCi4h3UmH4n91jf+iIln9g6pwanvOoC\n",
              "mX4ynEw+EnH/J9AHHs6UZZBaLCgQbz9uKYmDWNLxMS3ftCvzFqRWgG/CJuTqJDiFWbmUSaTOGUy4\n",
              "ki7Vs/CLbPbcAUOjmWGWHisjEZ4xHWT93MU1yvyic9EJo/e94D/e9GZv0g5HP1KgWadtc5hkOXNk\n",
              "pxy7UKrNZ2Doq5Q1vGEQ6Ag7/ZOwe8DJRUbCFH3i0CwTEAFW94OOXTl/Bt6lF5gbiZFK5QZcT17G\n",
              "5AYFrsQtWyfofSe45+yrlWUNozWStk0bVhwDcH50O5CC8qTgTByGQa0zoWihPromHhSJOCYIUTHE\n",
              "7LwmS0vjzKZeD9SwO49FC4rp043BFiTcL7gvWMtLYuH3VMYcbUjtv5R3Ze2uoTutApGCJD3UnfMg\n",
              "6jv4xp1f72bSomCXT+1JK1CvxzfgRDrBoFo+DJrPGg2fBCoWIUr0hAFQImEAAAIzAZ9pdEK/AADI\n",
              "/7x9/Tx3RHGpVHKB/wvQAcuBQ7yCS/gtbDDfGy2sOgZX9FUrt6jXRLZI7kFQcBZm87SLYmFocApA\n",
              "r/1E0JAtAFYRvxxPLWmIDMDEbmRDcHak+/7Zv6UhOsCngBSUXKDAtMORxke2wyVd2xUTlvdXawyG\n",
              "kfLT8UOOdB17CcDDQT6O2RLHA8z9bqmeXz57c099UOvVwsY/RhEqBSWdBFAQ5Bz6NPp4CT2A9EEv\n",
              "QVXjSzO/wPhNRl7MfbPuYoQsIWZVRuQO9wvwTyIsW8DOPIl2f31FhB/kyI6nw9NyfNIMeuWtgGDj\n",
              "WsnibZNeinRUg1yCm8GctCbI1PQuMKnqJpIL4BxIHExW1cW5uri0bR+UP81I0B9GxR4NaQHpPXxU\n",
              "uSOGaBlIMKWSaJU3qG27iIPx/wvo9EIht2LD41hC+Zg8I3L6p3PQAI0tVti9gLuwjfT4H1fW+vm5\n",
              "3l33Y0vEiEBtHHELcrfDg0bAtLfFgmIDKFBn75rbstXRi6wcOcQEnI0qdfeBIkz34cQGBrPMewIV\n",
              "VHXF0evavDuEs2t+CynHPzigYw+Gv6E71b/xYKWmW1/tZI1CgwI5B+bQzfc1aFDPdwbCIT95lsJW\n",
              "m/J7bmQzB5pTiR8CKHPwaNvfJJEHjThqFwjQ5BXwh7APp7iNMD2rbgD4347ThuHLspUaOwCcyMbJ\n",
              "KpM5VbyqM+EvSQGIus3GXtZh1ZDCC7uDB8YVgnUGYMatOAuMfyHxU/wAAAMBAZ9rakK/AADJOq9h\n",
              "9EqEv7AkvQ6wLqtj6hV3c0RafJ6ytESMAF5hSKed0X7nIhlTv8UX6X3NxiFa/rspP9dKywDaeyBj\n",
              "taemb/S/UF1ID5zoULnELYhsJzwd8cNCYjgIc5AarZbCUL7KCgckDFYbORuHFKdrnx2RzNT7PIMD\n",
              "/OGnlH40x4MgaufArWnrNPyF+Qlb1Pg2jldUUtSPFrGfI4dVVYJ/D21W08QlNaGV+6+iccCvhMD5\n",
              "rnbMTXqRKFPBPWpqvIjlLIv8KZwYOeCTnkiMYwfWswkj939Ov/yuMnPKq6tnH1dZp3LQlQHQjAtf\n",
              "71PFcDBToENQTEDXsZfaQMG+R7c1PP0CyCUhCuWbnpSSEhbOwtsyDgWZoko+ntjmTtJqVEBixOLv\n",
              "VceFun+cWXv84UlgUbQN01DhTyWaHs3/h3ARP+e+9e3P2HPy+oTmtcTvYcytYQVFZHMvwNua1BYe\n",
              "75pwxNg8Jrol0hP+089INlc4uJfw0hADpYec9JNubBLz0B9+XDxFJWRVd5rOUb2wyBiwM+3vWA6T\n",
              "jJpruAcQeIz/1AF1dqufgjeyTLyy2y8F8surVZOKSQwWKatou8k8m+iDMhL1utV3bozA4GKLppXk\n",
              "uUN71W2xS15x09A/2dy4TUR78EawXyCPGTuPoZE57TXW/FcWE3wRaCpinOPZTCpcT8/N5LwbEJKI\n",
              "MfIKtBELdnYs+wckwD4KobyFafz59xM0phODHQ56BlzoDHj7x1aeAlAP+mwdIrUYwG9N7/gZamFN\n",
              "DsMLmo4Q5KCdNsEI2FNoUhlV358EZ14wwYrocJp3/XzCLiy4aiONvaj5NT527emtf6pAp/83h9Q/\n",
              "Xezs6Xf/D/CokTVvVYSBz522kU/2xI9OOJC4gd6WqF/oQux/kK68+5mNS4B8CODQuhLTBFMhFf9s\n",
              "XCgThgoEHdu2yY1PvutUo1WKrCi+tyjf3XCE0yf+r9z4jwDVm/HejQrGL1Q22jr/5bqPT9N1+fl0\n",
              "fGwhvSuMq+Dd7aMc+opKCAAAAf1Bm21JqEFsmUwIb//+p4QAAOjr3/CBKSwAEONodGYK0Z7kQf7N\n",
              "E4x2cx8VMZkj6+jDISODFsYXDxpROyEx26FwQ/3CMKv/dHrwe8BBbMAnr/xYdFBRJBDiUaBGw8+6\n",
              "q8a3K4Y5gKBU3wIXOmqnoJkHUJ3AWH/QF4lK1iWzh7kHC7I8Ebc0dSiSvIYSzBmYAQU3A50djqzc\n",
              "m/+ITddVS12CtV1bZjjjBglbb0puXmHoTlEalBO+AZkBAs8jOzn7jMJo+Lctp2wooKMjZEYRS7YV\n",
              "DsBOrWcN2yN7la4VyWlLk7ohLKTAy7aGf1m7j/GHM263PGu+knnBKBByASOs0Dy/lXtNRV8F1qZd\n",
              "/iSyUqy3OiP8MODwWqszJzXofFwIz4+vJvJ1G8JnynD0uPL+b9vxszHNV35I3Iaur4FMqajK88m6\n",
              "Zwv79+U0/Iqaufya/lxxMJl9uU/JsnPfegzAJwUBxv0Y5fIngyagbuvCL5nX2Au6JqfxwUHIQb6o\n",
              "v9OYcyhiIw4wvjN6zoBO9ZTJy6DWgUEkwzsUE0bed+eyDTTUhByWFtLqR3Jlc83154T80sbkiYpq\n",
              "WyfJxze708QaUeWyLAt1r52xuy7AKX4EFiL9VvuTgHOiSnZ/j4fxOlrpDvWGzisRAT6rWl4TyQGt\n",
              "XbxjDsNsot5bFfwZ74M3uwAAAwFBm49J4QpSZTBRUsN//qeEAADo+ydX907x6XUkNuC6TYrxrWyl\n",
              "bgHpCvoFG0sLayTCuJImocwJ//0U7R3ypmPKvU8xp4KDYYTA2BMjfycSvhViQH7jCXj5FpomloIm\n",
              "uZ381l34+wrBTw1K/YfQz1eF6nx2r4jfA2z+S0HG67l1uKdSLdXNg4BRJ0x7h8YXQeT0M/QKJpAi\n",
              "6f2+0M7ZpxyKzooQGxMZm6or8bytDoc0x2exo4LIhu+JoSGguu1Z48deE0cIw+r/ycbjen/m1ym4\n",
              "4tGVkaoUSDkie1+Jutd+s62fYhE7enJo1Q4L6/WQ2b6M7ntLL+UPkivK1+ENpn4c13ZdZAtdf8lw\n",
              "AFChxYfC7YwoJCu5HanVg4UiQodSCBapnziDQX0utEi4Y+L9sGQlxkahd8/b8OGDHdbJVqtF3L3l\n",
              "WHdmbabFimbpAHMgvHITozQZKyTh0oZSZ6qBA+D3MPWQlGgMNodAr8oVZyrE289HxnS1oIyLj+JJ\n",
              "cM1/Lbh8P8R/nRWVoFZY9xQUKBKpx4DfBjOVn/5969VMeD28ZtBvRMV2pb6+l3NiLlLt1Z1cwt/k\n",
              "hMK8QWknNtXh/Ep3BNvTIzZJqU82XuOlN3i4e/V2PbyA9DD/7cFDtyikXz46G+WpNggfrN6IkyNX\n",
              "7vW+4awS2Ev2eBmimfD+8dlXop7yZHbB6DsnOkdVblEahiXw6N6pLplxoMLnOdI3JgdQ0KcqlTad\n",
              "NRRSV8pmkFAJI6NeWE/mkg0TZSMafkGVa0UtHTY1J1+ojbm0823AS1zbupCQir4peTfmVNwwVm/X\n",
              "K6/Yphw8cnppnX2rknZQTqBi6FeBLXEOM0KIXYHGoZqMokOQsXY7F7KDPKqKJtua5Kc1mgV8fTXm\n",
              "RTMPckE2PZz7QtYdmqtrPyYvuHQExRA5LAEmHy36oRoTWR5rXHAnXShYG+e3M7/5jwbUjSqEQdA5\n",
              "bhp0cREDcHK+TVb7Q38hVtpz55diJE5kGGFPN/UeyznTSz/o6EcUPRE806rUuALjAAACAAGfrmpC\n",
              "vwAAxFhMqkNTVQJmUtHvB6p0AsivXkIGsSZzBK6p/E5tYI2OVbYFwSdAXRz1pf3gAEK3mCQl/sy2\n",
              "2f/ORTLdO1+fJjZkEO+AmS8FoLbTT+kMpwzo2mINbgRibXxRxff9qHhK/vKNwDaLkc4aOfKhjGjX\n",
              "v/PhYM007lyW/++Swe6s+qRVJj0IqZEvUebr8EhvopJklWaFIhLLGOew7qjH07wI0GpR8UUcCvXO\n",
              "dqIqbMSJSUvbvMS+qaLxYXYS1IE9Ev3aorJzlc6J30llrNVBc6ECJMNT9tjDF5p6oF3WGzRbTmQ+\n",
              "mXIiqdC2QH7KC6qBvg8pZtbCZoWzPQuCtkhaPzq9vvzUhpiIwiP7tPU7ip9xkLjwF+V7oEv8VJoz\n",
              "s0t2zWjUqQdhPJxrgU8AJvgFOgWh+rOKqZTZHtJcAuFvpBZqa1Zd5DprzKSqCOfz2TNmzMSzKKBA\n",
              "Ezcdlosi8H2it3m9ao5wBCR5v/jM3PzpwyO72+31eqUa5KD+bSJ3U/ZqCdVFglNSm9mlFldO4wQD\n",
              "tT3t79DnAhlwFI78zB8iiNwVPd/AxCUp4VKpJoe3FYFAKRsQujQQOlMP7hBd0xQ+crAuhOGdxR7b\n",
              "9biHte4EQ9vOJ0C88UFxPV3mt5HQfGFNTrIuVFmxAn/+DgtNyThkN15B72YPkm04W4PBAAACKEGb\n",
              "sUnhDomUwUTDf/6nhAAA6IrO3wAB0uQ7YhnVTHMw8vbjlwSGUXvbZTM9S/jlBZeZLA3LWSoLX44L\n",
              "5niUm7hdzDeK22yjrgnoQ0mz/HEHXbgsK/kQQfFGZQGwMYBrYYsdlnPdhY62YnNRiO+a4MZKCPNX\n",
              "E8BYPtdoCzIrjuMEWTXikUWdKKs6JbeuSjTgbEp7vbgD6MgTnU7VXv9/g10DlHGSCjupD2R9tGAp\n",
              "i2blRbdkAiP6CzhhV0N8PSEKQXzZvx7enav0AOXY/a+p2cDHWvhUgGW5Uoh0sH6KZwQFGPLzYrBf\n",
              "R0F89cPGKpsoJgmVBux6gpYv7V+raGwEH/dyWgieNdsRmFfZC+B28SJcgKPtHfEbKyjeuSsnKzvl\n",
              "+Svk9CBN9zKEt142s8w5XwaDaNvv/B5gTFLNre4X2h1Bft3o7BqCifOqP2GtgRIaUY6Zt0P6JFYi\n",
              "mJvB+05Z1Fcnes9Kxb3aaJR99ANPvUehQshR90SrZhj+OIBGRjq8jhrIOdfAo+kEfujEVKV9/y7a\n",
              "eTGYrgQMh8xn9ngbzY5rh80W81Tf4Jaq1iHRGdFIDLRcsn1eOAHW4vCKSInrTcRX9s5Y0vZHbBqw\n",
              "i7psrcEIvjZRo3wcDhIs2teJjGZaEEyf/lTCpTsjRk4cDYR2UMaqNJBCFXqXMFoEQ7wOZHNIdwt4\n",
              "sV7C8MhD/FPqOGW+EDSvlYUBAa/mBhedlX+WFEhBtERtMM20cAAAAe8Bn9BqQr8AAL8zWyIwAjPz\n",
              "lO6gryi9slDIKjayi7Irfb06gMG/FAmAO8uw5JOI5sCStlrR3XEkMLHVD7/Z/eUK9C82sa4YsUKz\n",
              "Ycblwd4/Ya+UAp/W27Tp8wan0x0t5QD4UnecDEn1ZJHaD5/FFrGWcRexTwJzh41KV27O0jbf0Y+R\n",
              "0uIQnxciQ0Yl9A3A/E2ZzErO6lgxWgjRnMyjoiBC7JnONjCB9iV3zy41/PfrgjdG2WTbDOlRTrdw\n",
              "k784gw3oXgG6Q7IYCTW+moyBsgmFucv4h7b2WIXS6JCGOB79qWks4ccf2D5n7tWO8QO30SuCzgg9\n",
              "Jtpn3GhiC32/B30kzGPJxx65pJsfmiGazUNeS8DdAd1GVWoMJgP9uFFYR1U709PgUqJbgpb7F9x2\n",
              "0ia458zVRrAjbBKnhwkSfDZk2ktpFMYOoVWE5j6fTymic83PZZGrN/8IAtFvX3uio9KJRc7nFAEr\n",
              "igpzPTXL4KhLoqJ18pPT+LXr9ultGQcqBJ2tqpIEJiQGi51mjMMXe616m5OIfVama9+BUlT8v3PZ\n",
              "ZL6ZI18ru2S7qh2otCLP2vcukmmWYN/mfkcf/ZDV9xHZ8W6F1UG3dRlsczoLBHtT3Kul0bG8SxTk\n",
              "YkUGPO4fUEPOjnZ9ttkoxGs5VFzAdMAAAAN1QZvUSeEPJlMCG//+p4QAAOeDrysDpgALrlOV1QR8\n",
              "QVpES0wL/EnbAkRei8yQq9eSJhZWx9oXd9tGOWPiNuJpCpTLUv8Iv9ThXEl09whsrDXTpem4WAqj\n",
              "fnAG7R3k55fVPTSbQbp5igAAXuNHEzQxBxLB9X3toYW56fXrAQ2X82d3VlYC+nvv28xmTDS7BBtO\n",
              "He0/nxkV4g+jVjk+f1gHDmC4ygUfNFBwwJ8iFg6YI94u+0/4LGPp5Yq2VXw9ZzLsyYvoTVlhclr5\n",
              "+uiSJuxfSNISGDs+MQx5JDYi2DbOeXWZdj1nN4e8Cd1DJu7gErmSi4gE7bMz47wZnej5c7qAlR+r\n",
              "N408imrJaCeZ6V2MybrCLssNx28LTgWO23flXgYaxFwHCCqoLEytYACHiyniBvUbJ7ZVNUVLTqPt\n",
              "cjGVwttrJ6nPOShwHUQOD0AVQhc+JSsl0NHw6Y+0tJdRq/gH3KC1ehijZL+ux+aRm7KfWIUyEs+B\n",
              "yyfBu9EsRAV+bARxUFB1bE/5XgEXud0cQwpm5759//iJ539VyprcWIcPrGn8WA7gLWWrIEiutFTW\n",
              "JOaeuAUkfddBEEeKxZRBbWRPU+UCiyQUBsDK8fXPu/TdcjViQQ6DSlZmcr2QJzTK4m2wMqPsLX3h\n",
              "tfYWUrsPpc/+jxyLH9mruxVt7kqISqMncgEeAdK85g5tJJhTpRJa9uYWsGDZGpJBjR6QycNcobkA\n",
              "NlTFToX+NFcnllXemQUtomw9fXvqqkhj7zbW4Ef9dwrqN3O18VEE3XY0gVmdNwGOeKKDh5ZXn8dx\n",
              "rbcutO1o1Ln+HiqEWVETee8PSX9GGcChKzWRygbFXMSuJNbhQMVRcMdcuwj/ah5WsuN8h36n2Bgu\n",
              "SuY105jVHCLoGpVxtrrNfHRbeE/uBoaaY14juTdg1Y6rnFJCSWCEZMowTxGw0Gwl2WDiFR74uL2p\n",
              "MMrIJlNugswfjDouvH9f6R8N3tlq9M9EWoHV/shhYw/vYGke7mIHLgyjVgeBZqb2UA6gkCTfYuia\n",
              "f3eYLyZOKJ+Hx4GF9tAEXbhdv6IIDbh/HDuI9RIOQo4+mQ518J49oX2FQZYD1cg3UA2nkSule90r\n",
              "bOWKtDaytF0VskfFlLZKLvNkXv7Ct4+PTzFDdOVzhLYmQAJAGsQAoTLcOl9IpvfHi9d+AyAypLHz\n",
              "AAAB30Gf8kURPCv/AAC/WFPlioJiORMTrhaxAAOGqi4wa0zY5x34knZXTnQzfb1GdN2eIFdOjyIl\n",
              "730lk/qJ0QAj6kq+Sk75Yp/yDTh5kqA30FgM6eNO8Jt3veFHJvKOjsZKMLiX+qHQRqRqQnyXkZp7\n",
              "NpPBxrw9wrtSe0oVmV17YMwzD9PZRHli+KkQOOjIFe6idXdvnKhXJVcWNxF0XYbqK8l8gccq8adT\n",
              "ZkgUnZQRfZvWA3vWa9iQwXinPm5Rkb/Yiz5ykzEouiQHcLg+hEpZA56AjiW+RI1DGomfYBjNY+Pj\n",
              "2F56kkIECEnMM3yhjp8D6zBCyteL8UOU/ElxvmiooUfusV9rH+b4o5iKWUsJqN75y0ddV5uMobq6\n",
              "G6XYeajlt+oWGSgVVwnLi0ESVYNwIt9Tu7qyuU959Ks81Fa/A1p0W61CZH59xDAFC+qIrwKvQmE8\n",
              "ZhvLN1ZNPw6yiGlHE2mnoNcofadNvTX4HDHCH22cLHv5ENwSLq1niPaDMoBHoxmb//datI9P5a84\n",
              "UnjKrLjzS3bKUwjhb3f6BzWLUWZVPB8rW30CY+y+1iqX7JVxCmSJq+iWOovIiE1ECB4SnfqMBgKd\n",
              "bAKlRfh2OZqvvqXi3uqFYIKtDOwlfjFBmFFbAAABxAGeE2pCvwAAvzlClNv23eR7JKc8LigNcbuU\n",
              "r8lcd7wtV1oNWjMeFMa/kAIg8xDRbMEFkYjiI4lBfjs0UjGtEwr3B1OnJ3dJakx3XL4ed4UKDdLw\n",
              "gmje9URN/ZlEglWWD9flCpsgKqK9kVD5yCq1ChcNRhLZf31gbA/4ug+AJF8jAykjriRxeaBXliqp\n",
              "3morHxPeIEjEQ6aUjJ89/7atfYAvjOSViLrxHqP9uUNJAOBNjo1wyJvvA/Q3jm152TazxXas42PH\n",
              "wyNTsu7uw63O75sBIQs5yHOTe91sA7ZH2Mn57r/iUt4JiNTuYe4Qepm7Yp0Feg88WgUFvdkOUnuD\n",
              "N/fAokyRzWkBrpgFdQX0ptHDOQLCOVDpSDQdak1Y6MykXZYI/YM+lJyrG/BxSWvMMEmEUoQLNuzK\n",
              "oWGTjGpxwZ6j1BTjunn+JrOarnpZTNV9Q4zSZ6+FZcHc2fZqFoxoieSUIb+yqX1VHIFbQegh4zAu\n",
              "QLwAhMQIKM0MYiP9bTiOXbSMAXhp+qzfwntjIkmRdCynm/v++COpp0ofQ3vMPDJD1cK5UtGw8BW1\n",
              "wTZ1JHM51MKK3iH0xs6FLUzflhiX2LDNYJQeAAACpEGaFkmoQWiZTBTw3/6nhAAA42vfbIkWPgAU\n",
              "25d0tDVOh8277IsfyKyrlAX9bdSRn+IawkCyJP6spIFN5n2QDMsn98xYYgC1zSbI6ltZ+LQYC4jX\n",
              "ifORSF9u7EmtaszjcL2jrTaQNonDXpSvRphBGj+Bh9dvRFSeasz3Y5K+owIQK4zjpithoRiMWbKr\n",
              "D6KLMC9P73qqZ9DG2RfubxxIA+kQTBXVUsJhU8RyABhECgBRXHdoe1DrqZp2nkhKletIxNc4rEDt\n",
              "4E1D3S7MFpIiS0IphHb+3K7nRrre+1iMUP/EVdI8eLjKvgoSEpHasExg99WN00y/Kuu0aA18n6KZ\n",
              "NrrsrQBjvfysYqTrjiC49SwVMKWMwcexPIwTz8/QOQZ3x2WMysdMabqKLtqqqYojnzizQt1HIZNO\n",
              "cHjOtmHp+J8ez+Da6Me+Q2acCkg4NJyx5WwH0at0a9YpAqHz3bKlCLr5IA+29liMgVhDz5qdItEM\n",
              "PQFOZD/TM+NZHQVWmOY8dzDQK4iBpUFRcoTB/BS8NzOQyoXk7cK98dYUsnWvdnZdAPar5onMfUIs\n",
              "86zgOkHpx9FcTfE5J8My/XNEEg0o0iyPmL5/GbNrNXJH8k83iY2/7D32k16UV3DLKsB8cCu0DulR\n",
              "VpWeZ8MnTkoA2Hebe//MI9Y7D5bywXDhoqc+mOdv/1I19nR82ZBAiNkGnikNnRY71/EOGboOejeM\n",
              "zBNZdw1KeC8aH7piHwTtWhCxqTbJgLwSnIcMjq1MGvtXbJUc1TCYPnMchL3KlpUVQVuXge0hmjD0\n",
              "TFY91tBhP4JTi8lrQX97rvK9np381cZrURg5VdOU/+s1eGiQ/Ry5NTUHyGi8F/eUo1LQN0W7zXmT\n",
              "cHfdMmYbbZ0DbmhU9r8lx4dcFy866SEAAAHHAZ41akK/AAC/WBYL1+y0uX7p5ItnXzQR5vHEL9S0\n",
              "4SyVAB1uvflYEEY4+zYBz5v5Bf+Ryqivt+wO/GizkLqYVU64WEqxpmxX95Qf0XnEVHxkSAZENzUk\n",
              "3TGlpI/TWSTHzMpyraGF4NirpGcRFsrCp+496AIoU8//roHf3KLu6fClcopytmDtir34mYCtCvWJ\n",
              "+aFwXHMzbXX6WqcJrh/gj22DITtECirCsllZuXrael9f+LCASgakiIFQxZMquCoak14hDGtrr7Kf\n",
              "gN+7/l8b6K6/q5kb6LbjhBVofImjsBy9tQdgR4SSK0NquJVq5ROmbZ0MxU3IokD3AJpXhdLf8QtM\n",
              "oQakgSL4M+914byW0N8lXuVERZTTebQmIWCkSGrWyjet+VSaUOkUM2ZPKkg+mjeJ+DmRYNtKr5iP\n",
              "4UKuQrw3EXxmZ1xQr2MfFzCdJlnYHicL+BJ1dhAUkAwVSMBKzXnaMO/9kiRlPufSl7BM/GoGmWXx\n",
              "zJ3vo7vFUpFAlG23CVBC3ckOqltK7PmxOVHGb1ZXQC6gPXVKRoDIjTYP0npMb3FF39cM2RBZJcvT\n",
              "sljKHAcXzDTM3GQzfoxf+ThKDt0+x09ffwcAAAHfQZo4SeEKUmUwUsO//qmWAAB1PXNMPv7rR0bI\n",
              "F87Q+WUG4aKn/gJCcZuPcU/t7Rd9VMsOzUChe/ApAi71y0P8VBR1GuHA/IFUfovrdceJdiZ59quu\n",
              "x/5I7LsWxFdT1jzyf6pzfamhzBYVi4Apu5g8eRer5yU7UDNrwoSOZkJeJXgpfvL+69R0+P7Zlltx\n",
              "MouQ4HWNOfvbv37x81zLmNuzDIfMGIaqb4K/M0qTZFMJXF8D8JPw2v3w89LDOLSvNMiFrNlhGo83\n",
              "8oEah4L3aAgF6yX1AnpUj7J4NsDaQspKmiCmi/k55O1BzUY2iIYeBJhkw1eM7SjyY/0C91n9/UsX\n",
              "xudEh9FBy824aAi0G7ZX/g0Zev56C9QoMkmRwIZsUY3F9B+n6rioTn0En6U2w/sODgQfPNBRAPml\n",
              "+vFVVvvS3FrpP2Y66BU3YNv0x4Xj4LyaH/QzhQ0oOUCI8T3PSF00R7+ReOBuOmJcouyLKeZHYM+b\n",
              "0/drFh7d3M19ejFQ5O02jcdU9ucZHJhLAvBjmRsJn9Z+y1Kb8FVmsW5inLZIbFqiPkT60KHjvepn\n",
              "UO5ZUegGklUMIJjhkv6vCYrJuw3dnFMeY0KcvM2YK6ny8EeyWFkmBSuTGTKxCIgKldXgHVEAAAIs\n",
              "AZ5XakK/AAC/D/erjXPiKRf4FzfHljgqejHfvpv6+d+fmMPSwARB5iqBOJrf0+frml/T2f1CNHY3\n",
              "1SO3ujN4lx2qVwtBGW3lJ0OJdBPmggLLar5ix04tItxGkTpUPRZf1pf/cfixy6JZdDTqXEwYihBc\n",
              "QaD15K6RnFx03mtuWUYN0NG5yzXAiv/dWg9Vb+OdCaO9Y1FpVV5mvPq79iVv7YXt/zTo/u8MfNH0\n",
              "0AutE1Dq0+L9X4SY0mmcQLFqPHOy/iMsM8jgSAyENH0fJxNjsc5BTREGuNRplq3HfWuwJAu7lsMR\n",
              "rsf69nBimCdZ9SXjkS29QR43uUO4XbsyX7Qugf1Nqa4q5xdqnHBVlRRj0hCxInuGYEr357knfnFC\n",
              "X2B1gE9p5OTy2eKlomSTC38IVNOvUYOTEtxDCEmbvwKv0/WHHf9wAH/w0s2xWYLrU81C1yLYOK6E\n",
              "pz/0yVCLjqQn/7Q0urD6LSe3Nk+0aJyrWLUx8oIS7LeaB3lB07JAPr73yHmiwe8V/wkrfKLAT0IS\n",
              "IjiOpZ840N2+8e/ew23jYDJajf0tzIjfSnimagy9FmKutTL+4RNlaNKtGiP0ePxiJ0F8jt5zZ8Tt\n",
              "LY4hjBlTLrQ2IngmPkg05/ebFTNyFmbD2kGmQLfugnYA31mwzqjDsNLYRagsNrMApmswIokI3vBQ\n",
              "oMAZtLOR8kYElkvQNkhSD5sDItj1Uu7v1lvnHi30S3rfBnWI+oPhvBObMQAAAoZBmlxJ4Q6JlMCG\n",
              "//6nhAAA4gOjdhDVdyuOaNh5an3itQD+CEIcABT8Zn5tj36bw2WJrtJrYv/9eFio2Ms4wv/pBvZO\n",
              "G0A7J15ukdwrbEnOrjf1RE218p3jshub2VUXuZCb+QV+gcr/4SPfG7770Pn0et/Ij3y9Mvur8S1u\n",
              "7obAxY5IxsLXV6rKT6c0X8iaH8T5KWfsVpJPZZC0Kzs2eXF16DVFQ78I3YJ6oxcElFmIjzP4a0N/\n",
              "3ZG/Wo24je8b3r56Tz5V0hWWpODh4Gf75kuID1BI+51EaUl8LxS5JonELzhOYcCLioWnv/qNOPxQ\n",
              "QrovQfuXZD70dTx/6db6e1su3PRuUblsswFID+u/TvyVa7rFJicKmh5v53uzruxLkRqpq64VBsh2\n",
              "waLLRokrvSWWfFeoupe03dRJRNHiKSS35fVwKEzNVhRepnwS7wZpLwF9v2g9nsbK4sLcmxd0OZNm\n",
              "U+fFlKhRLL0M0EYBBjZjfCtHhxUgyCoOu/K6hTfQMfPklkTpp19KQrp2z9wxgND1NKBeCQp1LRGf\n",
              "Leada2T7NAwYd0EvE8qABO28YDxHtEGlZ89dQchuL6vXkNFnr5IkehvzpqUxpvVqZKpEeGeUm3Vf\n",
              "pPF/8WmGIWqEcTlU0b7dzOKegw6jlrKxOzk+LQXCmgdIgX48pjeKuwhPHjMDIc5BmSVkUQzgNzXU\n",
              "6i2kAewD+6yLGdb2AdP3nBEvZLSGXHQhQ60K56VmUHbc6QICvD3NxhbjzxkIY2X8uFjTf3HGkN8E\n",
              "rYL/KIPDlMGUGCok+55z7ViFlS8vL7kWb0otjt4/6sWaM6j98sT/thI0Uvo7brgL1psmwLUmriL4\n",
              "gP4Q6fHiNCmSAAABgkGeekUVPC//AACG5yUnHTk/GYuKOc7q9iDE2hLU6Lfe9eyMYPJMm69qb7Ub\n",
              "Vqt6Ux7/Q7AgAx+W2NcSTeeonqppaOe0mj2lJRO/nZYC26dKwaaDI3GC7mKE1Wl8b+4GeRiNyAmk\n",
              "UV0r+ZRI1EXiTMOtBRgdsJ/skderYBv5bIsYFL062hPtzNpczGECL1BMtrHdLw/Zq/fciUdyUS+s\n",
              "f9iuhvhyP96vaJFxx+ACtY6Mokerl5MgbT3EaY+xsK1BEq7iq+HAEi5iyHuFEqvLocd8ClizimXI\n",
              "kdE+86Hyet/8aMU0e4BqGeqfh9GCksZnA2PzNTeWvEdqr6ctuMFjOoLI1XuZfyraDW7LUJsnsH1R\n",
              "oqRIBaE1h0PV9gf+aFlQHuHVPUVxg18K2+Up6PUDeEZ3E3at10lUoawZNkhfkuTo9SJOIPSmFH1m\n",
              "2E8YbBB1vjoggL2fwpw1dJC0CnEmFNLRXbixr/LBRbrosqPGGyxEsVFPyA3ce5C963eZxpUpSAQt\n",
              "AAAB6gGemXRCvwAAukXDFo98B+9zrrn6hAQAumwsRv0poLZSNQDt2f1ptk4Ptd5PgVYAA7Q7kql0\n",
              "Z6BeouykwNJAyrpiyDpA+wzB7D3cwWukkBev07TI4jDutYwi7j4WUBCX6tPIjypScbueGfeLGtj2\n",
              "kQAzsCXMwzB/uUnIV9r5Ifad9DSmn8QzPy1Gl/jNYFOSLyry9bGTl5RSti9O4qkDAFvhbHQgFSgK\n",
              "KkHLNrtnojrr6eM+CAfDD85EkYaMrxXVjLJxxURHCpoj1H8d6gdaA3OY2zQEP50+7gG/Z9L0e9a2\n",
              "Euzvufonvg6nrqmE857dItujEkPFMI4NNartkUSQQkRtu57Nu0viaiICcm1AyE3/3hC2G07LbhAW\n",
              "7E7gHcu9h4xNiNK+/a54IccHQsuMdALIH2Jv2f7OVqhN4dTmeERpTEfEskYKIfDPIU6DYwB1XbDK\n",
              "TR0vDwvEtFcEDy0ZGa3fy3+lEPBgRGMGPA+dmVJ4DaKK21AUMY5r+qlLm9vyOXEJur09eaUbnNuP\n",
              "zJQRjxekQdN92BqNhNAATpYFLyN192Gq76bonvcFz7PU6/ERmK8rhqz4ElnDpDsOUBZSHpQ9DEJT\n",
              "TUbCHu5SC5DcKWzanhlGrGS5Z8V/5Z2J4MOmWVl4h8MvBJqo64AAAAKrAZ6bakK/AAC9Dr4Gv0eA\n",
              "EqSVSTIFj0YJ5+//Pcz/Tcnp605qPJOOVmVADY1ZMEuoHezV1rVsM4jYi7uQ2+mE9ND403iTh6lf\n",
              "vv20X8zTXNz+BFzVvQ1w/YfB5ZARmvyuu1E9jrBXgzmgoQILryGhZIXG6TkVFgueVovHkjrgdmuT\n",
              "jvutuB208IE7DBW4Gdea7V6lLtLMKg4B4OxhK8IG9ewfL5fV5JsDZL1f2K9BqimzIBlU9dML6wcR\n",
              "ifD1BuF5KVUHdwZ9nTUAQVqbT5yQoxMVDXgW6Ns90S40XlqyechgKs9i0Hid/uvWHFptoJ+3AHLw\n",
              "ee9GXqwure6h/AT+F5f/y62ZNOzv7dSWoKjBfvoD62tJ0Jr+RHeRZCWqGzqYEM07ckPt36GZa+yD\n",
              "DzsOy+wukQYuUxVO35co6wfUqtn1VKhqD5fgXUCMLFn8lSvOmJ8Jkx16s3EgEsAJKfrBaksHIsXL\n",
              "dXZJWPz5mpZJZgdNGDQwM7il/culgQWLZIB+QDz4z3ipMmrZ+Ihvq8lOAPJa2erCKZ8WXwvge8s8\n",
              "6L3Xh7ku80vr4HxIHw0zaT6ggcYBCLRCy6upFY/MUdeD9uDbLrxQk7fSo2aYH9PpkuIDIpzcmRBO\n",
              "d5aEeBE+agYp5IM+bn7xmuXAMf6iIoN33q3cKM4Yj+b06sIk3+8PukL1zd51QGIKmFgVUpGGuCnh\n",
              "0cM0AIi3IRRa/u/F41uLvEQreHok5/YzrxufllGc9ntTGDj89Nkk2Hh41FG92vWbgqaamRy7mKF/\n",
              "T5TLtkol0ngbszDJWDznsxggiB/zr1uav3+/iQgZr1D600aif+Vbq0sfcOJnZdU6N93up9jVP6VW\n",
              "lRSa9Ncx4orVwYjAvTG95E0NVTEw4BFSD3v1zHxJ8kHcCG53ipINnpEAAALKQZqASahBaJlMCGf/\n",
              "/p4QAAONrn9gJR1NAAIOPL9oR8QRpubabTbh1YrwUAxfAxHqda7/dcF6paM6yz+fCwVGTwzkGki0\n",
              "IKevUxi4pogz5eTy9LD3MwwcKxjuBg4xzeAjwuL/svrToihSp9nx3lgDgotVlddd16FsLd6l+LPX\n",
              "0qJp8octX+AlBYrA/+7xHGZJV1Cc4WxASTudD40O5B4YyP40pcn+exydlhdAj+pL1E2dmW8LqLnu\n",
              "fl2Dcys0EW7PvFrWw3QT/AcPYT9ljFxEVIVSHjkrLMLXNS/xhr1ke4rcuX4EKuxDsJYAJm6Axdn7\n",
              "Yy5NnMMzJSSnjQubfERj7vkaoyM0S6d1D7SZxukEhApz5XU6rSqNOT1A6zaMMaMW7XPUtcHT6O9I\n",
              "6gVMDwYLX/QAWDn6yQkPv0oCFdcoCFgsI9lDMCY9LGLIrlBRx0RPz4nlDgCbgY0I3PrCjDZfjJyx\n",
              "XkciZRTxA7yEjM2kew7AyZjKNThkZA1TYEe6adVX+tsxF5wPWKzocvHvPnGTmMb5t3i//TWlLwPU\n",
              "LzqUgj6krbOlzn68P6eZ6VcBmgAd4kEzbnHG3DkSgD/P430ilt5DN45rZEUS0CqAP6t1fWjFs77w\n",
              "tL8COWbdh5j5K2Pjbyua+ioMWBPPgUWfpsVr6jfTEf00T98/gmRhIcgkFQai8Fia9XAcJ9vvJtGB\n",
              "PfSCiisK/Kj7MR+pwjA3dNSZK8vv+wgCAmqPY9gsGqGifu/Ao8XuMy7u7FDSKIIWK2NrUmXvGfAn\n",
              "0Cu1cmtKaOZy90mfe4h0fyNNu0toMecH8i3E+Rq7qbCq9pDEh9wi7osnI+m40bM5rAEZjwndpGqq\n",
              "7V5X4sD7EMV8WGjAGqj5BTY8fwXKw4uCOq9/oNUAkb5BS+Q+ILh0XLQbtoOFejsHrs2lr92suDzd\n",
              "m0pJ1etZDOl0HCbN44XFbk0xAAACIEGevkURLC//AACK47qEIAFTii9CRHfdvenEKH9B5Pxt3fmw\n",
              "otSnaJq8qP1mv/CEDg2ECK0ZB5+kviP2n4uQX3eukxhaCGcuWHuxz98B429YKHJsLttU7YukXk/z\n",
              "6npPanAyhQD5Z5iaKDrtGmQUPm/LVWDS5n4p8CMGgvD0jpxCMWk98qbr8d9jshXPOcjXL4zqqy5H\n",
              "EIo9TD5Q6aYg+33n2mKKYIM1PYxg0ilNhoP0GnsjOXiYECKN0Qf3fc9PQInBIejaJyMDzBq83hNh\n",
              "0TTMdoKioi0derTUnzDCL8pgonsxAerd/9ZnTVCTIRl68RBnqDbLJjwqVNQiHYqQ2Ssu+XS7oPH6\n",
              "n7PjuAg99xp94yucZZBxOvhLEnvPi3IxHA2KUtkIE0qgjtUPE1QJIo4DseWJ/OZG+gS8bqlCsGC7\n",
              "bBJNfhtZcHsreYyk5y4ZM1hlpMOaaWlP0KFzqC1d0Wb5C/bRq/gKX/BQT4HQHgEpnSS1EKxMhQKB\n",
              "q/7cCIG1olISEA/L3yM4ze69HEFyznnEFSa1Y8Il+En8LBwKfUfRkjD2EtMxTqT+phNJ6FxIW/zR\n",
              "IjfAoJyHwKctLRjkkT12+8CqVOm3YwBA0359VXrm0IrZt8S2wqPMitjf58ZTNhYG8N9bjUxG6LNG\n",
              "v9hNt6MwLWjpczPIDzfgdsEoURy+QodKcn6hUgEjKNHFtVl/yMros/9sPtlJnefL62kk6XgAAAHx\n",
              "AZ7ddEK/AAC+/swi5vy3SSaoRMPgjcwEaz0AIDQLocvYxpP3a7wSuj/+OnIFbGT7vcmPNOglw8WP\n",
              "r1qIGlmjv+ffOGG+3mHJyNcrmp468LkkcS4oVy7YUYp39g38Crzx7sDAW7mLQNZa7N+SYr7RxFzp\n",
              "5pxna2by1lwsiAFV6ld9gLbUzFLZV7JyiJC9XAzrLYbpGkRC2satfxWMI396SHhgpU7ehRpSoxZc\n",
              "QecDeLcy3482EIqbNjf+BYz1PCez4YZ5myM+WL0wFIL4lOz/uLQPrIDVK2xbosa8T/1iNR17B0Tb\n",
              "eppy9nBjqPA+AUnA1jA2ZM0NtgSF73FokWeBoPQIkdCOZyH+eYATQxEk/mEVWclvjXiqlY1XRSwd\n",
              "y9dm7ohdVXyd4QHHrX+ysFOP7N9XV4VVBeTlViz3c4yAY4fz9FTSmdhCWgGnNLA291NUa91SEqQ5\n",
              "P9JPbxy3Hvub37tsOPPNo+lnNh+UYw62vSEWfkaSZNus7qRQaZ/Sd22UAFBKskMr06U9okXpf0N0\n",
              "TqymQQ7T1mG5Sni9u+XWnqxxIm8pjWdlk15dqxxGcs7itdPCdCVBljhFIUC5O1+esGDE/sc2DtBg\n",
              "CbtOLrQtKALg+ZMpa2c4Dw7+3rPbSr+c85r6ctSebx8DZkSfwgfQqaAAAAHVAZ7fakK/AADB53sS\n",
              "sLVhFnWzGEjlWYAOtAJWaDcU0ar5QNlfb9CfHPH6MFj1m5cLFbWLqseX3pdpuWjWd6fCf+U7Ex/u\n",
              "FqWUncBDEk9wknHP8AX7SD1YW17ZSyV9aVEmolEmvJYMXSKB7g47fGJsydRs9819pnEJFgK/JtD5\n",
              "rG7ZB1M3GcmaxHbJih6zTvifL/oq3chDr0NeXIL/xaTNwcwnQ11xbAztd8i9wsMn1ptcR2lupjaT\n",
              "fHMDyBT+yW5o++PZOrtVnyNy6zOSZRruVxd4YU/gqRCb3Y4M2IZFETuupVEcxRpn6NithpxHnBSQ\n",
              "OdpeboEJIxxeERWGYKh5xyIuTiCx6MNx/F3SbcoP/8ikrM39CmheM9D5mxgiiUeXTgBj7CG+yyW7\n",
              "ngvqT9gLqQjN8ELRs9ZqACy0WlvHVzOZ2eRPFdSnvC5GVgChm73YdSrDjGTjnxsWw22su1IrQcJf\n",
              "JpV9hEMLsHq56X8UMeNnzLJ9jAu57AVqWkOQ/YG2GjCjlpVND5B6MsKTxdN8Ov4PnoKZpFDK7KDC\n",
              "glVq5Zh30bCADgO161Xg9e56Jy7UoK+4HYd1skzacHu2BaXUXzlqeHhUH1MufDyKIPCQNgpBEcAl\n",
              "4QAAAblBmsJJqEFsmUwUTC///oywAAN5ejGQpRXM5E8pABTOrzsz8MRvBMh/tBMfzG0ac6v7kqci\n",
              "bJ24Dk+pCcERPS0TgJq0FuwViP23dWDEzLQpXz8S+15F9znIQHEU55aMYRc3xB9wnGRx1OpAOeIT\n",
              "4jRVCCDt964b0TiTVQBFnx9oNw67JRHqXwsiLQ9h/D6HAKh+3wV/NL7lIMpgj7o3nd8UdlJFiU40\n",
              "/wRuD1VP2h7UV6zdZezcmk8YYGG9btMeKSa6MhLc/VvA7doz+ask5OXiSdl7UqmWEo30v0+rUux2\n",
              "pPpMzDp6jE0iTpFGLlrnOn6AN1Iz9ph7aAPAQxeRovHxDn3PmMG0O52lNH8Fq2yrz0/zijjW5myx\n",
              "K8Uk/wcgamZJlYGkyKe8r6p+scurWstZkRVbIw5EcFsyGVEpeimmqSzRXVpGUx1AQy6nyyHA3ZbQ\n",
              "yDMF9YMJlfGY9q96iSsEhn1JnbQBBRzH8nvSWjltqbY/0AXLcpuPWqfa56TI4ievooCh3PdHxPRk\n",
              "bvozKypowdiMDkZT3+xiSUmUJbVx9+tQ50vLJr9qyzPkrDyEQMM84iufapU0eqQAAAHLAZ7hakK/\n",
              "AAC85WAFOdIkieMQQfE4E+Q2ikf7MLvzGABDhx7cvIw5wbn8CE4s6/yzyCEKx9T7s9J5A8/+E/PO\n",
              "8TSFqf5EL1CPTWfcwUKfkSadvOkWc73OIOKpR26ZHpk68aMU6KNRbzE17Lk5nT48R9wCkM9tO5qy\n",
              "4KPv3rbuY0uXAk9jXk/RcZXR5tFTfeSDceQJZTLAlK4rkuEZbysh4eQloLrjJGQxYyzu6HSSp2t/\n",
              "TvWgSjjoSvHVegkU41V8xtAfT/fMwC5b97smxB59FO6yZzHB7rTI8N4bB93BH30e/p5/Ty/r8Wbx\n",
              "cFOB6fv3TkgR1MqkKI8p5peDBTjK4I9Grk/2bMZQbj709uThjd2mDPVEp7Qsnve/fY4SdmpHgkHN\n",
              "Djz0maWYSa8ErKWSpPDqZaREXERvRLiKz0JGWJf0isQAX98c/VijNoCMSBki3u5+UpCz0KfLbS2i\n",
              "D76QXvglM6tBGG5Xquw+hVGaapBFVK5p+nXQs0tjQLyZvso3h4riqH2WExxfGHI9B9bYfQpkzK34\n",
              "1NnOb0u9EtHJZt+S5c6szcPL/7ejp31q5JAEu98Q4AJYiNAkBsIWtciJM4g5jgi/Po0Q8g1JAAAB\n",
              "pEGa40nhClJlMCFf/jhAAAUj2s6kjtfUq3t2dCliifdYNJYzX5wds1DJ0Vd2DvwJvJrHE5mO2nQA\n",
              "bxab3MTxqdc/4n4SH76w4i5f4XmRIpRA8+qumncMajt4Wz/o9btVokx40Jj/y1mWp4LCBcju0fe0\n",
              "s+x1a75wupbFgEzkay6P50Q/7CCNW1JeHRI/jByksiEEB/LUw/rWnEzC+FJhl+0i1rcPpraXiBK/\n",
              "aHlawj7xSPhyckmy3RDKu3KSeU7P/MOdzMUCFuTGPw2tte7IUHTjfYMJWYj+bNOF7ctaB/KTTahj\n",
              "hjplGjmaXyzyNyDQ4OmgCEb21P+nGYurSyTZ95gkGYlfUKx92WwY6qlt/N3ZESQuAu5Xot6iCgzf\n",
              "4MdYSvF3d+Nf4n0IDaDkDSqZ5GcgQOSp/17sTVgLeNm1Vd01g0QfYBKtxHVMP21LOGGt8FDot/LD\n",
              "G05WSowY2r2BO8fVNW60SXnRyPvKgxx3ubRrKZOlx9iaPlt896Vx21Tx2S31QXZL4FhLHleQ2cqa\n",
              "Ihe/YziWqbAkNR17P/Db2Sogp5BJwAAAB7Jtb292AAAAbG12aGQAAAAAAAAAAAAAAAAAAAPoAAAP\n",
              "oAABAAABAAAAAAAAAAAAAAAAAQAAAAAAAAAAAAAAAAAAAAEAAAAAAAAAAAAAAAAAAEAAAAAAAAAA\n",
              "AAAAAAAAAAAAAAAAAAAAAAAAAAAAAAACAAAG3HRyYWsAAABcdGtoZAAAAAMAAAAAAAAAAAAAAAEA\n",
              "AAAAAAAPoAAAAAAAAAAAAAAAAAAAAAAAAQAAAAAAAAAAAAAAAAAAAAEAAAAAAAAAAAAAAAAAAEAA\n",
              "AAACgAAAAeAAAAAAACRlZHRzAAAAHGVsc3QAAAAAAAAAAQAAD6AAAAQAAAEAAAAABlRtZGlhAAAA\n",
              "IG1kaGQAAAAAAAAAAAAAAAAAADIAAADIAFXEAAAAAAAtaGRscgAAAAAAAAAAdmlkZQAAAAAAAAAA\n",
              "AAAAAFZpZGVvSGFuZGxlcgAAAAX/bWluZgAAABR2bWhkAAAAAQAAAAAAAAAAAAAAJGRpbmYAAAAc\n",
              "ZHJlZgAAAAAAAAABAAAADHVybCAAAAABAAAFv3N0YmwAAAC3c3RzZAAAAAAAAAABAAAAp2F2YzEA\n",
              "AAAAAAAAAQAAAAAAAAAAAAAAAAAAAAACgAHgAEgAAABIAAAAAAAAAAEAAAAAAAAAAAAAAAAAAAAA\n",
              "AAAAAAAAAAAAAAAAAAAAAAAY//8AAAA1YXZjQwFkAB7/4QAYZ2QAHqzZQKA9oQAAAwABAAADADIP\n",
              "Fi2WAQAGaOvjyyLA/fj4AAAAABx1dWlka2hA8l8kT8W6OaUbzwMj8wAAAAAAAAAYc3R0cwAAAAAA\n",
              "AAABAAAAZAAAAgAAAAAUc3RzcwAAAAAAAAABAAAAAQAAAwBjdHRzAAAAAAAAAF4AAAABAAAEAAAA\n",
              "AAEAAAgAAAAAAgAAAgAAAAABAAAKAAAAAAEAAAQAAAAAAQAAAAAAAAABAAACAAAAAAEAAAoAAAAA\n",
              "AQAABAAAAAABAAAAAAAAAAEAAAIAAAAAAQAACgAAAAABAAAEAAAAAAEAAAAAAAAAAQAAAgAAAAAB\n",
              "AAAKAAAAAAEAAAQAAAAAAQAAAAAAAAABAAACAAAAAAIAAAQAAAAAAQAABgAAAAABAAACAAAAAAEA\n",
              "AAoAAAAAAQAABAAAAAABAAAAAAAAAAEAAAIAAAAAAQAABAAAAAABAAAKAAAAAAEAAAQAAAAAAQAA\n",
              "AAAAAAABAAACAAAAAAEAAAYAAAAAAQAAAgAAAAABAAAKAAAAAAEAAAQAAAAAAQAAAAAAAAABAAAC\n",
              "AAAAAAEAAAoAAAAAAQAABAAAAAABAAAAAAAAAAEAAAIAAAAAAQAACAAAAAACAAACAAAAAAEAAAQA\n",
              "AAAAAQAACAAAAAACAAACAAAAAAEAAAoAAAAAAQAABAAAAAABAAAAAAAAAAEAAAIAAAAAAQAACgAA\n",
              "AAABAAAEAAAAAAEAAAAAAAAAAQAAAgAAAAABAAAGAAAAAAEAAAIAAAAAAQAABgAAAAABAAACAAAA\n",
              "AAEAAAoAAAAAAQAABAAAAAABAAAAAAAAAAEAAAIAAAAAAQAACAAAAAACAAACAAAAAAEAAAoAAAAA\n",
              "AQAABAAAAAABAAAAAAAAAAEAAAIAAAAAAQAACgAAAAABAAAEAAAAAAEAAAAAAAAAAQAAAgAAAAAB\n",
              "AAAEAAAAAAEAAAYAAAAAAQAAAgAAAAABAAAGAAAAAAEAAAIAAAAAAQAACAAAAAACAAACAAAAAAEA\n",
              "AAYAAAAAAQAAAgAAAAABAAAGAAAAAAEAAAIAAAAAAQAACgAAAAABAAAEAAAAAAEAAAAAAAAAAQAA\n",
              "AgAAAAABAAAKAAAAAAEAAAQAAAAAAQAAAAAAAAABAAACAAAAAAEAAAYAAAAAAQAAAgAAAAABAAAE\n",
              "AAAAABxzdHNjAAAAAAAAAAEAAAABAAAAZAAAAAEAAAGkc3RzegAAAAAAAAAAAAAAZAAACrgAAAT+\n",
              "AAAB5gAAAq4AAANXAAACJwAAAT8AAAHzAAACLwAAApgAAAH1AAABzAAAA7UAAAIrAAAClAAAAlQA\n",
              "AALUAAACNwAAAiAAAAKpAAAC0QAAApUAAAL5AAACBAAAAcEAAAI9AAABxQAAAqcAAALaAAAC6QAA\n",
              "AmwAAAGMAAACMgAAAh0AAAGbAAACeAAAAr8AAAHqAAABrgAAAcsAAAEvAAADBQAAAhAAAALrAAAC\n",
              "JwAAAdcAAAMLAAAC6gAAAe0AAALkAAADsgAAAgoAAAFBAAACIwAAAuIAAAJ9AAACpgAAAgwAAAL4\n",
              "AAAB5wAAAoIAAAJGAAAB7wAAAlQAAAJcAAAB3AAAAwsAAAGnAAACnAAAAnIAAAKeAAADBQAAAjAA\n",
              "AAG/AAABswAAAjcAAAMFAAACAQAAAwUAAAIEAAACLAAAAfMAAAN5AAAB4wAAAcgAAAKoAAABywAA\n",
              "AeMAAAIwAAACigAAAYYAAAHuAAACrwAAAs4AAAIkAAAB9QAAAdkAAAG9AAABzwAAAagAAAAUc3Rj\n",
              "bwAAAAAAAAABAAAAMAAAAGJ1ZHRhAAAAWm1ldGEAAAAAAAAAIWhkbHIAAAAAAAAAAG1kaXJhcHBs\n",
              "AAAAAAAAAAAAAAAALWlsc3QAAAAlqXRvbwAAAB1kYXRhAAAAAQAAAABMYXZmNTguNzYuMTAw\n",
              "\">\n",
              "  Your browser does not support the video tag.\n",
              "</video>"
            ]
          },
          "metadata": {},
          "execution_count": 18
        },
        {
          "output_type": "display_data",
          "data": {
            "text/plain": [
              "<Figure size 640x480 with 1 Axes>"
            ],
            "image/png": "[encoded data removed]"
          },
          "metadata": {}
        }
      ],
      "source": [
        "spike_data = spikegen.rate(data_it, num_steps=num_steps, gain=0.25)\n",
        "\n",
        "spike_data_sample2 = spike_data[:, 1, 0]\n",
        "fig, ax = plt.subplots()\n",
        "anim = splt.animator(spike_data_sample2, fig, ax)\n",
        "HTML(anim.to_html5_video())"
      ]
    },
    {
      "cell_type": "code",
      "execution_count": null,
      "metadata": {
        "id": "dicJdyG2obY5",
        "pycharm": {
          "name": "#%%\n"
        }
      },
      "outputs": [],
      "source": [
        "# Uncomment for optional save\n",
        "# anim.save(\"spike_mnist_test2.mp4\")"
      ]
    },
    {
      "cell_type": "markdown",
      "metadata": {
        "id": "JgPZBNIaobY5"
      },
      "source": [
        "Now average the spikes out over time and reconstruct the input images."
      ]
    },
    {
      "cell_type": "code",
      "execution_count": 19,
      "metadata": {
        "id": "e4ikMCQLobY6",
        "pycharm": {
          "name": "#%%\n"
        },
        "outputId": "1720ff26-ea9a-4310-8975-50935976fff2",
        "colab": {
          "base_uri": "https://localhost:8080/",
          "height": 284
        }
      },
      "outputs": [
        {
          "output_type": "display_data",
          "data": {
            "text/plain": [
              "<Figure size 640x480 with 2 Axes>"
            ],
            "image/png": "[encoded data removed]"
          },
          "metadata": {}
        }
      ],
      "source": [
        "plt.figure(facecolor=\"w\")\n",
        "plt.subplot(1,2,1)\n",
        "plt.imshow(spike_data_sample.mean(axis=0).reshape((28,-1)).cpu(), cmap='binary')\n",
        "plt.axis('off')\n",
        "plt.title('Gain = 1')\n",
        "\n",
        "plt.subplot(1,2,2)\n",
        "plt.imshow(spike_data_sample2.mean(axis=0).reshape((28,-1)).cpu(), cmap='binary')\n",
        "plt.axis('off')\n",
        "plt.title('Gain = 0.25')\n",
        "\n",
        "plt.show()"
      ]
    },
    {
      "cell_type": "markdown",
      "metadata": {
        "id": "6bbbI1o2obY7",
        "pycharm": {
          "name": "#%% md\n"
        }
      },
      "source": [
        "The case where `gain=0.25` is lighter than where `gain=1`, as spiking probability has been reduced by a factor of $\\times 4$."
      ]
    },
    {
      "cell_type": "markdown",
      "metadata": {
        "id": "WpfpKe3zobY8",
        "pycharm": {
          "name": "#%% md\n"
        }
      },
      "source": [
        "#### 2.2.2 Raster Plots\n",
        "Alternatively, we can generate a raster plot of an input sample. This requires reshaping the sample into a 2-D tensor, where 'time' is the first dimension. Pass this sample into the function `spikeplot.raster`."
      ]
    },
    {
      "cell_type": "code",
      "execution_count": 20,
      "metadata": {
        "id": "KCpsLPySobY8",
        "pycharm": {
          "name": "#%%\n"
        },
        "outputId": "564a29d2-4dd9-4c37-d3de-eac3281bcd01",
        "colab": {
          "base_uri": "https://localhost:8080/",
          "height": 487
        }
      },
      "outputs": [
        {
          "output_type": "display_data",
          "data": {
            "text/plain": [
              "<Figure size 1000x500 with 1 Axes>"
            ],
            "image/png": "[encoded data removed]"
          },
          "metadata": {}
        }
      ],
      "source": [
        "# Reshape\n",
        "spike_data_sample2 = spike_data_sample2.reshape((num_steps, -1))\n",
        "\n",
        "# raster plot\n",
        "fig = plt.figure(facecolor=\"w\", figsize=(10, 5))\n",
        "ax = fig.add_subplot(111)\n",
        "splt.raster(spike_data_sample2, ax, s=1.5, c=\"black\")\n",
        "\n",
        "plt.title(\"Input Layer\")\n",
        "plt.xlabel(\"Time step\")\n",
        "plt.ylabel(\"Neuron Number\")\n",
        "plt.show()"
      ]
    },
    {
      "cell_type": "markdown",
      "metadata": {
        "id": "WvhIdrAZobY9",
        "pycharm": {
          "name": "#%% md\n"
        }
      },
      "source": [
        "The following code snippet shows how to index into one single neuron.\n",
        "Depending on the input data, you may need to try\n",
        "a few different neurons between 0 & 784 before finding one that\n",
        "spikes."
      ]
    },
    {
      "cell_type": "code",
      "execution_count": 21,
      "metadata": {
        "id": "R3kY3uoOobY9",
        "pycharm": {
          "name": "#%%\n"
        },
        "outputId": "100c2ae2-de74-4e15-f106-71c4d3d63c80",
        "colab": {
          "base_uri": "https://localhost:8080/",
          "height": 179
        }
      },
      "outputs": [
        {
          "output_type": "display_data",
          "data": {
            "text/plain": [
              "<Figure size 800x100 with 1 Axes>"
            ],
            "image/png": "[encoded data removed]"
          },
          "metadata": {}
        }
      ],
      "source": [
        "idx = 210  # index into 210th neuron\n",
        "\n",
        "fig = plt.figure(facecolor=\"w\", figsize=(8, 1))\n",
        "ax = fig.add_subplot(111)\n",
        "\n",
        "splt.raster(spike_data_sample.reshape(num_steps, -1)[:, idx].unsqueeze(1), ax, s=100, c=\"black\", marker=\"|\")\n",
        "\n",
        "plt.title(\"Input Neuron\")\n",
        "plt.xlabel(\"Time step\")\n",
        "plt.yticks([])\n",
        "plt.show()"
      ]
    },
    {
      "cell_type": "markdown",
      "metadata": {
        "id": "1lxp91nlobY-",
        "pycharm": {
          "name": "#%% md\n"
        }
      },
      "source": [
        "#### 2.2.3 Summary of Rate Coding\n",
        "The idea of rate coding is actually quite controversial. Although we are fairly confident rate coding takes place at our sensory periphery, we are not convinced that the cortex globally encodes information as spike rates. A couple of compelling reasons why include:\n",
        "\n",
        "*   **Power Consumption:** Nature optimised for efficiency. Multiple spikes are needed to achieve any sort of task, and each spike consumes power. In fact, [Olshausen and Field's work in \"What is the other 85% of V1 doing?\"](http://www.rctn.org/bruno/papers/V1-chapter.pdf) demonstrates that rate-coding can only explain, at most, the activity of 15% of neurons in the primary visual cortex (V1). It is unlikely to be the only mechanism within the brain, which is both resource-constrained and highly efficient.\n",
        "\n",
        "\n",
        "*   **Reaction Response Times:** We know that the reaction time of a human is roughly around 250ms. If the average firing rate of a neuron in the human brain is on the order of 10Hz, then we can only process about 2 spikes within our reaction timescale.\n",
        "\n",
        "So why, then, might we use rate codes if they are not optimal for power efficiency or latency? Even if our brain doesn't process data as a rate, we are fairly sure that our biological sensors do. The power/latency disadvantages are partially offset by showing huge noise robustness: it's fine if some of the spikes fail to generate, because there will be plenty more where they came from.\n",
        "\n",
        "Additionally, you may have heard of the [Hebbian mantra of \"neurons that fire together, wire together\"](https://doi.org/10.2307/1418888). If there is plenty of spiking, this may suggest there is plenty of learning. In some cases where training SNNs proves to be challenging, encouraging more firing via a rate code is one possible solution.\n",
        "\n",
        "Rate coding is almost certainly working in conjunction with other encoding schemes in the brain. We will consider these other encoding mechanisms in the following sections.\n",
        "This covers the `spikegen.rate` function. Further information [can be found in the documentation here](https://snntorch.readthedocs.io/en/latest/snntorch.spikegen.html).\n",
        "\n"
      ]
    },
    {
      "cell_type": "markdown",
      "metadata": {
        "id": "enzqRvuNobY-",
        "pycharm": {
          "name": "#%% md\n"
        }
      },
      "source": [
        "### 2.3 Latency Coding of MNIST\n",
        "Temporal codes capture information about the precise firing time of neurons; a single spike carries much more meaning than in rate codes which rely on firing frequency. While this opens up more susceptibility to noise, it can also decrease the power consumed by the hardware running SNN algorithms by orders of magnitude.\n",
        "\n",
        "`spikegen.latency` is a function that allows each input to fire at most **once** during the full time sweep.\n",
        "Features closer to `1` will fire earlier and features closer to `0` will fire later. I.e., in our MNIST case, bright pixels will fire earlier and dark pixels will fire later.\n",
        "\n",
        "The following block derives how this works. If you've forgotten circuit theory and/or the math means nothing to you, then don't worry! All that matters is: **big** input means **fast** spike; **small** input means **late** spike.\n"
      ]
    },
    {
      "cell_type": "markdown",
      "metadata": {
        "id": "d5yZdcX4So-W"
      },
      "source": [
        "---\n",
        "**Optional: Derivation of Latency Code Mechanism**\n",
        "\n",
        "By default, spike timing is calculated by treating the input feature as the current injection $I_{in}$ into an RC circuit. This current moves charge onto the capacitor, which increases $V(t)$. We assume that there is a trigger voltage, $V_{thr}$, which once reached, generates a spike. The question then becomes: *for a given input current (and equivalently, input feature), how long does it take for a spike to be generated?*\n",
        "\n",
        "Starting with Kirchhoff's current law, $I_{in} = I_R + I_C$, the rest of the derivation leads us to a logarithmic relationship between time and the input.\n",
        "\n",
        "<center>\n",
        "<img src='https://github.com/jeshraghian/snntorch/blob/master/docs/_static/img/examples/tutorial1/1_2_4_latencyrc.png?raw=true' width=\"600\">\n",
        "</center>\n",
        "\n",
        "---"
      ]
    },
    {
      "cell_type": "markdown",
      "metadata": {
        "id": "DqJlK7AhjGHw"
      },
      "source": [
        "The following function uses the above result to convert a feature of intensity $X_{ij}\\in [0,1]$ into a latency coded response $L_{ij}$."
      ]
    },
    {
      "cell_type": "code",
      "execution_count": 22,
      "metadata": {
        "id": "J06UgGHKTkea"
      },
      "outputs": [],
      "source": [
        "def convert_to_time(data, tau=5, threshold=0.01):\n",
        "  spike_time = tau * torch.log(data / (data - threshold))\n",
        "  return spike_time"
      ]
    },
    {
      "cell_type": "markdown",
      "metadata": {
        "id": "voBg5kujkGFQ"
      },
      "source": [
        "Now, use the above function to visualize the relationship between input feature intensity and its corresponding spike time.\n"
      ]
    },
    {
      "cell_type": "code",
      "execution_count": 23,
      "metadata": {
        "id": "52PwqfpKkK-I",
        "outputId": "9d78b986-4979-446c-c8a7-ced35a15d005",
        "colab": {
          "base_uri": "https://localhost:8080/",
          "height": 449
        }
      },
      "outputs": [
        {
          "output_type": "display_data",
          "data": {
            "text/plain": [
              "<Figure size 640x480 with 1 Axes>"
            ],
            "image/png": "[encoded data removed]"
          },
          "metadata": {}
        }
      ],
      "source": [
        "raw_input = torch.arange(0, 5, 0.05) # tensor from 0 to 5\n",
        "spike_times = convert_to_time(raw_input)\n",
        "\n",
        "plt.plot(raw_input, spike_times)\n",
        "plt.xlabel('Input Value')\n",
        "plt.ylabel('Spike Time (s)')\n",
        "plt.show()"
      ]
    },
    {
      "cell_type": "markdown",
      "metadata": {
        "id": "P972FBhmluv3"
      },
      "source": [
        "The smaller the value, the later the spike occurs with exponential dependence.\n",
        "\n",
        "The vector `spike_times` contains the time at which spikes are triggered, rather than a sparse tensor that contains the spikes themselves (1's and 0's).\n",
        "When running an SNN simulation, we need the 1/0 representation to obtain all of the advantages of using spikes.\n",
        "This whole process can be automated using `spikegen.latency`, where we pass a minibatch from the MNIST dataset in `data_it`:"
      ]
    },
    {
      "cell_type": "code",
      "execution_count": 24,
      "metadata": {
        "id": "m835u23QobY-",
        "pycharm": {
          "name": "#%%\n"
        }
      },
      "outputs": [],
      "source": [
        "spike_data = spikegen.latency(data_it, num_steps=100, tau=5, threshold=0.01)"
      ]
    },
    {
      "cell_type": "markdown",
      "metadata": {
        "id": "AKDPjTvKobY_",
        "pycharm": {
          "name": "#%% md\n"
        }
      },
      "source": [
        "Some of the arguments include:\n",
        "\n",
        "* `tau`:  the RC time constant of the circuit. By default, the input features are treated as a constant current injected into an RC circuit. A higher ``tau`` will induce slower firing.\n",
        "* `threshold`: the membrane potential firing threshold. Input values below this threshold do not have a closed-form solution, as the input current is insufficient to drive the membrane up to the threshold. All values below the threshold are clipped and assigned to the final time step."
      ]
    },
    {
      "cell_type": "markdown",
      "metadata": {
        "id": "VGH7b49SobY_",
        "pycharm": {
          "name": "#%% md\n"
        }
      },
      "source": [
        "#### 2.3.1 Raster plot"
      ]
    },
    {
      "cell_type": "code",
      "execution_count": 25,
      "metadata": {
        "id": "kypMtfF7obY_",
        "pycharm": {
          "name": "#%%\n"
        },
        "outputId": "c7bb63b1-4b5b-47b8-df97-72569b53fa1d",
        "colab": {
          "base_uri": "https://localhost:8080/",
          "height": 487
        }
      },
      "outputs": [
        {
          "output_type": "display_data",
          "data": {
            "text/plain": [
              "<Figure size 1000x500 with 1 Axes>"
            ],
            "image/png": "[encoded data removed]"
          },
          "metadata": {}
        }
      ],
      "source": [
        "fig = plt.figure(facecolor=\"w\", figsize=(10, 5))\n",
        "ax = fig.add_subplot(111)\n",
        "splt.raster(spike_data[:, 0].view(num_steps, -1), ax, s=25, c=\"black\")\n",
        "\n",
        "plt.title(\"Input Layer\")\n",
        "plt.xlabel(\"Time step\")\n",
        "plt.ylabel(\"Neuron Number\")\n",
        "plt.show()\n",
        "\n",
        "# optional save\n",
        "# fig.savefig('destination_path.png', format='png', dpi=300)"
      ]
    },
    {
      "cell_type": "markdown",
      "metadata": {
        "id": "Hm1--DHYobZA",
        "pycharm": {
          "name": "#%% md\n"
        }
      },
      "source": [
        "To make sense of the raster plot, note that high intensity features fire first, whereas low intensity features fire last:\n",
        "\n",
        "<center>\n",
        "<img src='https://github.com/jeshraghian/snntorch/blob/master/docs/_static/img/examples/tutorial1/1_2_5_latencyraster.png?raw=true' width=\"800\">\n",
        "</center>\n",
        "\n",
        "The logarithmic code coupled with the lack of diverse input values (i.e., the lack of midtone/grayscale features) causes significant clustering in two areas of the plot.\n",
        "The bright pixels induce firing at the start of the run, and the dark pixels at the end.\n",
        "We can increase `tau` to slow down the spike times, or linearize the spike times by setting the optional argument `linear=True`."
      ]
    },
    {
      "cell_type": "code",
      "execution_count": 26,
      "metadata": {
        "id": "ZX8azDNWobZA",
        "pycharm": {
          "name": "#%%\n"
        },
        "outputId": "c181df5a-df88-4ad9-9602-f3a104228fde",
        "colab": {
          "base_uri": "https://localhost:8080/",
          "height": 487
        }
      },
      "outputs": [
        {
          "output_type": "display_data",
          "data": {
            "text/plain": [
              "<Figure size 1000x500 with 1 Axes>"
            ],
            "image/png": "[encoded data removed]"
          },
          "metadata": {}
        }
      ],
      "source": [
        "spike_data = spikegen.latency(data_it, num_steps=100, tau=5, threshold=0.01, linear=True)\n",
        "\n",
        "fig = plt.figure(facecolor=\"w\", figsize=(10, 5))\n",
        "ax = fig.add_subplot(111)\n",
        "splt.raster(spike_data[:, 0].view(num_steps, -1), ax, s=25, c=\"black\")\n",
        "plt.title(\"Input Layer\")\n",
        "plt.xlabel(\"Time step\")\n",
        "plt.ylabel(\"Neuron Number\")\n",
        "plt.show()"
      ]
    },
    {
      "cell_type": "markdown",
      "metadata": {
        "id": "pZuk6g3NobZB",
        "pycharm": {
          "name": "#%% md\n"
        }
      },
      "source": [
        "The spread of firing times is much more evenly distributed now. This is achieved by linearizing the logarithmic equation according to the rules shown below. Unlike the RC model, there is no physical basis for the model. It's just simpler.\n",
        "\n",
        "<center>\n",
        "<img src='https://github.com/jeshraghian/snntorch/blob/master/docs/_static/img/examples/tutorial1/1_2_6_latencylinear.png?raw=true' width=\"600\">\n",
        "</center>\n",
        "\n",
        "\n",
        "But note how all firing occurs within the first ~5 time steps, whereas the simulation range is 100 time steps.\n",
        "This indicates that we have a lot of redundant time steps doing nothing. This can be solved by either increasing `tau` to slow down the time constant, or setting the optional argument `normalize=True` to span the full range of `num_steps`."
      ]
    },
    {
      "cell_type": "code",
      "execution_count": 27,
      "metadata": {
        "id": "RLgntdwSobZB",
        "pycharm": {
          "name": "#%%\n"
        },
        "outputId": "f9a630ce-6b47-4bce-bd09-8a2711d0b648",
        "colab": {
          "base_uri": "https://localhost:8080/",
          "height": 487
        }
      },
      "outputs": [
        {
          "output_type": "display_data",
          "data": {
            "text/plain": [
              "<Figure size 1000x500 with 1 Axes>"
            ],
            "image/png": "[encoded data removed]"
          },
          "metadata": {}
        }
      ],
      "source": [
        "spike_data = spikegen.latency(data_it, num_steps=100, tau=5, threshold=0.01,\n",
        "                              normalize=True, linear=True)\n",
        "\n",
        "fig = plt.figure(facecolor=\"w\", figsize=(10, 5))\n",
        "ax = fig.add_subplot(111)\n",
        "splt.raster(spike_data[:, 0].view(num_steps, -1), ax, s=25, c=\"black\")\n",
        "\n",
        "plt.title(\"Input Layer\")\n",
        "plt.xlabel(\"Time step\")\n",
        "plt.ylabel(\"Neuron Number\")\n",
        "plt.show()"
      ]
    },
    {
      "cell_type": "markdown",
      "metadata": {
        "id": "1EFIqaylobZC",
        "pycharm": {
          "name": "#%% md\n"
        }
      },
      "source": [
        "One major advantage of latency coding over rate coding is sparsity. If neurons are constrained to firing a maximum of once over the time course of interest, then this promotes low-power operation.\n",
        "\n",
        "In the scenario shown above, a majority of the spikes occur at the final time step, where the input features fall below the threshold. In a sense, the dark background of the MNIST sample holds no useful information.\n",
        "\n",
        "We can remove these redundant features by setting `clip=True`."
      ]
    },
    {
      "cell_type": "code",
      "execution_count": 28,
      "metadata": {
        "id": "uowgb4FPobZC",
        "pycharm": {
          "name": "#%%\n"
        },
        "outputId": "53eebd5a-62de-44ac-dba6-d40e5dcf6e84",
        "colab": {
          "base_uri": "https://localhost:8080/",
          "height": 487
        }
      },
      "outputs": [
        {
          "output_type": "display_data",
          "data": {
            "text/plain": [
              "<Figure size 1000x500 with 1 Axes>"
            ],
            "image/png": "[encoded data removed]"
          },
          "metadata": {}
        }
      ],
      "source": [
        "spike_data = spikegen.latency(data_it, num_steps=100, tau=5, threshold=0.01,\n",
        "                              clip=True, normalize=True, linear=True)\n",
        "\n",
        "fig = plt.figure(facecolor=\"w\", figsize=(10, 5))\n",
        "ax = fig.add_subplot(111)\n",
        "splt.raster(spike_data[:, 0].view(num_steps, -1), ax, s=25, c=\"black\")\n",
        "\n",
        "plt.title(\"Input Layer\")\n",
        "plt.xlabel(\"Time step\")\n",
        "plt.ylabel(\"Neuron Number\")\n",
        "plt.show()"
      ]
    },
    {
      "cell_type": "markdown",
      "metadata": {
        "id": "W7gN02QOobZC",
        "pycharm": {
          "name": "#%% md\n"
        }
      },
      "source": [
        "That looks much better!"
      ]
    },
    {
      "cell_type": "markdown",
      "metadata": {
        "id": "XG9erdfxobZD",
        "pycharm": {
          "name": "#%% md\n"
        }
      },
      "source": [
        "#### 2.3.2 Animation\n",
        "We will run the exact same code block as before to create an animation."
      ]
    },
    {
      "cell_type": "code",
      "execution_count": null,
      "metadata": {
        "id": "BjLC1Pl_obZD",
        "pycharm": {
          "name": "#%%\n"
        }
      },
      "outputs": [],
      "source": [
        "spike_data_sample = spike_data[:, 0, 0]\n",
        "print(spike_data_sample.size())"
      ]
    },
    {
      "cell_type": "code",
      "execution_count": null,
      "metadata": {
        "id": "uwVwMVpzobZD",
        "pycharm": {
          "name": "#%%\n"
        }
      },
      "outputs": [],
      "source": [
        "fig, ax = plt.subplots()\n",
        "anim = splt.animator(spike_data_sample, fig, ax)\n",
        "\n",
        "HTML(anim.to_html5_video())"
      ]
    },
    {
      "cell_type": "markdown",
      "metadata": {
        "id": "FONW5DIkobZE",
        "pycharm": {
          "name": "#%% md\n"
        }
      },
      "source": [
        "This animation is obviously much tougher to make out in video form, but a keen eye will be able to catch a glimpse of the initial frame where most of the spikes occur.\n",
        "Index into the corresponding target value to check its value."
      ]
    },
    {
      "cell_type": "code",
      "execution_count": null,
      "metadata": {
        "id": "VgNLaB90obZD",
        "pycharm": {
          "name": "#%%\n"
        }
      },
      "outputs": [],
      "source": [
        "# Save output: .gif, .mp4 etc.\n",
        "# anim.save(\"mnist_latency.gif\")"
      ]
    },
    {
      "cell_type": "code",
      "execution_count": null,
      "metadata": {
        "id": "wrqfPu43obZE",
        "pycharm": {
          "name": "#%%\n"
        }
      },
      "outputs": [],
      "source": [
        "print(targets_it[0])"
      ]
    },
    {
      "cell_type": "markdown",
      "metadata": {
        "id": "sl93G7LwnG67"
      },
      "source": [
        "That's it for the `spikegen.latency` function. Further information [can be found in the documentation here](https://snntorch.readthedocs.io/en/latest/snntorch.spikegen.html)."
      ]
    },
    {
      "cell_type": "markdown",
      "metadata": {
        "id": "Uxe0msNpmpcN"
      },
      "source": [
        "### 2.4 Delta Modulation\n",
        "There are theories that the retina is adaptive: it will only process information when there is something new to process. If there is no change in your field of view, then your photoreceptor cells are  less prone to firing.\n",
        "\n",
        "That is to say: **biology is event-driven**. Neurons thrive on change.\n",
        "\n",
        "As a nifty example, a few researchers have dedicated their lives to designing retina-inspired image sensors, for example, the [Dynamic Vision Sensor](https://ieeexplore.ieee.org/abstract/document/7128412/). Although [the attached link is from over a decade ago, the work in this video](https://www.youtube.com/watch?v=6eOM15U_t1M&ab_channel=TobiDelbruck) was ahead of its time.\n",
        "\n",
        "Delta modulation is based on event-driven spiking. The `snntorch.delta` function accepts a time-series tensor as input. It takes the difference between each subsequent feature across all time steps. By default, if the difference is both *positive* and *greater than the threshold $V_{thr}$*, a spike is generated:\n",
        "\n",
        "<center>\n",
        "<img src='https://github.com/jeshraghian/snntorch/blob/master/docs/_static/img/examples/tutorial1/1_2_7_delta.png?raw=true' width=\"600\">\n",
        "</center>\n",
        "\n",
        "To illustrate, let's first come up with a contrived example where we create our own input tensor."
      ]
    },
    {
      "cell_type": "code",
      "execution_count": null,
      "metadata": {
        "id": "0AOr1kN-r4n-"
      },
      "outputs": [],
      "source": [
        "# Create a tensor with some fake time-series data\n",
        "data = torch.Tensor([0, 1, 0, 2, 8, -20, 20, -5, 0, 1, 0])\n",
        "\n",
        "# Plot the tensor\n",
        "plt.plot(data)\n",
        "\n",
        "plt.title(\"Some fake time-series data\")\n",
        "plt.xlabel(\"Time step\")\n",
        "plt.ylabel(\"Voltage (mV)\")\n",
        "plt.show()"
      ]
    },
    {
      "cell_type": "markdown",
      "metadata": {
        "id": "Ih_UJ526tJPo"
      },
      "source": [
        "Pass the above tensor into the `spikegen.delta` function, with an arbitrarily selected `threshold=4`:"
      ]
    },
    {
      "cell_type": "code",
      "execution_count": null,
      "metadata": {
        "id": "WSNI1zGdtHac"
      },
      "outputs": [],
      "source": [
        "# Convert data\n",
        "spike_data = spikegen.delta(data, threshold=4)\n",
        "\n",
        "# Create fig, ax\n",
        "fig = plt.figure(facecolor=\"w\", figsize=(8, 1))\n",
        "ax = fig.add_subplot(111)\n",
        "\n",
        "# Raster plot of delta converted data\n",
        "splt.raster(spike_data, ax, c=\"black\")\n",
        "\n",
        "plt.title(\"Input Neuron\")\n",
        "plt.xlabel(\"Time step\")\n",
        "plt.yticks([])\n",
        "plt.xlim(0, len(data))\n",
        "plt.show()"
      ]
    },
    {
      "cell_type": "markdown",
      "metadata": {
        "id": "dlmCwN40uPLq"
      },
      "source": [
        "There are three time steps where the difference between $data[T]$ and $data[T+1]$ is greater than or equal to $V_{thr}=4$. This means there are three *on-spikes*.\n",
        "\n",
        "The large dip to $-20$ has not been captured above. If negative swings have importance in your data, you can enable the optional argument `off_spike=True`."
      ]
    },
    {
      "cell_type": "code",
      "execution_count": null,
      "metadata": {
        "id": "WMrUGhRnuN8e"
      },
      "outputs": [],
      "source": [
        "# Convert data\n",
        "spike_data = spikegen.delta(data, threshold=4, off_spike=True)\n",
        "\n",
        "# Create fig, ax\n",
        "fig = plt.figure(facecolor=\"w\", figsize=(8, 1))\n",
        "ax = fig.add_subplot(111)\n",
        "\n",
        "# Raster plot of delta converted data\n",
        "splt.raster(spike_data, ax, c=\"black\")\n",
        "\n",
        "plt.title(\"Input Neuron\")\n",
        "plt.xlabel(\"Time step\")\n",
        "plt.yticks([])\n",
        "plt.xlim(0, len(data))\n",
        "plt.show()"
      ]
    },
    {
      "cell_type": "markdown",
      "metadata": {
        "id": "S_5FajsDvnEw"
      },
      "source": [
        "We've generated additional spikes, but this isn't actually the full picture!\n",
        "\n",
        "Printing out the tensor will show the presence of \"off-spikes\" which take on a value of `-1`."
      ]
    },
    {
      "cell_type": "code",
      "execution_count": null,
      "metadata": {
        "id": "9deHKE2zxGA5"
      },
      "outputs": [],
      "source": [
        "print(spike_data)"
      ]
    },
    {
      "cell_type": "markdown",
      "metadata": {
        "id": "-Nz32V0fxm2d"
      },
      "source": [
        "While `spikegen.delta` has only been demonstrated on a fake sample of data, its true use is to compress time-series data by only generating spikes for sufficiently large changes/events.\n",
        "\n",
        "That wraps up the three main spike conversion functions! There are still additional features to each of the three conversion techniques that have not been detailed in this tutorial. In particular, we have only looked at encoding input data; we have not considered how we might encode targets, and when that is necessary. We recommend [referring to the documentation for a deeper dive](https://snntorch.readthedocs.io/en/latest/snntorch.spikegen.html)."
      ]
    },
    {
      "cell_type": "markdown",
      "metadata": {
        "id": "mxrGoLIjobZE",
        "pycharm": {
          "name": "#%% md\n"
        }
      },
      "source": [
        "## 3. Spike Generation (Optional)\n",
        "Now what if we don't actually have any data to start with?\n",
        "Say we just want a randomly generated spike train from scratch. Inside of\n",
        "`spikegen.rate` is a nested function, `rate_conv`, which actually performs the  spike conversion step.\n",
        "\n",
        "All we have to do is initialize a randomly generated `torchTensor` to pass in."
      ]
    },
    {
      "cell_type": "code",
      "execution_count": null,
      "metadata": {
        "id": "-Q_7uj0vobZE",
        "pycharm": {
          "name": "#%%\n"
        }
      },
      "outputs": [],
      "source": [
        "# Create a random spike train\n",
        "spike_prob = torch.rand((num_steps, 28, 28), dtype=dtype) * 0.5\n",
        "spike_rand = spikegen.rate_conv(spike_prob)"
      ]
    },
    {
      "cell_type": "markdown",
      "metadata": {
        "id": "KOy-NZ5YobZF",
        "pycharm": {
          "name": "#%% md\n"
        }
      },
      "source": [
        "### 3.1 Animation"
      ]
    },
    {
      "cell_type": "code",
      "execution_count": null,
      "metadata": {
        "id": "yCIwKN0WobZF",
        "pycharm": {
          "name": "#%%\n"
        }
      },
      "outputs": [],
      "source": [
        "fig, ax = plt.subplots()\n",
        "anim = splt.animator(spike_rand, fig, ax)\n",
        "\n",
        "HTML(anim.to_html5_video())"
      ]
    },
    {
      "cell_type": "code",
      "execution_count": null,
      "metadata": {
        "id": "kx-VKWxFobZF",
        "pycharm": {
          "name": "#%%\n"
        }
      },
      "outputs": [],
      "source": [
        "# Save output: .gif, .mp4 etc.\n",
        "# anim.save(\"random_spikes.gif\")"
      ]
    },
    {
      "cell_type": "markdown",
      "metadata": {
        "id": "C_IH912xobZF",
        "pycharm": {
          "name": "#%% md\n"
        }
      },
      "source": [
        "### 3.2 Raster"
      ]
    },
    {
      "cell_type": "code",
      "execution_count": null,
      "metadata": {
        "id": "F6QgcKCrobZF",
        "pycharm": {
          "name": "#%%\n"
        }
      },
      "outputs": [],
      "source": [
        "fig = plt.figure(facecolor=\"w\", figsize=(10, 5))\n",
        "ax = fig.add_subplot(111)\n",
        "splt.raster(spike_rand[:, 0].view(num_steps, -1), ax, s=25, c=\"black\")\n",
        "\n",
        "plt.title(\"Input Layer\")\n",
        "plt.xlabel(\"Time step\")\n",
        "plt.ylabel(\"Neuron Number\")\n",
        "plt.show()"
      ]
    },
    {
      "cell_type": "markdown",
      "metadata": {
        "id": "QwEXpWkRy8_N"
      },
      "source": [
        "# Conclusion"
      ]
    },
    {
      "cell_type": "markdown",
      "metadata": {
        "id": "N-SsITWKobZF",
        "pycharm": {
          "name": "#%% md\n"
        }
      },
      "source": [
        "That's it for spike conversion and generation.\n",
        "This approach generalizes beyond images, to single-dimensional and multi-dimensional tensors.\n",
        "\n",
        "For reference, the documentation for [`spikegen` can be found here](https://snntorch.readthedocs.io/en/latest/snntorch.spikegen.html) and for [`spikeplot`, here](https://snntorch.readthedocs.io/en/latest/snntorch.spikeplot.html)\n",
        "\n",
        "[In the next tutorial](https://snntorch.readthedocs.io/en/latest/tutorials/index.html), you will learn the basics of spiking neurons and how to use them.\n",
        "\n",
        "If you like this project, please consider starring ⭐ the repo on GitHub as it is the easiest and best way to support it."
      ]
    },
    {
      "cell_type": "markdown",
      "metadata": {
        "id": "4kqa7lZyWzet"
      },
      "source": [
        "# Additional Resources\n",
        "\n",
        "* [Check out the snnTorch GitHub project here.](https://github.com/jeshraghian/snntorch)"
      ]
    }
  ],
  "metadata": {
    "accelerator": "GPU",
    "colab": {
      "collapsed_sections": [
        "9QXsrr6Mp5e_",
        "1EWDw3bip8Ie",
        "vFM8UV9CreIX",
        "xXkTAJ9ws1Y6",
        "OgkWg605tE1y",
        "OBt0WDzyujnk",
        "xC96eesMqYo-",
        "mszPTrYOluym",
        "VTHK-wAWV57B"
      ],
      "name": "snntorch_tutorial_1.ipynb",
      "provenance": []
    },
    "interpreter": {
      "hash": "579503e60735c0b0ad61cf404d04af89041cf694c55fa4cc17d05f5d9b483dbc"
    },
    "kernelspec": {
      "display_name": "Python 3 (ipykernel)",
      "language": "python",
      "name": "python3"
    },
    "language_info": {
      "codemirror_mode": {
        "name": "ipython",
        "version": 3
      },
      "file_extension": ".py",
      "mimetype": "text/x-python",
      "name": "python",
      "nbconvert_exporter": "python",
      "pygments_lexer": "ipython3",
      "version": "3.9.5"
    }
  },
  "nbformat": 4,
  "nbformat_minor": 0
}